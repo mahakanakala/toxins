{
 "cells": [
  {
   "cell_type": "markdown",
   "metadata": {},
   "source": [
    "## This notebook will utilize the dynamic and interactive library [Plotly](https://plotly.com/)\n",
    "\n",
    "-> During wesbite development, [Docpane](https://docs.datapane.com/) will be used to display the interactive plots in the website"
   ]
  },
  {
   "cell_type": "code",
   "execution_count": 129,
   "metadata": {},
   "outputs": [],
   "source": [
    "import pandas as pd\n",
    "import numpy as np\n",
    "import matplotlib.pyplot as plt\n",
    "import matplotlib.ticker as ticker\n",
    "%matplotlib inline\n",
    "import scipy as sp\n",
    "\n",
    "import plotly.express as px\n",
    "import plotly.graph_objs as go\n",
    "import plotly.io as pio\n",
    "import plotly.offline as pyo"
   ]
  },
  {
   "cell_type": "code",
   "execution_count": 130,
   "metadata": {},
   "outputs": [
    {
     "data": {
      "text/html": [
       "<div>\n",
       "<style scoped>\n",
       "    .dataframe tbody tr th:only-of-type {\n",
       "        vertical-align: middle;\n",
       "    }\n",
       "\n",
       "    .dataframe tbody tr th {\n",
       "        vertical-align: top;\n",
       "    }\n",
       "\n",
       "    .dataframe thead th {\n",
       "        text-align: right;\n",
       "    }\n",
       "</style>\n",
       "<table border=\"1\" class=\"dataframe\">\n",
       "  <thead>\n",
       "    <tr style=\"text-align: right;\">\n",
       "      <th></th>\n",
       "      <th>Label</th>\n",
       "      <th>Brand</th>\n",
       "      <th>Name</th>\n",
       "      <th>Price</th>\n",
       "      <th>Rank</th>\n",
       "      <th>Ingredients</th>\n",
       "      <th>Combination</th>\n",
       "      <th>Dry</th>\n",
       "      <th>Normal</th>\n",
       "      <th>Oily</th>\n",
       "      <th>Sensitive</th>\n",
       "    </tr>\n",
       "  </thead>\n",
       "  <tbody>\n",
       "    <tr>\n",
       "      <th>0</th>\n",
       "      <td>Moisturizer</td>\n",
       "      <td>LA MER</td>\n",
       "      <td>Crème de la Mer</td>\n",
       "      <td>175</td>\n",
       "      <td>4.1</td>\n",
       "      <td>Algae (Seaweed) Extract, Mineral Oil, Petrolat...</td>\n",
       "      <td>1</td>\n",
       "      <td>1</td>\n",
       "      <td>1</td>\n",
       "      <td>1</td>\n",
       "      <td>1</td>\n",
       "    </tr>\n",
       "    <tr>\n",
       "      <th>1</th>\n",
       "      <td>Moisturizer</td>\n",
       "      <td>SK-II</td>\n",
       "      <td>Facial Treatment Essence</td>\n",
       "      <td>179</td>\n",
       "      <td>4.1</td>\n",
       "      <td>Galactomyces Ferment Filtrate (Pitera), Butyle...</td>\n",
       "      <td>1</td>\n",
       "      <td>1</td>\n",
       "      <td>1</td>\n",
       "      <td>1</td>\n",
       "      <td>1</td>\n",
       "    </tr>\n",
       "    <tr>\n",
       "      <th>2</th>\n",
       "      <td>Moisturizer</td>\n",
       "      <td>DRUNK ELEPHANT</td>\n",
       "      <td>Protini™ Polypeptide Cream</td>\n",
       "      <td>68</td>\n",
       "      <td>4.4</td>\n",
       "      <td>Water, Dicaprylyl Carbonate, Glycerin, Ceteary...</td>\n",
       "      <td>1</td>\n",
       "      <td>1</td>\n",
       "      <td>1</td>\n",
       "      <td>1</td>\n",
       "      <td>0</td>\n",
       "    </tr>\n",
       "    <tr>\n",
       "      <th>3</th>\n",
       "      <td>Moisturizer</td>\n",
       "      <td>LA MER</td>\n",
       "      <td>The Moisturizing Soft Cream</td>\n",
       "      <td>175</td>\n",
       "      <td>3.8</td>\n",
       "      <td>Algae (Seaweed) Extract, Cyclopentasiloxane, P...</td>\n",
       "      <td>1</td>\n",
       "      <td>1</td>\n",
       "      <td>1</td>\n",
       "      <td>1</td>\n",
       "      <td>1</td>\n",
       "    </tr>\n",
       "    <tr>\n",
       "      <th>4</th>\n",
       "      <td>Moisturizer</td>\n",
       "      <td>IT COSMETICS</td>\n",
       "      <td>Your Skin But Better™ CC+™ Cream with SPF 50+</td>\n",
       "      <td>38</td>\n",
       "      <td>4.1</td>\n",
       "      <td>Water, Snail Secretion Filtrate, Phenyl Trimet...</td>\n",
       "      <td>1</td>\n",
       "      <td>1</td>\n",
       "      <td>1</td>\n",
       "      <td>1</td>\n",
       "      <td>1</td>\n",
       "    </tr>\n",
       "  </tbody>\n",
       "</table>\n",
       "</div>"
      ],
      "text/plain": [
       "         Label           Brand                                           Name  \\\n",
       "0  Moisturizer          LA MER                                Crème de la Mer   \n",
       "1  Moisturizer           SK-II                       Facial Treatment Essence   \n",
       "2  Moisturizer  DRUNK ELEPHANT                     Protini™ Polypeptide Cream   \n",
       "3  Moisturizer          LA MER                    The Moisturizing Soft Cream   \n",
       "4  Moisturizer    IT COSMETICS  Your Skin But Better™ CC+™ Cream with SPF 50+   \n",
       "\n",
       "   Price  Rank                                        Ingredients  \\\n",
       "0    175   4.1  Algae (Seaweed) Extract, Mineral Oil, Petrolat...   \n",
       "1    179   4.1  Galactomyces Ferment Filtrate (Pitera), Butyle...   \n",
       "2     68   4.4  Water, Dicaprylyl Carbonate, Glycerin, Ceteary...   \n",
       "3    175   3.8  Algae (Seaweed) Extract, Cyclopentasiloxane, P...   \n",
       "4     38   4.1  Water, Snail Secretion Filtrate, Phenyl Trimet...   \n",
       "\n",
       "   Combination  Dry  Normal  Oily  Sensitive  \n",
       "0            1    1       1     1          1  \n",
       "1            1    1       1     1          1  \n",
       "2            1    1       1     1          0  \n",
       "3            1    1       1     1          1  \n",
       "4            1    1       1     1          1  "
      ]
     },
     "execution_count": 130,
     "metadata": {},
     "output_type": "execute_result"
    }
   ],
   "source": [
    "df = pd.read_csv('../data/raw/cosmetics.csv')\n",
    "df.head()"
   ]
  },
  {
   "cell_type": "markdown",
   "metadata": {},
   "source": [
    "### Circos graph used to visualize the relationship between the high end brand companies that utilize"
   ]
  },
  {
   "cell_type": "code",
   "execution_count": 131,
   "metadata": {},
   "outputs": [],
   "source": [
    "# c = circos.Circos()\n",
    "# c.track(\"data\", \"../references/clean_products.txt\")\n",
    "# c.plot(\"circos.png\", dpi=150)"
   ]
  },
  {
   "cell_type": "markdown",
   "metadata": {},
   "source": [
    "### First we need to create a mini dataframe that stores all of the categories (low, moderate, high) using the generated txt [files](../references) "
   ]
  },
  {
   "cell_type": "code",
   "execution_count": 132,
   "metadata": {},
   "outputs": [
    {
     "data": {
      "text/html": [
       "<div>\n",
       "<style scoped>\n",
       "    .dataframe tbody tr th:only-of-type {\n",
       "        vertical-align: middle;\n",
       "    }\n",
       "\n",
       "    .dataframe tbody tr th {\n",
       "        vertical-align: top;\n",
       "    }\n",
       "\n",
       "    .dataframe thead th {\n",
       "        text-align: right;\n",
       "    }\n",
       "</style>\n",
       "<table border=\"1\" class=\"dataframe\">\n",
       "  <thead>\n",
       "    <tr style=\"text-align: right;\">\n",
       "      <th></th>\n",
       "      <th>Toxin</th>\n",
       "      <th>Product</th>\n",
       "    </tr>\n",
       "  </thead>\n",
       "  <tbody>\n",
       "    <tr>\n",
       "      <th>0</th>\n",
       "      <td>Ethanolamine</td>\n",
       "      <td>No products found</td>\n",
       "    </tr>\n",
       "    <tr>\n",
       "      <th>1</th>\n",
       "      <td>Oxybenzone</td>\n",
       "      <td>No products found</td>\n",
       "    </tr>\n",
       "    <tr>\n",
       "      <th>3</th>\n",
       "      <td>Oxybenzone</td>\n",
       "      <td>Camera Ready CC Cream Broad Spectrum SPF 30 Da...</td>\n",
       "    </tr>\n",
       "    <tr>\n",
       "      <th>4</th>\n",
       "      <td>Oxybenzone</td>\n",
       "      <td>Lingerie de Peau BB Cream</td>\n",
       "    </tr>\n",
       "    <tr>\n",
       "      <th>5</th>\n",
       "      <td>Oxybenzone</td>\n",
       "      <td>Exfoliating Scrub</td>\n",
       "    </tr>\n",
       "    <tr>\n",
       "      <th>6</th>\n",
       "      <td>Oxybenzone</td>\n",
       "      <td>Hydra Life BB Creme Broad Spectrum SPF 30</td>\n",
       "    </tr>\n",
       "    <tr>\n",
       "      <th>7</th>\n",
       "      <td>Oxybenzone</td>\n",
       "      <td>The Broad Spectrum SPF 50 UV Protecting Fluid</td>\n",
       "    </tr>\n",
       "    <tr>\n",
       "      <th>8</th>\n",
       "      <td>Oxybenzone</td>\n",
       "      <td>Ultimate Sun Protection Spray Broad Spectrum S...</td>\n",
       "    </tr>\n",
       "    <tr>\n",
       "      <th>9</th>\n",
       "      <td>Oxybenzone</td>\n",
       "      <td>Broad Spectrum SPF 50 Sunscreen Face Cream</td>\n",
       "    </tr>\n",
       "    <tr>\n",
       "      <th>10</th>\n",
       "      <td>Oxybenzone</td>\n",
       "      <td>DayWear UV Base Advanced Anti-Oxidant &amp; UV Def...</td>\n",
       "    </tr>\n",
       "  </tbody>\n",
       "</table>\n",
       "</div>"
      ],
      "text/plain": [
       "           Toxin                                            Product\n",
       "0   Ethanolamine                                  No products found\n",
       "1     Oxybenzone                                  No products found\n",
       "3     Oxybenzone  Camera Ready CC Cream Broad Spectrum SPF 30 Da...\n",
       "4     Oxybenzone                          Lingerie de Peau BB Cream\n",
       "5     Oxybenzone                                  Exfoliating Scrub\n",
       "6     Oxybenzone          Hydra Life BB Creme Broad Spectrum SPF 30\n",
       "7     Oxybenzone      The Broad Spectrum SPF 50 UV Protecting Fluid\n",
       "8     Oxybenzone  Ultimate Sun Protection Spray Broad Spectrum S...\n",
       "9     Oxybenzone         Broad Spectrum SPF 50 Sunscreen Face Cream\n",
       "10    Oxybenzone  DayWear UV Base Advanced Anti-Oxidant & UV Def..."
      ]
     },
     "execution_count": 132,
     "metadata": {},
     "output_type": "execute_result"
    }
   ],
   "source": [
    "#LOW\n",
    "low_df = pd.read_csv('../references/low_hazard_products.txt', header=None)\n",
    "low_df['Toxin'] = low_df[0].str.extract(r'(No|Oxybenzone|Resorcinol|Formaldehyde|Diethanol|Silane|Siloxane|Octinaxate)', expand=True)\n",
    "low_df['Product'] = low_df[0].str.extract(r'\\d+ - (.*)', expand=True)\n",
    "low_df = low_df.drop(0, axis=1)\n",
    "\n",
    "# Replacing all \"NaN\" values with the correct Toxin name\n",
    "low_df.loc[0, 'Toxin'] = \"Ethanolamine\"\n",
    "low_df.loc[2:13,'Toxin'] = \"Oxybenzone\"\n",
    "low_df.loc[15, 'Toxin'] = \"Ethanolamine\"\n",
    "low_df.loc[16, 'Toxin'] = \"Formaldehyde\"\n",
    "low_df.loc[17, 'Toxin'] = \"Diethanol\"\n",
    "low_df.loc[19:67,'Toxin'] = \"Silane\"\n",
    "low_df.loc[69:71,'Toxin'] = \"Silane\"\n",
    "low_df.loc[72, 'Toxin'] = \"Octinaxate\"\n",
    "\n",
    "# Removing all unrelated 'NaN' values\n",
    "low_df = low_df.drop([2,14,18,68], axis=0)\n",
    "\n",
    "# Assigning the empty cells in 'Product' column to 'No products found'\n",
    "low_df['Product'].fillna('No products found', inplace=True)\n",
    "\n",
    "low_df.to_csv('../data/interim/low_hazard_data.csv')\n",
    "\n",
    "low_df.head(10)"
   ]
  },
  {
   "cell_type": "code",
   "execution_count": 133,
   "metadata": {},
   "outputs": [
    {
     "data": {
      "text/html": [
       "<div>\n",
       "<style scoped>\n",
       "    .dataframe tbody tr th:only-of-type {\n",
       "        vertical-align: middle;\n",
       "    }\n",
       "\n",
       "    .dataframe tbody tr th {\n",
       "        vertical-align: top;\n",
       "    }\n",
       "\n",
       "    .dataframe thead th {\n",
       "        text-align: right;\n",
       "    }\n",
       "</style>\n",
       "<table border=\"1\" class=\"dataframe\">\n",
       "  <thead>\n",
       "    <tr style=\"text-align: right;\">\n",
       "      <th></th>\n",
       "      <th>Toxin</th>\n",
       "      <th>Product</th>\n",
       "    </tr>\n",
       "  </thead>\n",
       "  <tbody>\n",
       "    <tr>\n",
       "      <th>0</th>\n",
       "      <td>Parfum</td>\n",
       "      <td>No products found</td>\n",
       "    </tr>\n",
       "    <tr>\n",
       "      <th>2</th>\n",
       "      <td>Parfum</td>\n",
       "      <td>Benefiance WrinkleResist24 Night Cream</td>\n",
       "    </tr>\n",
       "    <tr>\n",
       "      <th>3</th>\n",
       "      <td>Parfum</td>\n",
       "      <td>Goodnight Glow Retin-ALT Sleeping Crème</td>\n",
       "    </tr>\n",
       "    <tr>\n",
       "      <th>4</th>\n",
       "      <td>Parfum</td>\n",
       "      <td>Beauty Elixir</td>\n",
       "    </tr>\n",
       "    <tr>\n",
       "      <th>5</th>\n",
       "      <td>Parfum</td>\n",
       "      <td>The Silk Cream</td>\n",
       "    </tr>\n",
       "    <tr>\n",
       "      <th>6</th>\n",
       "      <td>Parfum</td>\n",
       "      <td>Vinosource Moisturizing Sorbet</td>\n",
       "    </tr>\n",
       "    <tr>\n",
       "      <th>7</th>\n",
       "      <td>Parfum</td>\n",
       "      <td>Luminous Dewy Skin Night Concentrate</td>\n",
       "    </tr>\n",
       "    <tr>\n",
       "      <th>8</th>\n",
       "      <td>Parfum</td>\n",
       "      <td>Seaberry Moisturizing Face Oil</td>\n",
       "    </tr>\n",
       "    <tr>\n",
       "      <th>9</th>\n",
       "      <td>Parfum</td>\n",
       "      <td>Renewed Hope in A Jar Refreshing &amp; Refining Mo...</td>\n",
       "    </tr>\n",
       "    <tr>\n",
       "      <th>10</th>\n",
       "      <td>Parfum</td>\n",
       "      <td>Cold Plasma Sub-D Firming Neck Treatment</td>\n",
       "    </tr>\n",
       "  </tbody>\n",
       "</table>\n",
       "</div>"
      ],
      "text/plain": [
       "     Toxin                                            Product\n",
       "0   Parfum                                  No products found\n",
       "2   Parfum             Benefiance WrinkleResist24 Night Cream\n",
       "3   Parfum            Goodnight Glow Retin-ALT Sleeping Crème\n",
       "4   Parfum                                      Beauty Elixir\n",
       "5   Parfum                                     The Silk Cream\n",
       "6   Parfum                     Vinosource Moisturizing Sorbet\n",
       "7   Parfum               Luminous Dewy Skin Night Concentrate\n",
       "8   Parfum                     Seaberry Moisturizing Face Oil\n",
       "9   Parfum  Renewed Hope in A Jar Refreshing & Refining Mo...\n",
       "10  Parfum           Cold Plasma Sub-D Firming Neck Treatment"
      ]
     },
     "execution_count": 133,
     "metadata": {},
     "output_type": "execute_result"
    }
   ],
   "source": [
    "#MODERATE\n",
    "mod_df = pd.read_csv('../references/mod_hazard_products.txt', header=None, sep='\\t')\n",
    "mod_df['Toxin'] = mod_df[0].str.extract(r'(No|Fragrance|Octinoxates|Homosalate|Teflon)', expand=True)\n",
    "mod_df['Product'] = mod_df[0].str.extract(r'\\d+ - (.*)', expand=True)\n",
    "mod_df = mod_df.drop(0, axis=1)\n",
    "\n",
    "mod_df.loc[0:132, 'Toxin'] = \"Parfum\"\n",
    "mod_df.loc[134:633,'Toxin'] = \"Fragrance\"\n",
    "mod_df.loc[133,'Toxin'] = \"Fragrance\"\n",
    "mod_df.loc[636:639, 'Toxin'] = \"Triclosan\"\n",
    "mod_df.loc[640:656, 'Toxin'] = \"Homosalate\"\n",
    "\n",
    "mod_df = mod_df.drop([1,132,634, 635, 653], axis=0)\n",
    "\n",
    "mod_df['Product'].fillna('No products found', inplace=True)\n",
    "\n",
    "mod_df.to_csv('../data/interim/mod_hazard_data.csv')\n",
    "\n",
    "mod_df.head(10)"
   ]
  },
  {
   "cell_type": "code",
   "execution_count": 134,
   "metadata": {},
   "outputs": [
    {
     "data": {
      "text/html": [
       "<div>\n",
       "<style scoped>\n",
       "    .dataframe tbody tr th:only-of-type {\n",
       "        vertical-align: middle;\n",
       "    }\n",
       "\n",
       "    .dataframe tbody tr th {\n",
       "        vertical-align: top;\n",
       "    }\n",
       "\n",
       "    .dataframe thead th {\n",
       "        text-align: right;\n",
       "    }\n",
       "</style>\n",
       "<table border=\"1\" class=\"dataframe\">\n",
       "  <thead>\n",
       "    <tr style=\"text-align: right;\">\n",
       "      <th></th>\n",
       "      <th>Toxin</th>\n",
       "      <th>Product</th>\n",
       "    </tr>\n",
       "  </thead>\n",
       "  <tbody>\n",
       "    <tr>\n",
       "      <th>1</th>\n",
       "      <td>Talc</td>\n",
       "      <td>CC Crème High Definition Radiance Face Cream S...</td>\n",
       "    </tr>\n",
       "    <tr>\n",
       "      <th>2</th>\n",
       "      <td>Talc</td>\n",
       "      <td>Bio-Performance Advanced Super Restoring Cream</td>\n",
       "    </tr>\n",
       "    <tr>\n",
       "      <th>3</th>\n",
       "      <td>Talc</td>\n",
       "      <td>Skin Perfecting Lotion - Blemish Prone/Oily Skin</td>\n",
       "    </tr>\n",
       "    <tr>\n",
       "      <th>4</th>\n",
       "      <td>Talc</td>\n",
       "      <td>Bio-Performance Glow Revival Cream</td>\n",
       "    </tr>\n",
       "    <tr>\n",
       "      <th>5</th>\n",
       "      <td>Talc</td>\n",
       "      <td>BB Crème au Ginseng</td>\n",
       "    </tr>\n",
       "    <tr>\n",
       "      <th>6</th>\n",
       "      <td>Talc</td>\n",
       "      <td>Black Label Detox BB Beauty Balm</td>\n",
       "    </tr>\n",
       "    <tr>\n",
       "      <th>7</th>\n",
       "      <td>Talc</td>\n",
       "      <td>Bio-Performance LiftDynamic Cream</td>\n",
       "    </tr>\n",
       "    <tr>\n",
       "      <th>8</th>\n",
       "      <td>Talc</td>\n",
       "      <td>Ibuki Beauty Sleeping Mask</td>\n",
       "    </tr>\n",
       "    <tr>\n",
       "      <th>9</th>\n",
       "      <td>Talc</td>\n",
       "      <td>Benefiance Extra Creamy Cleansing Foam</td>\n",
       "    </tr>\n",
       "    <tr>\n",
       "      <th>10</th>\n",
       "      <td>Talc</td>\n",
       "      <td>Pureness Deep Cleansing Foam</td>\n",
       "    </tr>\n",
       "  </tbody>\n",
       "</table>\n",
       "</div>"
      ],
      "text/plain": [
       "   Toxin                                            Product\n",
       "1   Talc  CC Crème High Definition Radiance Face Cream S...\n",
       "2   Talc     Bio-Performance Advanced Super Restoring Cream\n",
       "3   Talc   Skin Perfecting Lotion - Blemish Prone/Oily Skin\n",
       "4   Talc                 Bio-Performance Glow Revival Cream\n",
       "5   Talc                                BB Crème au Ginseng\n",
       "6   Talc                   Black Label Detox BB Beauty Balm\n",
       "7   Talc                  Bio-Performance LiftDynamic Cream\n",
       "8   Talc                         Ibuki Beauty Sleeping Mask\n",
       "9   Talc             Benefiance Extra Creamy Cleansing Foam\n",
       "10  Talc                       Pureness Deep Cleansing Foam"
      ]
     },
     "execution_count": 134,
     "metadata": {},
     "output_type": "execute_result"
    }
   ],
   "source": [
    "#HIGH\n",
    "high_df = pd.read_csv('../references/high_hazard_products.txt', header=None, sep='\\t')\n",
    "high_df['Toxin'] = high_df[0].str.extract(r'(No|Fragrance|Octinoxates|Homosalate|Teflon)', expand=True)\n",
    "high_df['Product'] = high_df[0].str.extract(r'\\d+ - (.*)', expand=True)\n",
    "high_df = high_df.drop(0, axis=1)\n",
    "\n",
    "high_df.loc[0, 'Toxin'] = \"Talc\"\n",
    "high_df.loc[1:29, 'Toxin'] = 'Talc'\n",
    "high_df.loc[32:188,'Toxin'] = \"Propylene Glycol\"\n",
    "\n",
    "high_df = high_df.drop([0,30,31], axis=0)\n",
    "\n",
    "high_df['Product'].fillna('No products found', inplace=True)\n",
    "\n",
    "high_df.to_csv('../data/interim/high_hazard_data.csv')\n",
    "\n",
    "high_df.head(10)"
   ]
  },
  {
   "cell_type": "markdown",
   "metadata": {},
   "source": [
    "## Toxic dataframe\n",
    "Combine all three toxicities to form a combined dataframe with low, moderate, and high hazard products"
   ]
  },
  {
   "cell_type": "code",
   "execution_count": 135,
   "metadata": {},
   "outputs": [],
   "source": [
    "font_paths = {\n",
    "    \"Redaction\": '../src/fonts/redaction-cufonfonts/Redaction-mL8P5.otf',\n",
    "    \"Redaction_Italics\" : '../src/fonts/redaction-cufonfonts/Redaction50Italic-2ODWo.otf',\n",
    "    \"Redaction_Bold\" : '../src/fonts/redaction-cufonfonts/Redaction50Bold-vmXRL.otf',\n",
    "    \"Redaction_Blur\": \"../src/fonts/redaction-cufonfonts/Redaction50-8Mg4n.otf\",\n",
    "    \"Playfair_Display\" : '../src/fonts/PlayfairDisplay-Regular.ttf'\n",
    "}\n",
    "\n",
    "def get_font_prop(font_name):\n",
    "    font_path = font_paths[font_name]\n",
    "    return matplotlib.font_manager.FontProperties(fname=font_path)"
   ]
  },
  {
   "cell_type": "markdown",
   "metadata": {},
   "source": [
    "### [Sunburst Plot](https://plotly.com/python/sunburst-charts/#basic-sunburst-plot-with-plotlyexpress) of the three different categories of hazardness\n",
    "- Low\n",
    "- Moderate\n",
    "- High"
   ]
  },
  {
   "cell_type": "code",
   "execution_count": 136,
   "metadata": {},
   "outputs": [
    {
     "data": {
      "text/html": [
       "<div>\n",
       "<style scoped>\n",
       "    .dataframe tbody tr th:only-of-type {\n",
       "        vertical-align: middle;\n",
       "    }\n",
       "\n",
       "    .dataframe tbody tr th {\n",
       "        vertical-align: top;\n",
       "    }\n",
       "\n",
       "    .dataframe thead th {\n",
       "        text-align: right;\n",
       "    }\n",
       "</style>\n",
       "<table border=\"1\" class=\"dataframe\">\n",
       "  <thead>\n",
       "    <tr style=\"text-align: right;\">\n",
       "      <th></th>\n",
       "      <th>Unnamed: 0</th>\n",
       "      <th>Toxin</th>\n",
       "      <th>Product</th>\n",
       "    </tr>\n",
       "  </thead>\n",
       "  <tbody>\n",
       "    <tr>\n",
       "      <th>0</th>\n",
       "      <td>0</td>\n",
       "      <td>Ethanolamine</td>\n",
       "      <td>No products found</td>\n",
       "    </tr>\n",
       "    <tr>\n",
       "      <th>1</th>\n",
       "      <td>1</td>\n",
       "      <td>Oxybenzone</td>\n",
       "      <td>No products found</td>\n",
       "    </tr>\n",
       "    <tr>\n",
       "      <th>2</th>\n",
       "      <td>3</td>\n",
       "      <td>Oxybenzone</td>\n",
       "      <td>Camera Ready CC Cream Broad Spectrum SPF 30 Da...</td>\n",
       "    </tr>\n",
       "    <tr>\n",
       "      <th>3</th>\n",
       "      <td>4</td>\n",
       "      <td>Oxybenzone</td>\n",
       "      <td>Lingerie de Peau BB Cream</td>\n",
       "    </tr>\n",
       "    <tr>\n",
       "      <th>4</th>\n",
       "      <td>5</td>\n",
       "      <td>Oxybenzone</td>\n",
       "      <td>Exfoliating Scrub</td>\n",
       "    </tr>\n",
       "  </tbody>\n",
       "</table>\n",
       "</div>"
      ],
      "text/plain": [
       "   Unnamed: 0         Toxin                                            Product\n",
       "0           0  Ethanolamine                                  No products found\n",
       "1           1    Oxybenzone                                  No products found\n",
       "2           3    Oxybenzone  Camera Ready CC Cream Broad Spectrum SPF 30 Da...\n",
       "3           4    Oxybenzone                          Lingerie de Peau BB Cream\n",
       "4           5    Oxybenzone                                  Exfoliating Scrub"
      ]
     },
     "execution_count": 136,
     "metadata": {},
     "output_type": "execute_result"
    }
   ],
   "source": [
    "# read in the three dataframes\n",
    "low_hazard_data = pd.read_csv('../data/interim/low_hazard_data.csv')\n",
    "mod_hazard_data = pd.read_csv('../data/interim/mod_hazard_data.csv')\n",
    "high_hazard_data = pd.read_csv('../data/interim/high_hazard_data.csv')\n",
    "\n",
    "# concatenate the three dataframes into a single dataframe\n",
    "df = pd.concat([low_hazard_data, mod_hazard_data, high_hazard_data])\n",
    "df.head()\n",
    "# create the sunburst chart\n",
    "# fig = px.sunburst(\n",
    "#     df,\n",
    "#     names='toxic_category',\n",
    "#     parents='toxic_chemical',\n",
    "#     values='Product'\n",
    "# )\n",
    "\n",
    "# fig.show()"
   ]
  },
  {
   "cell_type": "markdown",
   "metadata": {},
   "source": [
    "### Cleanup the concated df\n",
    "\n",
    "- [ ] rename the `Unamed: 0` column to Index Number from ref\n",
    "- [ ] re-number the first column to go in increasing numerical order\n",
    "- [ ] remove \"No products found\""
   ]
  },
  {
   "cell_type": "code",
   "execution_count": 137,
   "metadata": {},
   "outputs": [
    {
     "data": {
      "text/html": [
       "<div>\n",
       "<style scoped>\n",
       "    .dataframe tbody tr th:only-of-type {\n",
       "        vertical-align: middle;\n",
       "    }\n",
       "\n",
       "    .dataframe tbody tr th {\n",
       "        vertical-align: top;\n",
       "    }\n",
       "\n",
       "    .dataframe thead th {\n",
       "        text-align: right;\n",
       "    }\n",
       "</style>\n",
       "<table border=\"1\" class=\"dataframe\">\n",
       "  <thead>\n",
       "    <tr style=\"text-align: right;\">\n",
       "      <th></th>\n",
       "      <th>Index Number Ref from Raw Data</th>\n",
       "      <th>Toxin</th>\n",
       "      <th>Product</th>\n",
       "    </tr>\n",
       "  </thead>\n",
       "  <tbody>\n",
       "    <tr>\n",
       "      <th>0</th>\n",
       "      <td>1</td>\n",
       "      <td>Talc</td>\n",
       "      <td>CC Crème High Definition Radiance Face Cream S...</td>\n",
       "    </tr>\n",
       "    <tr>\n",
       "      <th>1</th>\n",
       "      <td>2</td>\n",
       "      <td>Parfum</td>\n",
       "      <td>Benefiance WrinkleResist24 Night Cream</td>\n",
       "    </tr>\n",
       "    <tr>\n",
       "      <th>2</th>\n",
       "      <td>2</td>\n",
       "      <td>Talc</td>\n",
       "      <td>Bio-Performance Advanced Super Restoring Cream</td>\n",
       "    </tr>\n",
       "    <tr>\n",
       "      <th>3</th>\n",
       "      <td>3</td>\n",
       "      <td>Oxybenzone</td>\n",
       "      <td>Camera Ready CC Cream Broad Spectrum SPF 30 Da...</td>\n",
       "    </tr>\n",
       "    <tr>\n",
       "      <th>4</th>\n",
       "      <td>3</td>\n",
       "      <td>Parfum</td>\n",
       "      <td>Goodnight Glow Retin-ALT Sleeping Crème</td>\n",
       "    </tr>\n",
       "  </tbody>\n",
       "</table>\n",
       "</div>"
      ],
      "text/plain": [
       "   Index Number Ref from Raw Data       Toxin  \\\n",
       "0                               1        Talc   \n",
       "1                               2      Parfum   \n",
       "2                               2        Talc   \n",
       "3                               3  Oxybenzone   \n",
       "4                               3      Parfum   \n",
       "\n",
       "                                             Product  \n",
       "0  CC Crème High Definition Radiance Face Cream S...  \n",
       "1             Benefiance WrinkleResist24 Night Cream  \n",
       "2     Bio-Performance Advanced Super Restoring Cream  \n",
       "3  Camera Ready CC Cream Broad Spectrum SPF 30 Da...  \n",
       "4            Goodnight Glow Retin-ALT Sleeping Crème  "
      ]
     },
     "execution_count": 137,
     "metadata": {},
     "output_type": "execute_result"
    }
   ],
   "source": [
    "df = df.sort_values(by='Unnamed: 0') \n",
    "df = df[df['Product'].str.contains('No products found') == False]\n",
    "df = df.reset_index(drop=True)  \n",
    "df = df.rename(columns={'Unnamed: 0': 'Index Number Ref from Raw Data'}) \n",
    "\n",
    "df.head()\n",
    "\n",
    "# total_rows = df.shape[0]\n",
    "# print(\"Total number of rows:\", total_rows)\n"
   ]
  },
  {
   "cell_type": "markdown",
   "metadata": {},
   "source": [
    "### [Bar Charts](https://plotly.com/python/bar-charts/) of the three different categories of hazardness\n",
    "- Low\n",
    "- Moderate\n",
    "- High"
   ]
  },
  {
   "cell_type": "code",
   "execution_count": 138,
   "metadata": {},
   "outputs": [
    {
     "data": {
      "application/vnd.plotly.v1+json": {
       "config": {
        "plotlyServerURL": "https://plot.ly"
       },
       "data": [
        {
         "marker": {
          "color": "#db93b0"
         },
         "type": "bar",
         "x": [
          "Talc",
          "Parfum",
          "Talc",
          "Oxybenzone",
          "Parfum",
          "Talc",
          "Parfum",
          "Talc",
          "Oxybenzone",
          "Oxybenzone",
          "Parfum",
          "Talc",
          "Talc",
          "Oxybenzone",
          "Parfum",
          "Parfum",
          "Talc",
          "Oxybenzone",
          "Parfum",
          "Talc",
          "Oxybenzone",
          "Oxybenzone",
          "Talc",
          "Parfum",
          "Talc",
          "Parfum",
          "Oxybenzone",
          "Talc",
          "Parfum",
          "Oxybenzone",
          "Talc",
          "Oxybenzone",
          "Parfum",
          "Talc",
          "Oxybenzone",
          "Parfum",
          "Parfum",
          "Talc",
          "Ethanolamine",
          "Parfum",
          "Talc",
          "Parfum",
          "Talc",
          "Talc",
          "Parfum",
          "Talc",
          "Parfum",
          "Talc",
          "Silane",
          "Parfum",
          "Silane",
          "Talc",
          "Parfum",
          "Talc",
          "Silane",
          "Parfum",
          "Silane",
          "Talc",
          "Parfum",
          "Parfum",
          "Talc",
          "Silane",
          "Parfum",
          "Silane",
          "Talc",
          "Parfum",
          "Talc",
          "Silane",
          "Parfum",
          "Talc",
          "Silane",
          "Talc",
          "Parfum",
          "Silane",
          "Parfum",
          "Silane",
          "Talc",
          "Silane",
          "Talc",
          "Parfum",
          "Silane",
          "Parfum",
          "Silane",
          "Parfum",
          "Silane",
          "Parfum",
          "Propylene Glycol",
          "Silane",
          "Parfum",
          "Propylene Glycol",
          "Parfum",
          "Propylene Glycol",
          "Silane",
          "Silane",
          "Propylene Glycol",
          "Parfum",
          "Silane",
          "Parfum",
          "Propylene Glycol",
          "Silane",
          "Parfum",
          "Propylene Glycol",
          "Propylene Glycol",
          "Parfum",
          "Silane",
          "Parfum",
          "Silane",
          "Propylene Glycol",
          "Silane",
          "Propylene Glycol",
          "Parfum",
          "Silane",
          "Propylene Glycol",
          "Parfum",
          "Parfum",
          "Silane",
          "Propylene Glycol",
          "Parfum",
          "Silane",
          "Propylene Glycol",
          "Propylene Glycol",
          "Parfum",
          "Silane",
          "Parfum",
          "Silane",
          "Propylene Glycol",
          "Silane",
          "Propylene Glycol",
          "Parfum",
          "Parfum",
          "Silane",
          "Propylene Glycol",
          "Parfum",
          "Silane",
          "Propylene Glycol",
          "Parfum",
          "Propylene Glycol",
          "Silane",
          "Parfum",
          "Propylene Glycol",
          "Silane",
          "Propylene Glycol",
          "Silane",
          "Parfum",
          "Propylene Glycol",
          "Silane",
          "Parfum",
          "Parfum",
          "Propylene Glycol",
          "Silane",
          "Silane",
          "Propylene Glycol",
          "Parfum",
          "Propylene Glycol",
          "Parfum",
          "Silane",
          "Silane",
          "Propylene Glycol",
          "Parfum",
          "Propylene Glycol",
          "Parfum",
          "Silane",
          "Parfum",
          "Silane",
          "Propylene Glycol",
          "Propylene Glycol",
          "Parfum",
          "Silane",
          "Parfum",
          "Silane",
          "Propylene Glycol",
          "Parfum",
          "Silane",
          "Propylene Glycol",
          "Silane",
          "Propylene Glycol",
          "Parfum",
          "Silane",
          "Parfum",
          "Propylene Glycol",
          "Propylene Glycol",
          "Silane",
          "Parfum",
          "Propylene Glycol",
          "Silane",
          "Parfum",
          "Propylene Glycol",
          "Silane",
          "Parfum",
          "Silane",
          "Propylene Glycol",
          "Parfum",
          "Propylene Glycol",
          "Parfum",
          "Propylene Glycol",
          "Silane",
          "Parfum",
          "Parfum",
          "Propylene Glycol",
          "Silane",
          "Propylene Glycol",
          "Silane",
          "Parfum",
          "Parfum",
          "Propylene Glycol",
          "Parfum",
          "Propylene Glycol",
          "Propylene Glycol",
          "Parfum",
          "Parfum",
          "Propylene Glycol",
          "Parfum",
          "Propylene Glycol",
          "Propylene Glycol",
          "Parfum",
          "Propylene Glycol",
          "Parfum",
          "Propylene Glycol",
          "Parfum",
          "Parfum",
          "Propylene Glycol",
          "Parfum",
          "Propylene Glycol",
          "Parfum",
          "Propylene Glycol",
          "Parfum",
          "Propylene Glycol",
          "Parfum",
          "Propylene Glycol",
          "Parfum",
          "Propylene Glycol",
          "Propylene Glycol",
          "Parfum",
          "Parfum",
          "Propylene Glycol",
          "Propylene Glycol",
          "Parfum",
          "Propylene Glycol",
          "Parfum",
          "Propylene Glycol",
          "Parfum",
          "Propylene Glycol",
          "Parfum",
          "Propylene Glycol",
          "Parfum",
          "Propylene Glycol",
          "Parfum",
          "Parfum",
          "Propylene Glycol",
          "Parfum",
          "Propylene Glycol",
          "Parfum",
          "Propylene Glycol",
          "Parfum",
          "Propylene Glycol",
          "Parfum",
          "Propylene Glycol",
          "Parfum",
          "Propylene Glycol",
          "Parfum",
          "Propylene Glycol",
          "Parfum",
          "Propylene Glycol",
          "Parfum",
          "Propylene Glycol",
          "Parfum",
          "Propylene Glycol",
          "Propylene Glycol",
          "Parfum",
          "Propylene Glycol",
          "Parfum",
          "Parfum",
          "Propylene Glycol",
          "Propylene Glycol",
          "Parfum",
          "Parfum",
          "Propylene Glycol",
          "Parfum",
          "Propylene Glycol",
          "Parfum",
          "Propylene Glycol",
          "Parfum",
          "Propylene Glycol",
          "Propylene Glycol",
          "Parfum",
          "Propylene Glycol",
          "Parfum",
          "Parfum",
          "Propylene Glycol",
          "Parfum",
          "Propylene Glycol",
          "Parfum",
          "Propylene Glycol",
          "Parfum",
          "Propylene Glycol",
          "Parfum",
          "Propylene Glycol",
          "Parfum",
          "Propylene Glycol",
          "Parfum",
          "Propylene Glycol",
          "Parfum",
          "Propylene Glycol",
          "Propylene Glycol",
          "Parfum",
          "Parfum",
          "Propylene Glycol",
          "Parfum",
          "Propylene Glycol",
          "Parfum",
          "Propylene Glycol",
          "Propylene Glycol",
          "Parfum",
          "Propylene Glycol",
          "Parfum",
          "Propylene Glycol",
          "Parfum",
          "Propylene Glycol",
          "Parfum",
          "Propylene Glycol",
          "Parfum",
          "Propylene Glycol",
          "Parfum",
          "Propylene Glycol",
          "Fragrance",
          "Propylene Glycol",
          "Fragrance",
          "Propylene Glycol",
          "Fragrance",
          "Propylene Glycol",
          "Propylene Glycol",
          "Fragrance",
          "Fragrance",
          "Propylene Glycol",
          "Fragrance",
          "Propylene Glycol",
          "Propylene Glycol",
          "Fragrance",
          "Propylene Glycol",
          "Fragrance",
          "Propylene Glycol",
          "Fragrance",
          "Propylene Glycol",
          "Fragrance",
          "Propylene Glycol",
          "Fragrance",
          "Propylene Glycol",
          "Fragrance",
          "Fragrance",
          "Propylene Glycol",
          "Propylene Glycol",
          "Fragrance",
          "Fragrance",
          "Propylene Glycol",
          "Propylene Glycol",
          "Fragrance",
          "Fragrance",
          "Propylene Glycol",
          "Fragrance",
          "Propylene Glycol",
          "Propylene Glycol",
          "Fragrance",
          "Fragrance",
          "Propylene Glycol",
          "Propylene Glycol",
          "Fragrance",
          "Propylene Glycol",
          "Fragrance",
          "Fragrance",
          "Propylene Glycol",
          "Fragrance",
          "Propylene Glycol",
          "Fragrance",
          "Propylene Glycol",
          "Fragrance",
          "Propylene Glycol",
          "Fragrance",
          "Propylene Glycol",
          "Fragrance",
          "Propylene Glycol",
          "Fragrance",
          "Propylene Glycol",
          "Fragrance",
          "Propylene Glycol",
          "Fragrance",
          "Propylene Glycol",
          "Propylene Glycol",
          "Fragrance",
          "Propylene Glycol",
          "Fragrance",
          "Propylene Glycol",
          "Fragrance",
          "Fragrance",
          "Propylene Glycol",
          "Propylene Glycol",
          "Fragrance",
          "Propylene Glycol",
          "Fragrance",
          "Propylene Glycol",
          "Fragrance",
          "Propylene Glycol",
          "Fragrance",
          "Fragrance",
          "Propylene Glycol",
          "Propylene Glycol",
          "Fragrance",
          "Propylene Glycol",
          "Fragrance",
          "Propylene Glycol",
          "Fragrance",
          "Propylene Glycol",
          "Fragrance",
          "Propylene Glycol",
          "Fragrance",
          "Fragrance",
          "Propylene Glycol",
          "Propylene Glycol",
          "Fragrance",
          "Fragrance",
          "Propylene Glycol",
          "Fragrance",
          "Propylene Glycol",
          "Fragrance",
          "Propylene Glycol",
          "Propylene Glycol",
          "Fragrance",
          "Fragrance",
          "Propylene Glycol",
          "Fragrance",
          "Propylene Glycol",
          "Propylene Glycol",
          "Fragrance",
          "Fragrance",
          "Fragrance",
          "Fragrance",
          "Fragrance",
          "Fragrance",
          "Fragrance",
          "Fragrance",
          "Fragrance",
          "Fragrance",
          "Fragrance",
          "Fragrance",
          "Fragrance",
          "Fragrance",
          "Fragrance",
          "Fragrance",
          "Fragrance",
          "Fragrance",
          "Fragrance",
          "Fragrance",
          "Fragrance",
          "Fragrance",
          "Fragrance",
          "Fragrance",
          "Fragrance",
          "Fragrance",
          "Fragrance",
          "Fragrance",
          "Fragrance",
          "Fragrance",
          "Fragrance",
          "Fragrance",
          "Fragrance",
          "Fragrance",
          "Fragrance",
          "Fragrance",
          "Fragrance",
          "Fragrance",
          "Fragrance",
          "Fragrance",
          "Fragrance",
          "Fragrance",
          "Fragrance",
          "Fragrance",
          "Fragrance",
          "Fragrance",
          "Fragrance",
          "Fragrance",
          "Fragrance",
          "Fragrance",
          "Fragrance",
          "Fragrance",
          "Fragrance",
          "Fragrance",
          "Fragrance",
          "Fragrance",
          "Fragrance",
          "Fragrance",
          "Fragrance",
          "Fragrance",
          "Fragrance",
          "Fragrance",
          "Fragrance",
          "Fragrance",
          "Fragrance",
          "Fragrance",
          "Fragrance",
          "Fragrance",
          "Fragrance",
          "Fragrance",
          "Fragrance",
          "Fragrance",
          "Fragrance",
          "Fragrance",
          "Fragrance",
          "Fragrance",
          "Fragrance",
          "Fragrance",
          "Fragrance",
          "Fragrance",
          "Fragrance",
          "Fragrance",
          "Fragrance",
          "Fragrance",
          "Fragrance",
          "Fragrance",
          "Fragrance",
          "Fragrance",
          "Fragrance",
          "Fragrance",
          "Fragrance",
          "Fragrance",
          "Fragrance",
          "Fragrance",
          "Fragrance",
          "Fragrance",
          "Fragrance",
          "Fragrance",
          "Fragrance",
          "Fragrance",
          "Fragrance",
          "Fragrance",
          "Fragrance",
          "Fragrance",
          "Fragrance",
          "Fragrance",
          "Fragrance",
          "Fragrance",
          "Fragrance",
          "Fragrance",
          "Fragrance",
          "Fragrance",
          "Fragrance",
          "Fragrance",
          "Fragrance",
          "Fragrance",
          "Fragrance",
          "Fragrance",
          "Fragrance",
          "Fragrance",
          "Fragrance",
          "Fragrance",
          "Fragrance",
          "Fragrance",
          "Fragrance",
          "Fragrance",
          "Fragrance",
          "Fragrance",
          "Fragrance",
          "Fragrance",
          "Fragrance",
          "Fragrance",
          "Fragrance",
          "Fragrance",
          "Fragrance",
          "Fragrance",
          "Fragrance",
          "Fragrance",
          "Fragrance",
          "Fragrance",
          "Fragrance",
          "Fragrance",
          "Fragrance",
          "Fragrance",
          "Fragrance",
          "Fragrance",
          "Fragrance",
          "Fragrance",
          "Fragrance",
          "Fragrance",
          "Fragrance",
          "Fragrance",
          "Fragrance",
          "Fragrance",
          "Fragrance",
          "Fragrance",
          "Fragrance",
          "Fragrance",
          "Fragrance",
          "Fragrance",
          "Fragrance",
          "Fragrance",
          "Fragrance",
          "Fragrance",
          "Fragrance",
          "Fragrance",
          "Fragrance",
          "Fragrance",
          "Fragrance",
          "Fragrance",
          "Fragrance",
          "Fragrance",
          "Fragrance",
          "Fragrance",
          "Fragrance",
          "Fragrance",
          "Fragrance",
          "Fragrance",
          "Fragrance",
          "Fragrance",
          "Fragrance",
          "Fragrance",
          "Fragrance",
          "Fragrance",
          "Fragrance",
          "Fragrance",
          "Fragrance",
          "Fragrance",
          "Fragrance",
          "Fragrance",
          "Fragrance",
          "Fragrance",
          "Fragrance",
          "Fragrance",
          "Fragrance",
          "Fragrance",
          "Fragrance",
          "Fragrance",
          "Fragrance",
          "Fragrance",
          "Fragrance",
          "Fragrance",
          "Fragrance",
          "Fragrance",
          "Fragrance",
          "Fragrance",
          "Fragrance",
          "Fragrance",
          "Fragrance",
          "Fragrance",
          "Fragrance",
          "Fragrance",
          "Fragrance",
          "Fragrance",
          "Fragrance",
          "Fragrance",
          "Fragrance",
          "Fragrance",
          "Fragrance",
          "Fragrance",
          "Fragrance",
          "Fragrance",
          "Fragrance",
          "Fragrance",
          "Fragrance",
          "Fragrance",
          "Fragrance",
          "Fragrance",
          "Fragrance",
          "Fragrance",
          "Fragrance",
          "Fragrance",
          "Fragrance",
          "Fragrance",
          "Fragrance",
          "Fragrance",
          "Fragrance",
          "Fragrance",
          "Fragrance",
          "Fragrance",
          "Fragrance",
          "Fragrance",
          "Fragrance",
          "Fragrance",
          "Fragrance",
          "Fragrance",
          "Fragrance",
          "Fragrance",
          "Fragrance",
          "Fragrance",
          "Fragrance",
          "Fragrance",
          "Fragrance",
          "Fragrance",
          "Fragrance",
          "Fragrance",
          "Fragrance",
          "Fragrance",
          "Fragrance",
          "Fragrance",
          "Fragrance",
          "Fragrance",
          "Fragrance",
          "Fragrance",
          "Fragrance",
          "Fragrance",
          "Fragrance",
          "Fragrance",
          "Fragrance",
          "Fragrance",
          "Fragrance",
          "Fragrance",
          "Fragrance",
          "Fragrance",
          "Fragrance",
          "Fragrance",
          "Fragrance",
          "Fragrance",
          "Fragrance",
          "Fragrance",
          "Fragrance",
          "Fragrance",
          "Fragrance",
          "Fragrance",
          "Fragrance",
          "Fragrance",
          "Fragrance",
          "Fragrance",
          "Fragrance",
          "Fragrance",
          "Fragrance",
          "Fragrance",
          "Fragrance",
          "Fragrance",
          "Fragrance",
          "Fragrance",
          "Fragrance",
          "Fragrance",
          "Fragrance",
          "Fragrance",
          "Fragrance",
          "Fragrance",
          "Fragrance",
          "Fragrance",
          "Fragrance",
          "Fragrance",
          "Fragrance",
          "Fragrance",
          "Fragrance",
          "Fragrance",
          "Fragrance",
          "Fragrance",
          "Fragrance",
          "Fragrance",
          "Fragrance",
          "Fragrance",
          "Fragrance",
          "Fragrance",
          "Fragrance",
          "Fragrance",
          "Fragrance",
          "Fragrance",
          "Fragrance",
          "Fragrance",
          "Fragrance",
          "Fragrance",
          "Fragrance",
          "Fragrance",
          "Fragrance",
          "Fragrance",
          "Fragrance",
          "Fragrance",
          "Fragrance",
          "Fragrance",
          "Fragrance",
          "Fragrance",
          "Fragrance",
          "Fragrance",
          "Fragrance",
          "Fragrance",
          "Fragrance",
          "Fragrance",
          "Fragrance",
          "Fragrance",
          "Fragrance",
          "Fragrance",
          "Fragrance",
          "Fragrance",
          "Fragrance",
          "Fragrance",
          "Fragrance",
          "Fragrance",
          "Fragrance",
          "Fragrance",
          "Fragrance",
          "Fragrance",
          "Fragrance",
          "Fragrance",
          "Fragrance",
          "Fragrance",
          "Fragrance",
          "Fragrance",
          "Fragrance",
          "Fragrance",
          "Fragrance",
          "Fragrance",
          "Fragrance",
          "Fragrance",
          "Fragrance",
          "Fragrance",
          "Fragrance",
          "Fragrance",
          "Fragrance",
          "Fragrance",
          "Fragrance",
          "Fragrance",
          "Fragrance",
          "Fragrance",
          "Fragrance",
          "Fragrance",
          "Fragrance",
          "Fragrance",
          "Fragrance",
          "Fragrance",
          "Fragrance",
          "Fragrance",
          "Fragrance",
          "Fragrance",
          "Fragrance",
          "Fragrance",
          "Fragrance",
          "Fragrance",
          "Fragrance",
          "Fragrance",
          "Fragrance",
          "Fragrance",
          "Fragrance",
          "Fragrance",
          "Fragrance",
          "Fragrance",
          "Fragrance",
          "Fragrance",
          "Fragrance",
          "Fragrance",
          "Fragrance",
          "Fragrance",
          "Fragrance",
          "Fragrance",
          "Fragrance",
          "Fragrance",
          "Fragrance",
          "Fragrance",
          "Fragrance",
          "Fragrance",
          "Fragrance",
          "Fragrance",
          "Fragrance",
          "Fragrance",
          "Fragrance",
          "Fragrance",
          "Fragrance",
          "Fragrance",
          "Fragrance",
          "Fragrance",
          "Fragrance",
          "Fragrance",
          "Fragrance",
          "Fragrance",
          "Fragrance",
          "Fragrance",
          "Fragrance",
          "Fragrance",
          "Fragrance",
          "Fragrance",
          "Fragrance",
          "Fragrance",
          "Fragrance",
          "Fragrance",
          "Fragrance",
          "Fragrance",
          "Fragrance",
          "Fragrance",
          "Fragrance",
          "Fragrance",
          "Fragrance",
          "Fragrance",
          "Fragrance",
          "Triclosan",
          "Triclosan",
          "Triclosan",
          "Triclosan",
          "Homosalate",
          "Homosalate",
          "Homosalate",
          "Homosalate",
          "Homosalate",
          "Homosalate",
          "Homosalate",
          "Homosalate",
          "Homosalate",
          "Homosalate",
          "Homosalate",
          "Homosalate",
          "Homosalate"
         ],
         "y": [
          "CC Crème High Definition Radiance Face Cream Skin Perfector",
          "Benefiance WrinkleResist24 Night Cream",
          "Bio-Performance Advanced Super Restoring Cream",
          "Camera Ready CC Cream Broad Spectrum SPF 30 Dark Spot Correcting",
          "Goodnight Glow Retin-ALT Sleeping Crème",
          "Skin Perfecting Lotion - Blemish Prone/Oily Skin",
          "Beauty Elixir",
          "Bio-Performance Glow Revival Cream",
          "Lingerie de Peau BB Cream",
          "Exfoliating Scrub",
          "The Silk Cream",
          "BB Crème au Ginseng",
          "Black Label Detox BB Beauty Balm",
          "Hydra Life BB Creme Broad Spectrum SPF 30",
          "Vinosource Moisturizing Sorbet",
          "Luminous Dewy Skin Night Concentrate",
          "Bio-Performance LiftDynamic Cream",
          "The Broad Spectrum SPF 50 UV Protecting Fluid",
          "Seaberry Moisturizing Face Oil",
          "Ibuki Beauty Sleeping Mask",
          "Ultimate Sun Protection Spray Broad Spectrum SPF 50+ For Face/Body",
          "Broad Spectrum SPF 50 Sunscreen Face Cream",
          "Benefiance Extra Creamy Cleansing Foam",
          "Renewed Hope in A Jar Refreshing & Refining Moisturizer",
          "Pureness Deep Cleansing Foam",
          "Cold Plasma Sub-D Firming Neck Treatment",
          "DayWear UV Base Advanced Anti-Oxidant & UV Defense SPF 50",
          "Therapeutic Sulfur Mask Acne Treatment Mask",
          "Nurture Me™ Moisturizing Crème",
          "DayWear BB Anti-Oxidant Beauty Benefit Crème SPF 35",
          "Bio-Performance LiftDynamic Serum",
          "Protect Ultra Sheer Weightless Sunscreen Broad Spectrum SPF 50+ UVA/UVB",
          "Invigorating Night Transformation™ Gel",
          "REVEAL Concentrated Color Correcting Drops",
          "Sun Lotion 30 SPF",
          "Wild Rose + Vitamin C Advanced Brightening Sleeping Facial",
          "Evercalm™ Overnight Recovery Balm",
          "Clay Mask",
          "Radiance Awakening Mask Intense",
          "Benefiance WrinkleResist24 Night Emulsion",
          "Crazy for Clay!",
          "Resveratrol Lift Night Infusion Cream",
          "Charcoal Pore Pudding Intensive Wash-Off Treatment",
          "Peel-off Mask",
          "Ibuki Refining Moisturizer Enriched",
          "Ibuki Eye Correcting Cream",
          "Immortelle Divine Cream",
          "Essential Energy Eye Definer",
          "Ultra Facial Cream",
          "Premier Cru Cream",
          "The True Cream Moisturizing Bomb",
          "BB Eye Cream with Soothing Cornflower",
          "Bio-Performance Glow Revival Cream",
          "Ultimate Sun Protection Lotion WetForce SPF 50+",
          "Water Bank Moisture Cream",
          "Truth Revealed™ Brightening Broad Spectrum SPF 15 Moisturizer",
          "Dramatically Different Moisturizing Gel",
          "Ultimate Sun Protection Cream Broad Spectrum SPF 50+ Wetforce For Face",
          "Renewed Hope in A Jar Overnight Recharging & Refining Moisturizer",
          "Vinosource Intense Moisture Rescue Cream",
          "MOISTURE BOUND Tinted Treatment Moisturizer SPF 15",
          "Revitalizing Supreme Global Anti-Aging Crème",
          "Wrinkle Warrior™ 2-in-1 Plumping Moisturizer + Serum",
          "Renewed Hope in A Jar Refreshing & Refining Moisturizer",
          "Future Solution LX Total Protective Cream Broad Spectrum SPF 20 Sunscreen",
          "Hyaluronic Marine Oil-Free Moisture Cushion",
          "Sports BB Broad Spectrum SPF 50+ WetForce",
          "Dramatically Different Hydrating Jelly",
          "Ibuki Beauty Sleeping Mask",
          "Ultimate Sun Protection Lotion WetForce SPF 50+ Mini",
          "Drink of H2O Hydrating Boost Moisturizer Rainforest of the Sea™",
          "CC Red Correct Automatic Perfector Broad Spectrum SPF 25",
          "Premier Cru Rich Cream",
          "Limited Edition Dramatically Different™ Moisturizing Gel",
          "POWER Recharging Night Pressed Serum",
          "Cooling Water",
          "Super Fluid UV Mineral Defense Titanium Dioxide Sunscreen Broad Spectrum SPF 50+",
          "DREAMDUO™ Overnight Transforming Treatment",
          "Future Solution LX Total Protective Emulsion Broad Spectrum SPF 20 Sunscreen",
          "Super Restorative Night Age Spot Correcting Replenishing Cream",
          "Essential Power Skin Toner for Normal to Dry Skin",
          "Rose Deep Hydration Facial Toner",
          "Bergamot Herbal Extract Toner",
          "Sugar Face Polish Exfoliator",
          "A Glowing Regimen Trial Set",
          "Transforming Walnut Scrub",
          "Lotus Youth Preserve Moisturizer",
          "FRXXXTION Stick Exfoliating Cleanser",
          "microdermabrasion age defying exfoliator",
          "Dramatically Different Moisturizing Lotion+",
          "Greek Yoghurt Foaming Cream Cleanser",
          "Water Bank Moisture Cream",
          "Fresh Pressed 7-day System with Pure Vitamin C",
          "Advanced Night Repair Synchronized Recovery Complex II",
          "Dramatically Different Moisturizing Gel",
          "Benefiance Extra Creamy Cleansing Foam",
          "The Treatment Lotion",
          "Gentle Foaming Cleanser with Cottonseed",
          "Camera Ready BB Cream SPF 35",
          "Skin Love Glow Elixir",
          "Toning Lotion with Camomile",
          "Revitalizing Supreme Global Anti-Aging Crème",
          "Water Drench Hyaluronic Cloud Cream",
          "Flawless Skin Face Polish",
          "needles no more™",
          "Rose Deep Hydration Toner Mini",
          "Fresh Pressed Daily Booster with Pure Vitamin C 10%",
          "Water Bank Essence",
          "Watermelon Brightening Serum",
          "Dramatically Different Hydrating Jelly",
          "Truth™ On the Glow Cleansing Cloths",
          "MOISTURE BOUND Rejuvenating Serum",
          "Invigorating Night Transformation™ Gel",
          "One-Step Gentle Exfoliating Cleanser with Orange Extract",
          "Face the Truth™ Gel Cleanser",
          "Repairwear Laser Focus",
          "Super Multi-Corrective Cream",
          "White Lucent Luminizing Infuser",
          "needles no more® 3-D filler mask",
          "Miracle Water 3-in-1 Micellar Cleanser",
          "Water Bank Hydrating Gel",
          "Radiance Cleansing Foam",
          "Perfectionist Pro Rapid Firm + Lift Treatment",
          "Multi-Miracle Glow Cleansing Balm",
          "Future Solution LX Intensive Firming Contour Serum",
          "Tech Neck Prevention Kit",
          "Advanced Night Repair Concentrated Recovery PowerFoil Mask",
          "Advanced Time Zone Night Age Reversing Line/Wrinkle Crème",
          "Future Solution LX Extra Rich Cleansing Foam",
          "Acne Clearing Wash",
          "The Brilliance Brightening Mask",
          "Limited Edition Dramatically Different™ Moisturizing Gel",
          "A Glowing Regimen Trial Set",
          "Nutritious Vitality8™ Night Creme/Mask",
          "Resilience Lift Firming/Sculpting Face and Neck Creme Broad Spectrum SPF 15, Normal/Combination Skin",
          "No:Rinse Intensive Pore Minimizing Toner",
          "Ultra Facial Overnight Hydrating Mask",
          "Treatment Lotion Hydrating Mask",
          "Pore Reform™ Skin Smoothing Polish",
          "Black Label Detox BB Beauty Balm",
          "Advanced Night Repair Concentrated Recovery Eye Mask",
          "Treatment Toner",
          "Plantscription™ Powerful Lifting Overnight Mask",
          "Eau Ginseng",
          "MOISTURE BOUND Refreshing Hydra-Gel Oil-Free",
          "Water Pocket Sheet Mask Sleeping Mask (Replenishing)",
          "Solid Cleansing Oil",
          "PRE:EMPT SERIES™ Exfoliating Pore Refiner",
          "Hydra Zen Anti-Stress Gel Moisturizer",
          "Flower Fusion™ Lavender Soothing Sheet Mask",
          "Flower Fusion™ Rose Hydrating Sheet Mask",
          "Mega Rich Intensive Anti-Aging Cellular Creme",
          "GENIUS Ultimate Anti-Aging Melting Cleanser",
          "Hydrating Face Cream Moisturizer",
          "So Nurturing™ Cleansing Cloths",
          "Flower Fusion™ Raspberry Refreshing Sheet Mask",
          "Flower Fusion™ Violet Nourishing Sheet Mask",
          "Limited Edition Dramatically Different Moisturizing Lotion+™",
          "Wonderfeel™ Double Cleanser",
          "Repairwear Laser Focus Night Line Smoothing Cream for Very Dry to Dry Combination Skin",
          "Rosa Centifolia™ No.1 Purity Cleansing Balm",
          "Flower Fusion™ Orange Radiance-Boosting Sheet Mask",
          "Pore Refining Detox Double Cleanse",
          "Advanced Night Repair Eye Concentrate Matrix",
          "DREAMDUO™ Overnight Transforming Treatment",
          "The Moisturizing Matte Lotion",
          "Micro Polish Cleanser",
          "Advanced Night Repair Eye Serum Synchronized Complex II",
          "Alpha Beta® Extra Strength Daily Peel",
          "Eye Doctor™ Moisture Care For Skin Around Eyes",
          "Super Restorative Night Age Spot Correcting Replenishing Cream",
          "Vinoperfect Radiance Serum",
          "Intensive Vitalizing Eye Essence",
          "Calendula Herbal Extract Alcohol Free Toner",
          "Goat Milk De-Puffing Eye Balm",
          "Sugar Face Polish Exfoliator",
          "Double Serum Complete Age Control Concentrate",
          "Super-Cool De-Puffing Eye Balm",
          "GENIUS Liquid Collagen",
          "Facial Treatment Cleanser",
          "microdermabrasion age defying exfoliator",
          "Renewed Hope In A Jar Eye",
          "Vinosource S.O.S Thirst Quenching Serum",
          "Anti-Aging Cleansing Gel",
          "FIRMx™ 360 Eye Renewal",
          "Glow Cycle Retin-ALT Power Serum",
          "Bye Bye Makeup™ 3-in-1 Makeup Melting Cleansing Balm",
          "Time In A Bottle For Eyes 100% In-Control",
          "White Lucent MicroTargeting Spot Corrector",
          "Renewed Hope In A Jar SPF 30",
          "Treatment Cleansing Foam",
          "Black Tea Age-Delay Firming Serum",
          "Multi Cleanser",
          "Minus Serum",
          "Gentle Foaming Cleanser with Cottonseed",
          "Essential-C Eye Cream SPF 15 PA++",
          "Vine[Activ] Vitamin C Anti-Wrinkle Serum",
          "Resveratrol Lift Firming Serum",
          "Toning Lotion with Camomile",
          "Do Not Age with Dr. Brandt Triple Peptide Eye Cream",
          "Flawless Skin Face Polish",
          "ELEVATE Firming & Lifting Contouring Eye Cream",
          "Shaping Facial Lift Total V Contouring Serum",
          "White Lucent Luminizing Surge",
          "Green Tea Real Fresh Foam Cleanser",
          "Power Peel™ Transforming Facial System",
          "Crème Radiance Gentle Cleansing Creamy-Foam Cleanser",
          "Truth™ On the Glow Cleansing Cloths",
          "Black Pine 3D Sculpting, Firming & Lifting Face Serum",
          "PRE:EMPT SERIES™ Skin Perfecting Serum",
          "One-Step Gentle Exfoliating Cleanser with Orange Extract",
          "Breakout Fighters",
          "Cleansing & Clarifying Duo",
          "Cucumber Herbal Alcohol-Free Toner",
          "Bio Retinoid Anti-Wrinkle Concentrate Oil",
          "8% Glycolic Solutions Toner",
          "Lotus Face Treatment Oil",
          "Acne Clearing Wash",
          "Vitamin C Ester Brightening Amine Face Lift",
          "Future Solution LX Intensive Firming Contour Serum",
          "Bergamot Herbal Extract Toner",
          "Concentrated Reconstructing Serum",
          "A Glowing Regimen Trial Set",
          "Mission Perfection Serum",
          "3% Glycolic Solutions Cleanser",
          "Silver Skin Savior Salicylic/Glycolic Acid Treatment",
          "Facial Treatment Cleansing Oil",
          "Lip Sleeping Mask",
          "Eau Ginseng",
          "Rose Face Mask",
          "Irish Moor Mud Purifying Cleanser Gel",
          "Fresh Pressed 7-day System with Pure Vitamin C",
          "Black Tea Instant Perfecting Mask",
          "Face Mask",
          "Cucumber Herbal Conditioning Cleanser",
          "Extra Rich Cleansing Milk",
          "Australian Pink Clay Porefining Face Mask",
          "Blue Herbal Acne Cleanser Treatment",
          "Vitamin C Glow Face Mask",
          "Pore Refining Detox Double Cleanse",
          "Face Mask - Pearl - Brightening",
          "Clearly Corrective™ Dark Spot Solution",
          "Black Tea Instant Perfecting Mask Mini",
          "Powerful-Strength Line-Reducing Concentrate 12.5% Vitamin C",
          "Face Mask - Green Tea - Mattifying",
          "Ferulic Acid + Retinol Brightening Solution",
          "Crazy for Clay!",
          "Face Mask - Rose - Moisturizing",
          "Perfectionist CP+R Wrinkle Lifting/Firming Serum",
          "Face Mask - Aloe Vera - Replenishing",
          "Clinique Smart Custom-Repair Serum",
          "Face Mask - Pineapple - Pore Perfecting",
          "The Perfecting Treatment",
          "Face Mask - Coconut - Nourishing",
          "Invisiblur™ Perfecting Shield Broad Spectrum SPF 30 PA+++",
          "Pomegranate AHA & Enzymes Resurfacing Mask",
          "Un-Wrinkle Peel Pads",
          "Moisturizing Mask",
          "The Microdelivery Resurfacing Peel",
          "Face Mask - Algae - Detoxifying",
          "Even Better Clinical Dark Spot Corrector & Optimizer",
          "Face Mask - Grape - Anti-pollution",
          "Water Drench Hyaluronic Cloud Serum",
          "Goddess Clay Mask",
          "Fresh Pressed Daily Booster with Pure Vitamin C 10%",
          "Hydrating Lip Mask",
          "Ever-Matte Poreless Priming Perfector",
          "Bye Bye Lines Serum™ Advanced Anti-Aging Wrinkle-Smoothing Miracle Concentrate",
          "V-Facial Intensive Wrap",
          "Therapeutic Sulfur Mask Acne Treatment Mask",
          "Midnight Radiance Mask",
          "Hygge HydraClay™ Detox Mask",
          "Enlighten Dark Spot Correcting Night Serum",
          "Dermaclear™ Micro Milk Peel",
          "Bamboo Waterlock Mask",
          "InstaMatte™ Oil-Control Mask",
          "Acne Solutions Clear Skin System Starter Kit",
          "Wrinkle Warrior® Pink Plumping Mask",
          "AHA/BHA Acne Clearing Gel",
          "Egg Cream Mask Pore Tightening",
          "EGF Day Serum",
          "SPLASH Absolute Hydration Replenishing Sleeping Pack",
          "Calm Cool & Corrected",
          "Perfectionist Pro Rapid Firm + Lift Treatment",
          "Benefiance WrinkleResist24 Intensive Eye Contour Cream",
          "Acne Solutions All-Over Clearing Treatment Oil-Free",
          "Banana Bright Eye Crème",
          "R.N.A. POWER Anti-Aging Eye Cream",
          "Mission Perfection Serum",
          "Super Restorative Total Eye Concentrate",
          "Mask Frenzy",
          "Ultimune Eye Power Infusing Eye Concentrate",
          "Mini Mask Musts",
          "Future Solution LX Eye and Lip Contour Regenerating Cream",
          "The Lifting and Firming Mask",
          "Bio-Performance LiftDynamic Eye Treatment",
          "Clear Improvement® Active Charcoal Mask to Clear Pores",
          "Black Pine 3D Sculpting, Firming & Lifting Super Eye Serum",
          "Lotus Youth Preserve Rescue Mask",
          "Crème Ancienne Supreme Eye Serum",
          "Original Skin™ Retexturizing Mask with Rose Clay",
          "Bio Performance Glow Revival Eye Treatment",
          "Hand Mask",
          "Hand Mask - Avocado",
          "Black Pine 3D Sculpting, Firming & Lifting Eye Cream",
          "Enhancing Eye Lift Serum",
          "Crème Ancienne® Ultimate Nourishing Honey Mask",
          "Mission Perfection Eye Broad Spectrum SPF 15",
          "Hydra-Therapy Skin Vitality Treatment Masks",
          "Multi-Active Day Cream SPF 20 - All Skin Types",
          "Purity Made Simple Pore Extractor Mask",
          "Nutritious Vitality8™ Night Creme/Mask",
          "CC Red Correct Automatic Perfector Broad Spectrum SPF 25",
          "Rose Stem Cell Bio-Repair Gel Mask",
          "Tarteguard 30 Vegan Sunscreen Lotion Broad Spectrum SPF 30",
          "The Lifting and Firming Mask Mini",
          "Sugar Sport Treatment Sunscreen SPF 30",
          "Cocoa Moisture Mask",
          "After Sun Greek Yoghurt Cooling Gel for Face and Body",
          "Skin Nourish Coral Grass & Green Algae Moisture Face Mask",
          "Daily Deflector™ Waterlight Broad Spectrum SPF 50+ PA+++ Anti-Aging Sunscreen",
          "Pore Refining Solutions Charcoal Mask",
          "Pro Light Self Tan Bronzing Mist",
          "MAGNETIGHT™ Age-Defier Mask Bundle",
          "Crème de la Mer",
          "Hungarian Thermal Water Mineral-Rich Atomic Heat Mask",
          "The Moisturizing Soft Cream",
          "Dermask Intra Jet Wrinkless Solution™",
          "The Water Cream",
          "Dermask Intra Jet Firming Solution™",
          "The Intensive Revitalizing Mask",
          "Little Miss Miracle Limited-Edition Crème de la Mer",
          "The True Cream Aqua Bomb",
          "Cucumber Gel Mask Extreme Detoxifying Hydrator",
          "Rose Deep Hydration Moisturizer",
          "Coconut Ceramide Mask",
          "Ain’t Misbehavin’® Intensive 10% Sulfur Acne Mask & Emergency Spot Treatment",
          "R.N.A. POWER Face Cream",
          "Peel-off Mask",
          "Crème de la Mer Mini",
          "Firmarine Lift Face Mask",
          "Bio-Performance Advanced Super Revitalizing Cream",
          "Sculptwear Contouring Massage Cream Mask",
          "Black Tea Firming Overnight Mask",
          "The Eye Concentrate",
          "The True Cream Moisturizing Bomb",
          "Creamy Eye Treatment with Avocado",
          "GenOptics Aura Essence Serum",
          "Black Tea Kombucha Antioxidant Essence",
          "Black Tea Firming and De-Puffing Eye Cream",
          "The Eye Balm Intense",
          "Pure One Step Camellia Cleansing Oil",
          "Water Sleeping Mask",
          "Bye Bye Under Eye Eye Cream™ Smooths, Brightens, Depuffs",
          "Ferulic + Retinol Triple Correction Eye Serum",
          "Water Bank Moisture Cream",
          "Luminous Dewy Skin Mist",
          "Advanced Night Repair Eye Concentrate Matrix",
          "Benefiance WrinkleResist24 Night Cream",
          "Mega Rich Intensive Anti-Aging Cellular Eye Creme",
          "Powerful Wrinkle Reducing Eye Cream",
          "Goodnight Glow Retin-ALT Sleeping Crème",
          "Watermelon Glow Sleeping Mask",
          "Repairwear Laser Focus Wrinkle Correcting Eye Cream",
          "Lotus Eye Gel",
          "Radiance Drops - Rainforest of the Sea™ Collection",
          "Illuminating Bright Eyes Gels + Silky Mask Beauty Sleep Set",
          "Beauty Elixir",
          "The Renewal Oil",
          "Advanced Time Zone Age Reversing Line/Wrinkle Eye Creme",
          "The Silk Cream",
          "Youth Dose Eye Treatment",
          "C-Rush™ Brightening Gel Crème",
          "Un-Wrinkle Eye",
          "Color Control Cushion Compact Broad Spectrum SPF 50+",
          "Ultimate Miracle Worker Eye Cream",
          "Vinosource Moisturizing Sorbet",
          "Clinique Smart Custom-Repair Eye Treatment",
          "CC Crème High Definition Radiance Face Cream Skin Perfector",
          "Power K Eye Rescue®",
          "C.E.O. C + E antiOXIDANT Protect + Repair Moisturizer",
          "Helix AM/PM Eye Gel",
          "Luminous Dewy Skin Night Concentrate",
          "Retinol Fusion PM Eye Cream",
          "GLOWSTARTER™ Mega Illuminating Moisturizer",
          "Resilience Lift Firming/Sculpting Eye Creme",
          "Wrinkle Revenge Eye Balm",
          "Revitalizing Supreme Global Anti-Aging Crème",
          "Purity Made Simple Hydra-Bounce Eye Gel",
          "Seaberry Moisturizing Face Oil",
          "Bright Eyes Collagen-Infused Brightening Colloidal Silver Eye Masks",
          "BB Cushion Hydra Radiance SPF 50",
          "FUTURE RESPONSE Age Defense Creme",
          "Powerful-Strength Line-Reducing Eye-Brightening Concentrate",
          "Time In A Bottle For Eyes 100% In-Control",
          "THIRSTYMUD™ Hydrating Treatment",
          "Smoothing and Relaxing Patches with Soothing Cornflower",
          "Black Tea Corset Cream Firming Moisturizer",
          "Do Not Age with Dr. Brandt Triple Peptide Eye Cream",
          "Secret Sauce Clinically Advanced Miraculous Anti-Aging Moisturizer",
          "Ice-Cold Eye Cream",
          "Benefiance WrinkleResist24 Day Cream Broad Spectrum SPF 18",
          "Water Bank Essence",
          "MOISTURE BOUND Tinted Treatment Moisturizer SPF 15",
          "Max Sheer All Day Moisture Defense Lotion SPF 30 Sunscreen Lotion",
          "Watermelon Pink Juice Moisturizer",
          "Perfecting Day Cream Broad Spectrum SPF 30 PA+++",
          "Renewed Hope in A Jar Refreshing & Refining Moisturizer",
          "Advanced Time Zone SPF 15- Normal/Combination Skin",
          "Cold Plasma Sub-D Firming Neck Treatment",
          "Ultra Facial Moisturizer SPF 30",
          "Rénergie Lift Multi-Action Night",
          "Super City Block Oil-Free Daily Face Protector Broad Spectrum 40 SPF",
          "GENIUS Ultimate Anti-Aging Cream",
          "Nurture Me™ Moisturizing Crème",
          "Super Multi-Corrective Cream Sunscreen Broad Spectrum SPF 30",
          "Tarteguard 30 Vegan Sunscreen Lotion Broad Spectrum SPF 30",
          "Invigorating Night Transformation™ Gel",
          "Aqua Bomb Sleeping Mask",
          "Resurgence® Age–Balancing Moisture Broad Spectrum SPF 30",
          "Superfood Air-Whip Hyaluronic Acid Moisture Cream",
          "Repairwear Laser Focus Line Smoothing Cream Broad Spectrum SPF 15 for Very Dry to Dry Combination Skin",
          "Bio-Performance Advanced Super Restoring Cream",
          "City Block Sheer Oil-Free Daily Face Protector SPF 25",
          "DayWear BB Anti-Oxidant Beauty Benefit Crème SPF 35",
          "Benefiance WrinkleResist24 Day Emulsion Broad Spectrum SPF 18",
          "Vitamin C Glow Moisturizer",
          "Repairwear Laser Focus Line Smoothing Cream Broad Spectrum SPF 15 for Combination Oily to Oily Skin",
          "Wild Rose + Vitamin C Advanced Brightening Sleeping Facial",
          "Oil-Free Face Cream Broad Spectrum SPF 30",
          "Pro Light Self Tan Bronzing Mist",
          "Vitamin Nectar Antioxidant Face Mist",
          "Peat Miracle Revital Cream",
          "Superberry Hydrate + Glow Oil",
          "Photo Finish Primer Water",
          "Retinol Youth Renewal Night Cream",
          "Water Bank Hydrating Gel",
          "Evercalm™ Overnight Recovery Balm",
          "Counter Balance™ Oil Control Hydrator",
          "The Moisturizing Soft Lotion",
          "Benefiance WrinkleResist24 Night Emulsion",
          "Resveratrol Lift Night Infusion Cream",
          "Essential-C Day Moisture Broad Spectrum SPF 30 PA+++",
          "Future Solution LX Total Regenerating Cream",
          "Multi-Active Night Cream - Normal to Combination Skin",
          "Ibuki Refining Moisturizer",
          "Ibuki Refining Moisturizer Enriched",
          "The Renewal Oil Mini",
          "Tech Neck Prevention Kit",
          "The Method: Nourish",
          "BIENFAIT MULTI-VITAL NIGHT - High Potency Night Moisturizing Cream VITA-NUTRI 8™",
          "Gold Camellia Beauty Oil",
          "Immortelle Divine Cream",
          "Advanced Time Zone Night Age Reversing Line/Wrinkle Crème",
          "Overnight Restorative Cream",
          "Premier Cru Cream",
          "Resveratrol Lift Face Lifting Soft Cream",
          "Bio-Performance Glow Revival Cream",
          "Sleeping Mask",
          "Hungarian Water Essence",
          "Resilience Lift Firming/Sculpting Face and Neck Creme Broad Spectrum SPF 15, Normal/Combination Skin",
          "Truth Revealed™ Brightening Broad Spectrum SPF 15 Moisturizer",
          "Cellumination Cream EX",
          "BIENFAIT MULTI-VITAL - SPF 30 CREAM - High Potency Vitamin Enriched Daily Moisturizing Cream",
          "Extra-Firming Neck Anti-Wrinkle Rejuvenating Cream",
          "MOISTURE BOUND Rejuvenating Crème",
          "BB Crème au Ginseng",
          "SUBLIME DEFENSE Ultra Lightweight UV Defense Fluid SPF 50",
          "Renewed Hope in A Jar Overnight Recharging & Refining Moisturizer",
          "Anti-Aging Moisturizer SPF 30 PA+++",
          "Ultimate Miracle Worker Multi-Rejuvenating Cream SPF 30",
          "Treatment Toner",
          "Bio-Performance LiftDynamic Cream",
          "Vinosource Intense Moisture Rescue Cream",
          "Wrinkle Warrior™ 2-in-1 Plumping Moisturizer + Serum",
          "Hyaluronic Marine Oil-Free Moisture Cushion",
          "Nutrient-Charged Water Gel",
          "MOISTURE BOUND Refreshing Hydra-Gel Oil-Free",
          "Instant Moisturizer + Cream",
          "Water Bank Dual Layer Face Oil",
          "Ibuki Beauty Sleeping Mask",
          "VOLCASMIC™ Matte Glow Moisturizer",
          "Rénergie Lift Multi-Action Sunscreen Broad Spectrum SPF 15 For All Skin Types",
          "High Potency Classics: Face Finishing & Firming Moisturizer",
          "Ibuki Protective Moisturizer Broad Spectrum SPF 18",
          "Visionnaire Advanced Multi-Correcting Cream",
          "Premier Cru Rich Cream",
          "Hydra Zen Anti-Stress Gel Moisturizer",
          "Intensive Instant Moisturizer + Cream",
          "Facial Treatment Oil",
          "Maracuja Neck Treatment",
          "DREAMDUO™ Overnight Transforming Treatment",
          "POWER Recharging Night Pressed Serum",
          "Firming & Lifting Neck Cream",
          "White Lucent All Day Brightener Broad Spectrum SPF 23 Moisturizer",
          "The Moisturizing Matte Lotion",
          "Super Restorative Night Age Spot Correcting Replenishing Cream",
          "Face Hero",
          "Tonique Confort Re-Hydrating Comforting Toner with Acacia Honey",
          "Rose Deep Hydration Facial Toner",
          "Bi-Facil Double-Action Eye Makeup Remover",
          "Cleansing & Exfoliating Wipes",
          "The Cleansing Foam",
          "Treatment Enzyme Peel",
          "Sugar Face Polish Exfoliator",
          "Superfood Antioxidant Cleanser",
          "The Clean Truth™ Foaming Cleanser",
          "Transforming Walnut Scrub",
          "Calendula Deep Clean Foaming Face Wash",
          "microdermabrasion age defying exfoliator",
          "Instant Foaming Cleanser",
          "Greek Yoghurt Foaming Cream Cleanser",
          "Moisturizing Toner",
          "Benefiance Extra Creamy Cleansing Foam",
          "YOUTHMUD™ Tinglexfoliate Treatment",
          "Anti-Aging Cleansing Gel",
          "Clarifying Cleanser",
          "The Tonic",
          "EradiKate® Daily Cleanser Acne Treatment",
          "Bye Bye Makeup™ 3-in-1 Makeup Melting Cleansing Balm",
          "Treatment Cleansing Foam",
          "Nutritious Radiant Vitality Energy Lotion",
          "Multi Cleanser",
          "Gentle Foaming Cleanser with Cottonseed",
          "Ibuki Gentle Cleanser",
          "Micellar Cleansing Water",
          "Blueberry Bounce Gentle Cleanser",
          "Toning Lotion with Camomile",
          "Flawless Skin Face Polish",
          "Green Tea Real Fresh Foam Cleanser",
          "FLASHMUD™ Brightening Treatment",
          "Time Release Acne Cleanser",
          "Rose Deep Hydration Toner Mini",
          "Witch Hazel Herbal Extract Toner",
          "Essential Power Skin Toner for Normal to Dry Skin",
          "Crème Radiance Gentle Cleansing Creamy-Foam Cleanser",
          "Truth™ On the Glow Cleansing Cloths",
          "One-Step Gentle Exfoliating Cleanser with Orange Extract",
          "The Cleansing Foam Mini",
          "Deep Cleansing Exfoliator",
          "SUPERCLEANSE™ Clearing Cream-to-Foam Cleanser",
          "Essential-C Cleanser",
          "Face the Truth™ Gel Cleanser",
          "The Cleansing Gel",
          "White Lucent Luminizing Infuser",
          "Radiance Cleansing Foam",
          "Cleansing & Clarifying Duo",
          "Gentle Cleansing Milk",
          "Make-Up Removing Cleansing Oil",
          "Soy Face Cleansing Milk",
          "Moisturizing Foam Cleanser",
          "Seaberry Skin Nutrition Cleansing Oil",
          "Pureness Deep Cleansing Foam",
          "Essential Power Skin Toner for Combination to Oily Skin",
          "Shea Cleansing Oil",
          "Multi-Miracle Glow Cleansing Balm",
          "The Method: Polish Blemish Control",
          "Ibuki Softening Concentrate",
          "Future Solution LX Extra Rich Cleansing Foam",
          "Creamy Cleansing Foam Moist",
          "Oil Control Blotting Paper",
          "Problem Solution Toner",
          "Acne Clearing Wash",
          "OIL OBSESSED™ Total Cleansing Oil",
          "Bergamot Herbal Extract Toner",
          "Essential-C Toner",
          "Renewing Cleansing Cream",
          "YOUTHCLEANSE™ Daily Exfoliating Cleanser",
          "Stay Balanced™ Oil Control Cleansing Cloths",
          "A Glowing Regimen Trial Set",
          "Wild Rose Exfoliating Cleanser",
          "Cleansing Gel Oil Enriched",
          "No:Rinse Intensive Pore Minimizing Toner",
          "The Cleansing Oil",
          "Hydrating Toner",
          "Ibuki Purifying Cleanser",
          "Pureness Balancing Softener Alcohol-Free",
          "Multi-Perfecting Detoxifying Exfoliator",
          "Moment of Truth™ 2-in-1 Polishing Sugar Mask",
          "Pore Reform™ Skin Smoothing Polish",
          "One Step Acne Eliminating Pads",
          "Eau Ginseng",
          "Solid Cleansing Oil",
          "Prep-N-Glow™ Cloths",
          "The Method: Cleanse",
          "Double Mousse Gentle Cleansing Foam",
          "Exfoliating Swipeys",
          "PRE:EMPT SERIES™ Exfoliating Pore Refiner",
          "POWERMUD™ Dualcleanse Treatment",
          "The Cleansing Micellar Water",
          "GENIUS Ultimate Anti-Aging Melting Cleanser",
          "So Nurturing™ Cleansing Cloths",
          "Wonderfeel™ Double Cleanser",
          "Extra Rich Cleansing Milk",
          "Perfectly Clean Multi-Action Toning Lotion/Refiner",
          "Umbrian Clay Pore Purifying Face Exfoliator",
          "Rosa Centifolia™ No.1 Purity Cleansing Balm",
          "Refreshing Cleanser",
          "Pore Refining Detox Double Cleanse",
          "Refreshing Gel Cleanser",
          "Hydrating Essence Toner",
          "Micro Polish Cleanser",
          "Truth Serum®",
          "Advanced Génifique Youth Activating Serum Duo",
          "Alpha Beta® Extra Strength Daily Peel",
          "SUPERMUD® Activated Charcoal Treatment",
          "Alpha Beta® Universal Daily Peel",
          "Truth Serum - Starlight Holiday Edition",
          "Vinoperfect Radiance Serum",
          "Double Serum Complete Age Control Concentrate",
          "The Regenerating Serum",
          "GENIUS Liquid Collagen",
          "Rapid Age Spot and Pigment Lightening Serum",
          "Vinosource S.O.S Thirst Quenching Serum",
          "Perfectionist CP+R Wrinkle Lifting/Firming Serum",
          "The Revitalizing Hydrating Serum",
          "The Treatment Lotion",
          "Max Complexion Correction Pads",
          "Glow Cycle Retin-ALT Power Serum",
          "Backlight Priming Filter Face Primer",
          "GRAVITYMUD™ Firming Treatment",
          "R.N.A. POWER Anti-Aging Essence Serum",
          "White Lucent MicroTargeting Spot Corrector",
          "Rose Deep Hydration Face Serum",
          "Black Tea Age-Delay Firming Serum",
          "Invisiblur™ Perfecting Shield Broad Spectrum SPF 30 PA+++",
          "Bio-Peel Gauze Peeling - Green Tea",
          "Minus Serum",
          "Visionnaire Advanced Skin Corrector Serum",
          "Retinol Youth Renewal Serum",
          "Vine[Activ] Vitamin C Anti-Wrinkle Serum",
          "Vitamin C Ester Brightening Serum",
          "Luminous Deep Hydration Firming Serum",
          "ELEVATE Advanced Retinol Serum",
          "Lift Serum Intense with Stem Cell Recovery Complex",
          "Skin Love Glow Elixir",
          "Resveratrol Lift Firming Serum",
          "Active Retinol Renewal Kit",
          "Advanced Génifique Sensitive Antioxidant Serum",
          "Revitalixir™ Recovery Serum",
          "Shaping Facial Lift Total V Contouring Serum",
          "White Lucent Luminizing Surge",
          "Red Jelly Pack",
          "Superfood Firm and Brighten Vitamin C Serum",
          "+Retinol Vita C Power Serum",
          "Power Peel™ Transforming Facial System",
          "Black Pine 3D Sculpting, Firming & Lifting Face Serum",
          "GENIUS Ultimate Anti-Aging Vitamin C+ Serum",
          "MOISTURE BOUND Rejuvenating Serum",
          "Sunless Tan Anti-Aging Face Serum",
          "Perfect Canvas Skin Finishing Serum",
          "Outsmart Acne Clarifying Treatment",
          "Therapeutic Sulfur Mask Acne Treatment Mask",
          "Enlighten Dark Spot Correcting Night Serum",
          "PRE:EMPT SERIES™ Skin Perfecting Serum",
          "FUTURE RESPONSE Age Defense Serum",
          "Hyaluronic Marine Hydration Booster",
          "Bio-Performance Glow Revival Serum",
          "Breakout Fighters",
          "Essential Fx Acyl-Glutathione Deep Crease Serum",
          "Advanced Acne & Wrinkle Reducer",
          "Bio-Performance LiftDynamic Serum",
          "Acne Body Wash",
          "Glycolic Peel",
          "Golden Krocus Ageless Saffron Elixir Serum",
          "Peat Miracle Revital Serum Concentrate",
          "SKINLONGEVITY™ Vital Power Infusion Serum",
          "Bio Retinoid Anti-Wrinkle Concentrate Oil",
          "Lotus Face Treatment Oil",
          "Perfectionist Pro Rapid Firm + Lift Treatment",
          "Vitamin C Ester Brightening Amine Face Lift",
          "Future Solution LX Intensive Firming Contour Serum",
          "Advanced Active Radiance® Serum",
          "White Marble Dual Phase Vitamin C Peel",
          "Micro-Blur™ Skin Perfector",
          "Flash Hydro-Boost Instant Plumping Emulsion",
          "High Potency Classics: Firming Evening Repair",
          "Hydra Sebum Control Essence",
          "GENIUS Ultimate Anti-Aging Bi-Phase Peel",
          "Crème Ancienne® Supreme Face Serum",
          "EradiKate™ Mask Foam-Activated Acne Treatment",
          "Concentrated Reconstructing Serum",
          "Mission Perfection Serum",
          "Silver Skin Savior Salicylic/Glycolic Acid Treatment",
          "ELEVATE Advanced Lift Contouring Cream",
          "Face Mask Magic",
          "Lip Sleeping Mask",
          "Rose Face Mask",
          "Black Tea Instant Perfecting Mask",
          "Face Mask",
          "The Lifting and Firming Mask",
          "Experiential Masks Set",
          "Pumpkin Enzyme Mask Enzymatic Dermal Resurfacer",
          "Overnight Miracle Mask",
          "Watermelon Glow Sleeping Mask Mini",
          "Black Tea Firming Overnight Mask Mini",
          "The Ultimate Glow Set",
          "Hand Mask",
          "Vitamin C Glow Face Mask",
          "Hand Mask - Avocado",
          "The Brilliance Brightening Mask",
          "Face Mask - Pearl - Brightening",
          "Black Tea Instant Perfecting Mask Mini",
          "Luminous Dewy Skin Sheet Mask",
          "Face Mask - Avocado",
          "Advanced Génifique Hydrogel Melting Mask",
          "Purity Made Simple Pore Extractor Mask",
          "Egg Cream Mask Hydration",
          "Clay Mask",
          "Nutritious Vitality8™ Night Creme/Mask",
          "Face Mask - Green Tea - Mattifying",
          "Mud Mask Purifying & Mattifying",
          "Evercalm™ Ultra Comforting Rescue Mask",
          "Watermelon Glow Jelly Sheet Mask",
          "Crazy for Clay!",
          "Luminous Deep Hydration Lifting Mask",
          "Face Mask - Rose - Moisturizing",
          "Time Freeze Sleeping Mask",
          "SUPERMASK - The Golden Mask",
          "#GLITTERMASK GRAVITYMUD™ Firming Treatment",
          "Greek Yoghurt Advanced Nourishing Sleeping Facial",
          "Face Mask - Aloe Vera - Replenishing",
          "MOISTURE BOUND Sleeping Recovery Mask",
          "Face Mask - Pineapple - Pore Perfecting",
          "Face Mask - Coconut - Nourishing",
          "SUPERMASK - The Charcoal Mask",
          "Superfood Skin Reset Antioxidant Mask",
          "Sleeping Mask - Rose",
          "SUPERMASK - The Silver Mask",
          "Sleeping Mask - Pearl",
          "Treatment Lotion Hydrating Mask",
          "Pomegranate AHA & Enzymes Resurfacing Mask",
          "Moisturizing Mask",
          "Face Mask - Algae - Detoxifying",
          "Face Mask - Grape - Anti-pollution",
          "Goddess Clay Mask",
          "The Lifting and Firming Mask Mini",
          "SUPERMASK - The Mud Mask",
          "Brightening Infusion Hydrogel Mask",
          "Deep Cleansing Mask",
          "Sleeping Mask - Coconut Water",
          "Face Mask - Algae",
          "Pore Minimalist Black Charcoal Sheet Mask",
          "Pore Cleaner Bubble Foam",
          "Sleeping Mask - Aloe Vera",
          "Hydrating Lip Mask",
          "V-Facial Intensive Wrap",
          "Cocoa Moisture Mask",
          "Face Mask - Lotus",
          "Extra-Firming Mask",
          "Polishing Mask",
          "Midnight Radiance Mask",
          "PERFECT Clarifying Pore Corrector Mask",
          "Gel Mask Hydrating & Quenching",
          "Hygge HydraClay™ Detox Mask",
          "Water Pocket Sheet Mask Sleeping Mask (Replenishing)",
          "TIME RESPONSE Vintage Wash-off Masque",
          "MOISTURE BOUND Intensive Serum Masque",
          "Pore Extractor Pomegranate Mask",
          "Face Mask - Pomegranate",
          "NightWear Plus 3-Minute Detox Mask",
          "Rose Jelly Mask",
          "Bamboo Waterlock Mask",
          "After-Sun Mask - Watermelon",
          "Whipped Mud Mask Collection",
          "Wrinkle Warrior® Pink Plumping Mask",
          "Algae Brightening Mask",
          "Egg Cream Mask Firming",
          "Coconut Ceramide Mask",
          "First Aid Transforming Peel Off Mask",
          "Ain’t Misbehavin’® Intensive 10% Sulfur Acne Mask & Emergency Spot Treatment",
          "Jelly Mask Moisturizing & Energizing",
          "The True Tincture Mask - Chamomile",
          "Nose Mask - Pineapple",
          "Peel-off Mask",
          "Water Pocket Sheet Mask Water Bank (Moisturizing)",
          "SPLASH Absolute Hydration Replenishing Sleeping Pack",
          "SOS Hydra Refreshing Hydration Mask",
          "SUPERMASK - The Primer Mask",
          "Egg Mousse Pack",
          "Self Tan Express Bronzing Face Sheet Mask",
          "Mask-Imum Revival Hydra-Plumping Mask",
          "PRE:EMPT SERIES™ Refreshing Shower Mask",
          "The Eye Concentrate",
          "Benefiance WrinkleResist24 Intensive Eye Contour Cream",
          "Banana Bright Eye Crème",
          "Black Tea Firming and De-Puffing Eye Cream",
          "Moisturizing Eye Bomb",
          "The Eye Balm Intense",
          "Benefiance WrinkleResist24 Pure Retinol Express Smoothing Eye Mask",
          "Eye Sleeping Mask",
          "Super Restorative Total Eye Concentrate",
          "The Lifting Eye Serum",
          "Eye Mask",
          "Advanced Génifique Eye Cream",
          "Ultimune Eye Power Infusing Eye Concentrate",
          "Water Bank Eye Gel",
          "Future Solution LX Eye and Lip Contour Regenerating Cream",
          "Cucumber De-Tox™ Hydra-Gel Eye Patches",
          "Rénergie Lift Multi-Action Eye",
          "MOISTURE BOUND Rejuvenating Eye Treatment Gel",
          "Puffy Under-Eye Patches",
          "Extra Eye Repair Cream",
          "Superfood Peptide Eye Cream",
          "Bio-Performance LiftDynamic Eye Treatment",
          "Retinol Youth Renewal Eye Serum",
          "Black Pine 3D Sculpting, Firming & Lifting Super Eye Serum",
          "Crème Ancienne Supreme Eye Serum",
          "Extra-Firming Eye Wrinkle Smoothing Cream",
          "Peat Miracle Revital Eye Cream",
          "Intensive Vitalizing Eye Essence",
          "Illuminating Bright Eyes Gels + Silky Mask Beauty Sleep Set",
          "TIME RESPONSE Eye Reserve Crème",
          "Hello Bright Eyes",
          "Multi-Task Eye Serum Mask",
          "Ibuki Eye Correcting Cream",
          "Bio Performance Glow Revival Eye Treatment",
          "Black Pine 3D Sculpting, Firming & Lifting Eye Cream",
          "Helix AM/PM Eye Gel",
          "Énergie de Vie The Illuminating & Anti-Fatigue Cooling Eye Gel",
          "Luminous Deep Hydration Revitalizing Eye Mask",
          "Enhancing Eye Lift Serum",
          "Essential Energy Eye Definer",
          "Bright Eyes Collagen-Infused Brightening Colloidal Silver Eye Masks",
          "Ultimate Revival Eye Cream",
          "Mission Perfection Eye Broad Spectrum SPF 15",
          "Ice-Cold Eye Cream",
          "Vitamin C Ester Brightening Eye Serum",
          "Lotus Caress to Moisturize Eyes",
          "Eye Mask - Grape - Smoothing",
          "Urban Environment Oil-Free UV Protector Broad Spectrum SPF 42 For Face",
          "Silken Pore Perfecting Sunscreen Broad Spectrum SPF 35 PA+++",
          "Ultimate Sun Protection Lotion WetForce SPF 50+",
          "Sunscreen Multi-Protection Broad Spectrum SPF 50",
          "Radiance Primer Broad Spectrum SPF 35 Sunscreen",
          "Ultimate Sun Protection Cream Broad Spectrum SPF 50+ Wetforce For Face",
          "MOISTURE BOUND Tinted Treatment Moisturizer SPF 15",
          "Renewed Hope In A Jar SPF 30",
          "High Potency Classics: Face Finishing & Firming Moisturizer Tint SPF 30",
          "FUTURE RESPONSE Age Defense Creme SPF 30",
          "Advanced Time Zone SPF 15- Normal/Combination Skin",
          "Multi-Active Day Cream SPF 20 - All Skin Types",
          "Bienfait Teinté Beauty Balm Sunscreen Broad Spectrum SPF 30",
          "Future Solution LX Total Protective Cream Broad Spectrum SPF 20 Sunscreen",
          "Sports BB Broad Spectrum SPF 50+ WetForce",
          "Super Multi-Corrective Cream Sunscreen Broad Spectrum SPF 30",
          "The Broad Spectrum SPF 50 UV Protecting Fluid",
          "Ultimate Sun Protection Lotion WetForce SPF 50+ Mini",
          "Wetforce Clear Stick UV Protector Broad Spectrum 50+",
          "Black Tea Age-Delay Lotion Broad Spectrum Sunscreen SPF 20",
          "CC Red Correct Automatic Perfector Broad Spectrum SPF 25",
          "Tarteguard 30 Vegan Sunscreen Lotion Broad Spectrum SPF 30",
          "Sugar Sport Treatment Sunscreen SPF 30",
          "Balancing Moisturizer Broad Spectrum SPF 15 PA++",
          "Resurgence® Age–Balancing Moisture Broad Spectrum SPF 30",
          "Repairing Tint & Radiance Moisturizer SPF 30",
          "Moisturizing Bomb Cushion Compact Broad Spectrum SPF 50",
          "DayWear UV Base Advanced Anti-Oxidant & UV Defense SPF 50",
          "Face Lotion SPF 30",
          "Classic Sport SPF 50 - Fresh Mango",
          "DayWear Multi-Protection Anti-Oxidant Sheer Tint Release Moisturizer Broad Spectrum SPF 15 - Normal/ Combination Skin",
          "Rènergie Lift Multi-Action Sunscreen Broad Spectrum SPF 15 For Dry Skin",
          "Face Protect SPF 50",
          "DayWear BB Anti-Oxidant Beauty Benefit Crème SPF 35",
          "Resort Collection Sun Protection Cushion SPF 30+",
          "Sunscreen Cream High Protection SPF 30",
          "Sun Oil 15 SPF",
          "Ultimate Miracle Worker Multi-Rejuvenating Lightweight Emulsion SPF 30",
          "Resort Collection Sun Protection Mist Broad Spectrum SPF 30 Sunscreen",
          "Primer Broad Spectrum Sunscreen SPF 25",
          "Sun Lotion 50 SPF",
          "Sun Lotion 30 SPF",
          "Future Solution LX Total Protective Emulsion Broad Spectrum SPF 20 Sunscreen",
          "After-Sun Milk Soothing Body Lotion",
          "Yoghurt Nourishing Fluid Veil Face Sunscreen Broad Spectrum SPF 30",
          "Daily Deflector™ Waterlight Broad Spectrum SPF 50+ PA+++ Anti-Aging Sunscreen",
          "Pro Light Self Tan Bronzing Mist",
          "Treatment Cleansing Foam",
          "Charlotte's Magic Cream",
          "Charlotte's Magic Cream Mini",
          "A Perfect World™ SPF 40 Age-Defense Moisturizer with White Tea",
          "Plantscription™ SPF 25 Power Anti-Aging Cream",
          "Exfoliating Scrub",
          "GENIUS Liquid Collagen",
          "Plantscription™ SPF 25 Power Anti-Aging Oil-Free Cream",
          "Defense Refresh Setting Mist Broad Spectrum SPF 50",
          "Photo Finish Foundation Primer SPF 20",
          "The Broad Spectrum SPF 50 UV Protecting Fluid",
          "Ultimate Sun Protection Spray Broad Spectrum SPF 50+ For Face/Body",
          "Broad Spectrum SPF 50 Sunscreen Face Cream",
          "DayWear UV Base Advanced Anti-Oxidant & UV Defense SPF 50",
          "Resort Collection Sun Protection Mist Broad Spectrum SPF 30 Sunscreen",
          "Virtu-oil Body Mist Broad Spectrum SPF 30",
          "Sun Lotion 30 SPF",
          "Perfect Day 2-in-1 Everywear Lotion Broad Spectrum SPF 50 + Mint Condition Lip Shield SPF 30"
         ]
        }
       ],
       "layout": {
        "font": {
         "family": "Redaction"
        },
        "template": {
         "data": {
          "bar": [
           {
            "error_x": {
             "color": "#f2f5fa"
            },
            "error_y": {
             "color": "#f2f5fa"
            },
            "marker": {
             "line": {
              "color": "rgb(17,17,17)",
              "width": 0.5
             },
             "pattern": {
              "fillmode": "overlay",
              "size": 10,
              "solidity": 0.2
             }
            },
            "type": "bar"
           }
          ],
          "barpolar": [
           {
            "marker": {
             "line": {
              "color": "rgb(17,17,17)",
              "width": 0.5
             },
             "pattern": {
              "fillmode": "overlay",
              "size": 10,
              "solidity": 0.2
             }
            },
            "type": "barpolar"
           }
          ],
          "carpet": [
           {
            "aaxis": {
             "endlinecolor": "#A2B1C6",
             "gridcolor": "#506784",
             "linecolor": "#506784",
             "minorgridcolor": "#506784",
             "startlinecolor": "#A2B1C6"
            },
            "baxis": {
             "endlinecolor": "#A2B1C6",
             "gridcolor": "#506784",
             "linecolor": "#506784",
             "minorgridcolor": "#506784",
             "startlinecolor": "#A2B1C6"
            },
            "type": "carpet"
           }
          ],
          "choropleth": [
           {
            "colorbar": {
             "outlinewidth": 0,
             "ticks": ""
            },
            "type": "choropleth"
           }
          ],
          "contour": [
           {
            "colorbar": {
             "outlinewidth": 0,
             "ticks": ""
            },
            "colorscale": [
             [
              0,
              "#0d0887"
             ],
             [
              0.1111111111111111,
              "#46039f"
             ],
             [
              0.2222222222222222,
              "#7201a8"
             ],
             [
              0.3333333333333333,
              "#9c179e"
             ],
             [
              0.4444444444444444,
              "#bd3786"
             ],
             [
              0.5555555555555556,
              "#d8576b"
             ],
             [
              0.6666666666666666,
              "#ed7953"
             ],
             [
              0.7777777777777778,
              "#fb9f3a"
             ],
             [
              0.8888888888888888,
              "#fdca26"
             ],
             [
              1,
              "#f0f921"
             ]
            ],
            "type": "contour"
           }
          ],
          "contourcarpet": [
           {
            "colorbar": {
             "outlinewidth": 0,
             "ticks": ""
            },
            "type": "contourcarpet"
           }
          ],
          "heatmap": [
           {
            "colorbar": {
             "outlinewidth": 0,
             "ticks": ""
            },
            "colorscale": [
             [
              0,
              "#0d0887"
             ],
             [
              0.1111111111111111,
              "#46039f"
             ],
             [
              0.2222222222222222,
              "#7201a8"
             ],
             [
              0.3333333333333333,
              "#9c179e"
             ],
             [
              0.4444444444444444,
              "#bd3786"
             ],
             [
              0.5555555555555556,
              "#d8576b"
             ],
             [
              0.6666666666666666,
              "#ed7953"
             ],
             [
              0.7777777777777778,
              "#fb9f3a"
             ],
             [
              0.8888888888888888,
              "#fdca26"
             ],
             [
              1,
              "#f0f921"
             ]
            ],
            "type": "heatmap"
           }
          ],
          "heatmapgl": [
           {
            "colorbar": {
             "outlinewidth": 0,
             "ticks": ""
            },
            "colorscale": [
             [
              0,
              "#0d0887"
             ],
             [
              0.1111111111111111,
              "#46039f"
             ],
             [
              0.2222222222222222,
              "#7201a8"
             ],
             [
              0.3333333333333333,
              "#9c179e"
             ],
             [
              0.4444444444444444,
              "#bd3786"
             ],
             [
              0.5555555555555556,
              "#d8576b"
             ],
             [
              0.6666666666666666,
              "#ed7953"
             ],
             [
              0.7777777777777778,
              "#fb9f3a"
             ],
             [
              0.8888888888888888,
              "#fdca26"
             ],
             [
              1,
              "#f0f921"
             ]
            ],
            "type": "heatmapgl"
           }
          ],
          "histogram": [
           {
            "marker": {
             "pattern": {
              "fillmode": "overlay",
              "size": 10,
              "solidity": 0.2
             }
            },
            "type": "histogram"
           }
          ],
          "histogram2d": [
           {
            "colorbar": {
             "outlinewidth": 0,
             "ticks": ""
            },
            "colorscale": [
             [
              0,
              "#0d0887"
             ],
             [
              0.1111111111111111,
              "#46039f"
             ],
             [
              0.2222222222222222,
              "#7201a8"
             ],
             [
              0.3333333333333333,
              "#9c179e"
             ],
             [
              0.4444444444444444,
              "#bd3786"
             ],
             [
              0.5555555555555556,
              "#d8576b"
             ],
             [
              0.6666666666666666,
              "#ed7953"
             ],
             [
              0.7777777777777778,
              "#fb9f3a"
             ],
             [
              0.8888888888888888,
              "#fdca26"
             ],
             [
              1,
              "#f0f921"
             ]
            ],
            "type": "histogram2d"
           }
          ],
          "histogram2dcontour": [
           {
            "colorbar": {
             "outlinewidth": 0,
             "ticks": ""
            },
            "colorscale": [
             [
              0,
              "#0d0887"
             ],
             [
              0.1111111111111111,
              "#46039f"
             ],
             [
              0.2222222222222222,
              "#7201a8"
             ],
             [
              0.3333333333333333,
              "#9c179e"
             ],
             [
              0.4444444444444444,
              "#bd3786"
             ],
             [
              0.5555555555555556,
              "#d8576b"
             ],
             [
              0.6666666666666666,
              "#ed7953"
             ],
             [
              0.7777777777777778,
              "#fb9f3a"
             ],
             [
              0.8888888888888888,
              "#fdca26"
             ],
             [
              1,
              "#f0f921"
             ]
            ],
            "type": "histogram2dcontour"
           }
          ],
          "mesh3d": [
           {
            "colorbar": {
             "outlinewidth": 0,
             "ticks": ""
            },
            "type": "mesh3d"
           }
          ],
          "parcoords": [
           {
            "line": {
             "colorbar": {
              "outlinewidth": 0,
              "ticks": ""
             }
            },
            "type": "parcoords"
           }
          ],
          "pie": [
           {
            "automargin": true,
            "type": "pie"
           }
          ],
          "scatter": [
           {
            "marker": {
             "line": {
              "color": "#283442"
             }
            },
            "type": "scatter"
           }
          ],
          "scatter3d": [
           {
            "line": {
             "colorbar": {
              "outlinewidth": 0,
              "ticks": ""
             }
            },
            "marker": {
             "colorbar": {
              "outlinewidth": 0,
              "ticks": ""
             }
            },
            "type": "scatter3d"
           }
          ],
          "scattercarpet": [
           {
            "marker": {
             "colorbar": {
              "outlinewidth": 0,
              "ticks": ""
             }
            },
            "type": "scattercarpet"
           }
          ],
          "scattergeo": [
           {
            "marker": {
             "colorbar": {
              "outlinewidth": 0,
              "ticks": ""
             }
            },
            "type": "scattergeo"
           }
          ],
          "scattergl": [
           {
            "marker": {
             "line": {
              "color": "#283442"
             }
            },
            "type": "scattergl"
           }
          ],
          "scattermapbox": [
           {
            "marker": {
             "colorbar": {
              "outlinewidth": 0,
              "ticks": ""
             }
            },
            "type": "scattermapbox"
           }
          ],
          "scatterpolar": [
           {
            "marker": {
             "colorbar": {
              "outlinewidth": 0,
              "ticks": ""
             }
            },
            "type": "scatterpolar"
           }
          ],
          "scatterpolargl": [
           {
            "marker": {
             "colorbar": {
              "outlinewidth": 0,
              "ticks": ""
             }
            },
            "type": "scatterpolargl"
           }
          ],
          "scatterternary": [
           {
            "marker": {
             "colorbar": {
              "outlinewidth": 0,
              "ticks": ""
             }
            },
            "type": "scatterternary"
           }
          ],
          "surface": [
           {
            "colorbar": {
             "outlinewidth": 0,
             "ticks": ""
            },
            "colorscale": [
             [
              0,
              "#0d0887"
             ],
             [
              0.1111111111111111,
              "#46039f"
             ],
             [
              0.2222222222222222,
              "#7201a8"
             ],
             [
              0.3333333333333333,
              "#9c179e"
             ],
             [
              0.4444444444444444,
              "#bd3786"
             ],
             [
              0.5555555555555556,
              "#d8576b"
             ],
             [
              0.6666666666666666,
              "#ed7953"
             ],
             [
              0.7777777777777778,
              "#fb9f3a"
             ],
             [
              0.8888888888888888,
              "#fdca26"
             ],
             [
              1,
              "#f0f921"
             ]
            ],
            "type": "surface"
           }
          ],
          "table": [
           {
            "cells": {
             "fill": {
              "color": "#506784"
             },
             "line": {
              "color": "rgb(17,17,17)"
             }
            },
            "header": {
             "fill": {
              "color": "#2a3f5f"
             },
             "line": {
              "color": "rgb(17,17,17)"
             }
            },
            "type": "table"
           }
          ]
         },
         "layout": {
          "annotationdefaults": {
           "arrowcolor": "#f2f5fa",
           "arrowhead": 0,
           "arrowwidth": 1
          },
          "autotypenumbers": "strict",
          "coloraxis": {
           "colorbar": {
            "outlinewidth": 0,
            "ticks": ""
           }
          },
          "colorscale": {
           "diverging": [
            [
             0,
             "#8e0152"
            ],
            [
             0.1,
             "#c51b7d"
            ],
            [
             0.2,
             "#de77ae"
            ],
            [
             0.3,
             "#f1b6da"
            ],
            [
             0.4,
             "#fde0ef"
            ],
            [
             0.5,
             "#f7f7f7"
            ],
            [
             0.6,
             "#e6f5d0"
            ],
            [
             0.7,
             "#b8e186"
            ],
            [
             0.8,
             "#7fbc41"
            ],
            [
             0.9,
             "#4d9221"
            ],
            [
             1,
             "#276419"
            ]
           ],
           "sequential": [
            [
             0,
             "#0d0887"
            ],
            [
             0.1111111111111111,
             "#46039f"
            ],
            [
             0.2222222222222222,
             "#7201a8"
            ],
            [
             0.3333333333333333,
             "#9c179e"
            ],
            [
             0.4444444444444444,
             "#bd3786"
            ],
            [
             0.5555555555555556,
             "#d8576b"
            ],
            [
             0.6666666666666666,
             "#ed7953"
            ],
            [
             0.7777777777777778,
             "#fb9f3a"
            ],
            [
             0.8888888888888888,
             "#fdca26"
            ],
            [
             1,
             "#f0f921"
            ]
           ],
           "sequentialminus": [
            [
             0,
             "#0d0887"
            ],
            [
             0.1111111111111111,
             "#46039f"
            ],
            [
             0.2222222222222222,
             "#7201a8"
            ],
            [
             0.3333333333333333,
             "#9c179e"
            ],
            [
             0.4444444444444444,
             "#bd3786"
            ],
            [
             0.5555555555555556,
             "#d8576b"
            ],
            [
             0.6666666666666666,
             "#ed7953"
            ],
            [
             0.7777777777777778,
             "#fb9f3a"
            ],
            [
             0.8888888888888888,
             "#fdca26"
            ],
            [
             1,
             "#f0f921"
            ]
           ]
          },
          "colorway": [
           "#636efa",
           "#EF553B",
           "#00cc96",
           "#ab63fa",
           "#FFA15A",
           "#19d3f3",
           "#FF6692",
           "#B6E880",
           "#FF97FF",
           "#FECB52"
          ],
          "font": {
           "color": "#f2f5fa"
          },
          "geo": {
           "bgcolor": "rgb(17,17,17)",
           "lakecolor": "rgb(17,17,17)",
           "landcolor": "rgb(17,17,17)",
           "showlakes": true,
           "showland": true,
           "subunitcolor": "#506784"
          },
          "hoverlabel": {
           "align": "left"
          },
          "hovermode": "closest",
          "mapbox": {
           "style": "dark"
          },
          "paper_bgcolor": "rgb(17,17,17)",
          "plot_bgcolor": "rgb(17,17,17)",
          "polar": {
           "angularaxis": {
            "gridcolor": "#506784",
            "linecolor": "#506784",
            "ticks": ""
           },
           "bgcolor": "rgb(17,17,17)",
           "radialaxis": {
            "gridcolor": "#506784",
            "linecolor": "#506784",
            "ticks": ""
           }
          },
          "scene": {
           "xaxis": {
            "backgroundcolor": "rgb(17,17,17)",
            "gridcolor": "#506784",
            "gridwidth": 2,
            "linecolor": "#506784",
            "showbackground": true,
            "ticks": "",
            "zerolinecolor": "#C8D4E3"
           },
           "yaxis": {
            "backgroundcolor": "rgb(17,17,17)",
            "gridcolor": "#506784",
            "gridwidth": 2,
            "linecolor": "#506784",
            "showbackground": true,
            "ticks": "",
            "zerolinecolor": "#C8D4E3"
           },
           "zaxis": {
            "backgroundcolor": "rgb(17,17,17)",
            "gridcolor": "#506784",
            "gridwidth": 2,
            "linecolor": "#506784",
            "showbackground": true,
            "ticks": "",
            "zerolinecolor": "#C8D4E3"
           }
          },
          "shapedefaults": {
           "line": {
            "color": "#f2f5fa"
           }
          },
          "sliderdefaults": {
           "bgcolor": "#C8D4E3",
           "bordercolor": "rgb(17,17,17)",
           "borderwidth": 1,
           "tickwidth": 0
          },
          "ternary": {
           "aaxis": {
            "gridcolor": "#506784",
            "linecolor": "#506784",
            "ticks": ""
           },
           "baxis": {
            "gridcolor": "#506784",
            "linecolor": "#506784",
            "ticks": ""
           },
           "bgcolor": "rgb(17,17,17)",
           "caxis": {
            "gridcolor": "#506784",
            "linecolor": "#506784",
            "ticks": ""
           }
          },
          "title": {
           "x": 0.05
          },
          "updatemenudefaults": {
           "bgcolor": "#506784",
           "borderwidth": 0
          },
          "xaxis": {
           "automargin": true,
           "gridcolor": "#283442",
           "linecolor": "#506784",
           "ticks": "",
           "title": {
            "standoff": 15
           },
           "zerolinecolor": "#283442",
           "zerolinewidth": 2
          },
          "yaxis": {
           "automargin": true,
           "gridcolor": "#283442",
           "linecolor": "#506784",
           "ticks": "",
           "title": {
            "standoff": 15
           },
           "zerolinecolor": "#283442",
           "zerolinewidth": 2
          }
         }
        },
        "title": {
         "text": "Toxins and Products"
        },
        "xaxis": {
         "automargin": true,
         "tickangle": -45,
         "title": {
          "text": "Toxin"
         }
        },
        "yaxis": {
         "title": {
          "text": "Product"
         }
        }
       }
      }
     },
     "metadata": {},
     "output_type": "display_data"
    }
   ],
   "source": [
    "layout = go.Layout(\n",
    "    title='Toxins and Products',\n",
    "    template='plotly_dark',\n",
    "    xaxis=dict(title='Toxin', tickangle=-45, automargin=True),\n",
    "    yaxis=dict(title='Product'),\n",
    "    font=dict(family=\"Redaction\")\n",
    "    # margin=dict(l=50, r=50, t=80, b=50)\n",
    ")\n",
    "\n",
    "data = [\n",
    "    go.Bar(\n",
    "        x=df['Toxin'],\n",
    "        y=df['Product'],\n",
    "        marker=dict(color='#db93b0')\n",
    "    )\n",
    "]\n",
    "\n",
    "fig = go.Figure(data=data, layout=layout)\n",
    "\n",
    "pio.show(fig)\n",
    "\n",
    "pio.write_html(fig, file='../reports/dynamic_visuals/low_hazard_bar.html', auto_open=False)"
   ]
  },
  {
   "cell_type": "markdown",
   "metadata": {},
   "source": [
    "# Low Hazard Interactive Chart"
   ]
  },
  {
   "cell_type": "code",
   "execution_count": 139,
   "metadata": {},
   "outputs": [
    {
     "data": {
      "application/vnd.plotly.v1+json": {
       "config": {
        "plotlyServerURL": "https://plot.ly"
       },
       "data": [
        {
         "marker": {
          "color": "#ebff00"
         },
         "type": "bar",
         "x": [
          "Ethanolamine",
          "Oxybenzone",
          "Oxybenzone",
          "Oxybenzone",
          "Oxybenzone",
          "Oxybenzone",
          "Oxybenzone",
          "Oxybenzone",
          "Oxybenzone",
          "Oxybenzone",
          "Oxybenzone",
          "Oxybenzone",
          "Oxybenzone",
          "Ethanolamine",
          "Formaldehyde",
          "Diethanol",
          "Silane",
          "Silane",
          "Silane",
          "Silane",
          "Silane",
          "Silane",
          "Silane",
          "Silane",
          "Silane",
          "Silane",
          "Silane",
          "Silane",
          "Silane",
          "Silane",
          "Silane",
          "Silane",
          "Silane",
          "Silane",
          "Silane",
          "Silane",
          "Silane",
          "Silane",
          "Silane",
          "Silane",
          "Silane",
          "Silane",
          "Silane",
          "Silane",
          "Silane",
          "Silane",
          "Silane",
          "Silane",
          "Silane",
          "Silane",
          "Silane",
          "Silane",
          "Silane",
          "Silane",
          "Silane",
          "Silane",
          "Silane",
          "Silane",
          "Silane",
          "Silane",
          "Silane",
          "Silane",
          "Silane",
          "Silane",
          "Silane",
          "Silane",
          "Silane",
          "Silane",
          "Octinaxate"
         ],
         "y": [
          "No products found",
          "No products found",
          "Camera Ready CC Cream Broad Spectrum SPF 30 Dark Spot Correcting",
          "Lingerie de Peau BB Cream",
          "Exfoliating Scrub",
          "Hydra Life BB Creme Broad Spectrum SPF 30",
          "The Broad Spectrum SPF 50 UV Protecting Fluid",
          "Ultimate Sun Protection Spray Broad Spectrum SPF 50+ For Face/Body",
          "Broad Spectrum SPF 50 Sunscreen Face Cream",
          "DayWear UV Base Advanced Anti-Oxidant & UV Defense SPF 50",
          "DayWear BB Anti-Oxidant Beauty Benefit Crème SPF 35",
          "Protect Ultra Sheer Weightless Sunscreen Broad Spectrum SPF 50+ UVA/UVB",
          "Sun Lotion 30 SPF",
          "Radiance Awakening Mask Intense",
          "No products found",
          "No products found",
          "Ultra Facial Cream",
          "The True Cream Moisturizing Bomb",
          "Water Bank Moisture Cream",
          "Dramatically Different Moisturizing Gel",
          "Revitalizing Supreme Global Anti-Aging Crème",
          "Renewed Hope in A Jar Refreshing & Refining Moisturizer",
          "Dramatically Different Hydrating Jelly",
          "Drink of H2O Hydrating Boost Moisturizer Rainforest of the Sea™",
          "Limited Edition Dramatically Different™ Moisturizing Gel",
          "Cooling Water",
          "DREAMDUO™ Overnight Transforming Treatment",
          "Essential Power Skin Toner for Normal to Dry Skin",
          "Bergamot Herbal Extract Toner",
          "A Glowing Regimen Trial Set",
          "FRXXXTION Stick Exfoliating Cleanser",
          "Fresh Pressed 7-day System with Pure Vitamin C",
          "Advanced Night Repair Synchronized Recovery Complex II",
          "The Treatment Lotion",
          "Skin Love Glow Elixir",
          "needles no more™",
          "Fresh Pressed Daily Booster with Pure Vitamin C 10%",
          "Watermelon Brightening Serum",
          "MOISTURE BOUND Rejuvenating Serum",
          "Repairwear Laser Focus",
          "needles no more® 3-D filler mask",
          "Perfectionist Pro Rapid Firm + Lift Treatment",
          "Future Solution LX Intensive Firming Contour Serum",
          "Advanced Night Repair Concentrated Recovery PowerFoil Mask",
          "The Brilliance Brightening Mask",
          "Nutritious Vitality8™ Night Creme/Mask",
          "Treatment Lotion Hydrating Mask",
          "Advanced Night Repair Concentrated Recovery Eye Mask",
          "Plantscription™ Powerful Lifting Overnight Mask",
          "Water Pocket Sheet Mask Sleeping Mask (Replenishing)",
          "Flower Fusion™ Lavender Soothing Sheet Mask",
          "Flower Fusion™ Rose Hydrating Sheet Mask",
          "Flower Fusion™ Raspberry Refreshing Sheet Mask",
          "Flower Fusion™ Violet Nourishing Sheet Mask",
          "Flower Fusion™ Orange Radiance-Boosting Sheet Mask",
          "Advanced Night Repair Eye Concentrate Matrix",
          "Advanced Night Repair Eye Serum Synchronized Complex II",
          "Eye Doctor™ Moisture Care For Skin Around Eyes",
          "Intensive Vitalizing Eye Essence",
          "Goat Milk De-Puffing Eye Balm",
          "Super-Cool De-Puffing Eye Balm",
          "Renewed Hope In A Jar Eye",
          "FIRMx™ 360 Eye Renewal",
          "Time In A Bottle For Eyes 100% In-Control",
          "Renewed Hope In A Jar SPF 30",
          "Essential-C Eye Cream SPF 15 PA++",
          "Do Not Age with Dr. Brandt Triple Peptide Eye Cream",
          "ELEVATE Firming & Lifting Contouring Eye Cream",
          "No products found"
         ]
        }
       ],
       "layout": {
        "font": {
         "family": "Redaction"
        },
        "margin": {
         "b": 50,
         "l": 50,
         "r": 50,
         "t": 80
        },
        "template": {
         "data": {
          "bar": [
           {
            "error_x": {
             "color": "#f2f5fa"
            },
            "error_y": {
             "color": "#f2f5fa"
            },
            "marker": {
             "line": {
              "color": "rgb(17,17,17)",
              "width": 0.5
             },
             "pattern": {
              "fillmode": "overlay",
              "size": 10,
              "solidity": 0.2
             }
            },
            "type": "bar"
           }
          ],
          "barpolar": [
           {
            "marker": {
             "line": {
              "color": "rgb(17,17,17)",
              "width": 0.5
             },
             "pattern": {
              "fillmode": "overlay",
              "size": 10,
              "solidity": 0.2
             }
            },
            "type": "barpolar"
           }
          ],
          "carpet": [
           {
            "aaxis": {
             "endlinecolor": "#A2B1C6",
             "gridcolor": "#506784",
             "linecolor": "#506784",
             "minorgridcolor": "#506784",
             "startlinecolor": "#A2B1C6"
            },
            "baxis": {
             "endlinecolor": "#A2B1C6",
             "gridcolor": "#506784",
             "linecolor": "#506784",
             "minorgridcolor": "#506784",
             "startlinecolor": "#A2B1C6"
            },
            "type": "carpet"
           }
          ],
          "choropleth": [
           {
            "colorbar": {
             "outlinewidth": 0,
             "ticks": ""
            },
            "type": "choropleth"
           }
          ],
          "contour": [
           {
            "colorbar": {
             "outlinewidth": 0,
             "ticks": ""
            },
            "colorscale": [
             [
              0,
              "#0d0887"
             ],
             [
              0.1111111111111111,
              "#46039f"
             ],
             [
              0.2222222222222222,
              "#7201a8"
             ],
             [
              0.3333333333333333,
              "#9c179e"
             ],
             [
              0.4444444444444444,
              "#bd3786"
             ],
             [
              0.5555555555555556,
              "#d8576b"
             ],
             [
              0.6666666666666666,
              "#ed7953"
             ],
             [
              0.7777777777777778,
              "#fb9f3a"
             ],
             [
              0.8888888888888888,
              "#fdca26"
             ],
             [
              1,
              "#f0f921"
             ]
            ],
            "type": "contour"
           }
          ],
          "contourcarpet": [
           {
            "colorbar": {
             "outlinewidth": 0,
             "ticks": ""
            },
            "type": "contourcarpet"
           }
          ],
          "heatmap": [
           {
            "colorbar": {
             "outlinewidth": 0,
             "ticks": ""
            },
            "colorscale": [
             [
              0,
              "#0d0887"
             ],
             [
              0.1111111111111111,
              "#46039f"
             ],
             [
              0.2222222222222222,
              "#7201a8"
             ],
             [
              0.3333333333333333,
              "#9c179e"
             ],
             [
              0.4444444444444444,
              "#bd3786"
             ],
             [
              0.5555555555555556,
              "#d8576b"
             ],
             [
              0.6666666666666666,
              "#ed7953"
             ],
             [
              0.7777777777777778,
              "#fb9f3a"
             ],
             [
              0.8888888888888888,
              "#fdca26"
             ],
             [
              1,
              "#f0f921"
             ]
            ],
            "type": "heatmap"
           }
          ],
          "heatmapgl": [
           {
            "colorbar": {
             "outlinewidth": 0,
             "ticks": ""
            },
            "colorscale": [
             [
              0,
              "#0d0887"
             ],
             [
              0.1111111111111111,
              "#46039f"
             ],
             [
              0.2222222222222222,
              "#7201a8"
             ],
             [
              0.3333333333333333,
              "#9c179e"
             ],
             [
              0.4444444444444444,
              "#bd3786"
             ],
             [
              0.5555555555555556,
              "#d8576b"
             ],
             [
              0.6666666666666666,
              "#ed7953"
             ],
             [
              0.7777777777777778,
              "#fb9f3a"
             ],
             [
              0.8888888888888888,
              "#fdca26"
             ],
             [
              1,
              "#f0f921"
             ]
            ],
            "type": "heatmapgl"
           }
          ],
          "histogram": [
           {
            "marker": {
             "pattern": {
              "fillmode": "overlay",
              "size": 10,
              "solidity": 0.2
             }
            },
            "type": "histogram"
           }
          ],
          "histogram2d": [
           {
            "colorbar": {
             "outlinewidth": 0,
             "ticks": ""
            },
            "colorscale": [
             [
              0,
              "#0d0887"
             ],
             [
              0.1111111111111111,
              "#46039f"
             ],
             [
              0.2222222222222222,
              "#7201a8"
             ],
             [
              0.3333333333333333,
              "#9c179e"
             ],
             [
              0.4444444444444444,
              "#bd3786"
             ],
             [
              0.5555555555555556,
              "#d8576b"
             ],
             [
              0.6666666666666666,
              "#ed7953"
             ],
             [
              0.7777777777777778,
              "#fb9f3a"
             ],
             [
              0.8888888888888888,
              "#fdca26"
             ],
             [
              1,
              "#f0f921"
             ]
            ],
            "type": "histogram2d"
           }
          ],
          "histogram2dcontour": [
           {
            "colorbar": {
             "outlinewidth": 0,
             "ticks": ""
            },
            "colorscale": [
             [
              0,
              "#0d0887"
             ],
             [
              0.1111111111111111,
              "#46039f"
             ],
             [
              0.2222222222222222,
              "#7201a8"
             ],
             [
              0.3333333333333333,
              "#9c179e"
             ],
             [
              0.4444444444444444,
              "#bd3786"
             ],
             [
              0.5555555555555556,
              "#d8576b"
             ],
             [
              0.6666666666666666,
              "#ed7953"
             ],
             [
              0.7777777777777778,
              "#fb9f3a"
             ],
             [
              0.8888888888888888,
              "#fdca26"
             ],
             [
              1,
              "#f0f921"
             ]
            ],
            "type": "histogram2dcontour"
           }
          ],
          "mesh3d": [
           {
            "colorbar": {
             "outlinewidth": 0,
             "ticks": ""
            },
            "type": "mesh3d"
           }
          ],
          "parcoords": [
           {
            "line": {
             "colorbar": {
              "outlinewidth": 0,
              "ticks": ""
             }
            },
            "type": "parcoords"
           }
          ],
          "pie": [
           {
            "automargin": true,
            "type": "pie"
           }
          ],
          "scatter": [
           {
            "marker": {
             "line": {
              "color": "#283442"
             }
            },
            "type": "scatter"
           }
          ],
          "scatter3d": [
           {
            "line": {
             "colorbar": {
              "outlinewidth": 0,
              "ticks": ""
             }
            },
            "marker": {
             "colorbar": {
              "outlinewidth": 0,
              "ticks": ""
             }
            },
            "type": "scatter3d"
           }
          ],
          "scattercarpet": [
           {
            "marker": {
             "colorbar": {
              "outlinewidth": 0,
              "ticks": ""
             }
            },
            "type": "scattercarpet"
           }
          ],
          "scattergeo": [
           {
            "marker": {
             "colorbar": {
              "outlinewidth": 0,
              "ticks": ""
             }
            },
            "type": "scattergeo"
           }
          ],
          "scattergl": [
           {
            "marker": {
             "line": {
              "color": "#283442"
             }
            },
            "type": "scattergl"
           }
          ],
          "scattermapbox": [
           {
            "marker": {
             "colorbar": {
              "outlinewidth": 0,
              "ticks": ""
             }
            },
            "type": "scattermapbox"
           }
          ],
          "scatterpolar": [
           {
            "marker": {
             "colorbar": {
              "outlinewidth": 0,
              "ticks": ""
             }
            },
            "type": "scatterpolar"
           }
          ],
          "scatterpolargl": [
           {
            "marker": {
             "colorbar": {
              "outlinewidth": 0,
              "ticks": ""
             }
            },
            "type": "scatterpolargl"
           }
          ],
          "scatterternary": [
           {
            "marker": {
             "colorbar": {
              "outlinewidth": 0,
              "ticks": ""
             }
            },
            "type": "scatterternary"
           }
          ],
          "surface": [
           {
            "colorbar": {
             "outlinewidth": 0,
             "ticks": ""
            },
            "colorscale": [
             [
              0,
              "#0d0887"
             ],
             [
              0.1111111111111111,
              "#46039f"
             ],
             [
              0.2222222222222222,
              "#7201a8"
             ],
             [
              0.3333333333333333,
              "#9c179e"
             ],
             [
              0.4444444444444444,
              "#bd3786"
             ],
             [
              0.5555555555555556,
              "#d8576b"
             ],
             [
              0.6666666666666666,
              "#ed7953"
             ],
             [
              0.7777777777777778,
              "#fb9f3a"
             ],
             [
              0.8888888888888888,
              "#fdca26"
             ],
             [
              1,
              "#f0f921"
             ]
            ],
            "type": "surface"
           }
          ],
          "table": [
           {
            "cells": {
             "fill": {
              "color": "#506784"
             },
             "line": {
              "color": "rgb(17,17,17)"
             }
            },
            "header": {
             "fill": {
              "color": "#2a3f5f"
             },
             "line": {
              "color": "rgb(17,17,17)"
             }
            },
            "type": "table"
           }
          ]
         },
         "layout": {
          "annotationdefaults": {
           "arrowcolor": "#f2f5fa",
           "arrowhead": 0,
           "arrowwidth": 1
          },
          "autotypenumbers": "strict",
          "coloraxis": {
           "colorbar": {
            "outlinewidth": 0,
            "ticks": ""
           }
          },
          "colorscale": {
           "diverging": [
            [
             0,
             "#8e0152"
            ],
            [
             0.1,
             "#c51b7d"
            ],
            [
             0.2,
             "#de77ae"
            ],
            [
             0.3,
             "#f1b6da"
            ],
            [
             0.4,
             "#fde0ef"
            ],
            [
             0.5,
             "#f7f7f7"
            ],
            [
             0.6,
             "#e6f5d0"
            ],
            [
             0.7,
             "#b8e186"
            ],
            [
             0.8,
             "#7fbc41"
            ],
            [
             0.9,
             "#4d9221"
            ],
            [
             1,
             "#276419"
            ]
           ],
           "sequential": [
            [
             0,
             "#0d0887"
            ],
            [
             0.1111111111111111,
             "#46039f"
            ],
            [
             0.2222222222222222,
             "#7201a8"
            ],
            [
             0.3333333333333333,
             "#9c179e"
            ],
            [
             0.4444444444444444,
             "#bd3786"
            ],
            [
             0.5555555555555556,
             "#d8576b"
            ],
            [
             0.6666666666666666,
             "#ed7953"
            ],
            [
             0.7777777777777778,
             "#fb9f3a"
            ],
            [
             0.8888888888888888,
             "#fdca26"
            ],
            [
             1,
             "#f0f921"
            ]
           ],
           "sequentialminus": [
            [
             0,
             "#0d0887"
            ],
            [
             0.1111111111111111,
             "#46039f"
            ],
            [
             0.2222222222222222,
             "#7201a8"
            ],
            [
             0.3333333333333333,
             "#9c179e"
            ],
            [
             0.4444444444444444,
             "#bd3786"
            ],
            [
             0.5555555555555556,
             "#d8576b"
            ],
            [
             0.6666666666666666,
             "#ed7953"
            ],
            [
             0.7777777777777778,
             "#fb9f3a"
            ],
            [
             0.8888888888888888,
             "#fdca26"
            ],
            [
             1,
             "#f0f921"
            ]
           ]
          },
          "colorway": [
           "#636efa",
           "#EF553B",
           "#00cc96",
           "#ab63fa",
           "#FFA15A",
           "#19d3f3",
           "#FF6692",
           "#B6E880",
           "#FF97FF",
           "#FECB52"
          ],
          "font": {
           "color": "#f2f5fa"
          },
          "geo": {
           "bgcolor": "rgb(17,17,17)",
           "lakecolor": "rgb(17,17,17)",
           "landcolor": "rgb(17,17,17)",
           "showlakes": true,
           "showland": true,
           "subunitcolor": "#506784"
          },
          "hoverlabel": {
           "align": "left"
          },
          "hovermode": "closest",
          "mapbox": {
           "style": "dark"
          },
          "paper_bgcolor": "rgb(17,17,17)",
          "plot_bgcolor": "rgb(17,17,17)",
          "polar": {
           "angularaxis": {
            "gridcolor": "#506784",
            "linecolor": "#506784",
            "ticks": ""
           },
           "bgcolor": "rgb(17,17,17)",
           "radialaxis": {
            "gridcolor": "#506784",
            "linecolor": "#506784",
            "ticks": ""
           }
          },
          "scene": {
           "xaxis": {
            "backgroundcolor": "rgb(17,17,17)",
            "gridcolor": "#506784",
            "gridwidth": 2,
            "linecolor": "#506784",
            "showbackground": true,
            "ticks": "",
            "zerolinecolor": "#C8D4E3"
           },
           "yaxis": {
            "backgroundcolor": "rgb(17,17,17)",
            "gridcolor": "#506784",
            "gridwidth": 2,
            "linecolor": "#506784",
            "showbackground": true,
            "ticks": "",
            "zerolinecolor": "#C8D4E3"
           },
           "zaxis": {
            "backgroundcolor": "rgb(17,17,17)",
            "gridcolor": "#506784",
            "gridwidth": 2,
            "linecolor": "#506784",
            "showbackground": true,
            "ticks": "",
            "zerolinecolor": "#C8D4E3"
           }
          },
          "shapedefaults": {
           "line": {
            "color": "#f2f5fa"
           }
          },
          "sliderdefaults": {
           "bgcolor": "#C8D4E3",
           "bordercolor": "rgb(17,17,17)",
           "borderwidth": 1,
           "tickwidth": 0
          },
          "ternary": {
           "aaxis": {
            "gridcolor": "#506784",
            "linecolor": "#506784",
            "ticks": ""
           },
           "baxis": {
            "gridcolor": "#506784",
            "linecolor": "#506784",
            "ticks": ""
           },
           "bgcolor": "rgb(17,17,17)",
           "caxis": {
            "gridcolor": "#506784",
            "linecolor": "#506784",
            "ticks": ""
           }
          },
          "title": {
           "x": 0.05
          },
          "updatemenudefaults": {
           "bgcolor": "#506784",
           "borderwidth": 0
          },
          "xaxis": {
           "automargin": true,
           "gridcolor": "#283442",
           "linecolor": "#506784",
           "ticks": "",
           "title": {
            "standoff": 15
           },
           "zerolinecolor": "#283442",
           "zerolinewidth": 2
          },
          "yaxis": {
           "automargin": true,
           "gridcolor": "#283442",
           "linecolor": "#506784",
           "ticks": "",
           "title": {
            "standoff": 15
           },
           "zerolinecolor": "#283442",
           "zerolinewidth": 2
          }
         }
        },
        "title": {
         "text": "Low Hazard Toxins & Products"
        },
        "xaxis": {
         "automargin": true,
         "tickangle": -45,
         "title": {
          "text": "Toxin"
         }
        },
        "yaxis": {
         "title": {
          "text": "Product"
         }
        }
       }
      }
     },
     "metadata": {},
     "output_type": "display_data"
    }
   ],
   "source": [
    "# low_df = df[df['Product'] != 'No products found']\n",
    "layout = go.Layout(\n",
    "    title='Low Hazard Toxins & Products',\n",
    "    template='plotly_dark',\n",
    "    xaxis=dict(title='Toxin', tickangle=-45, automargin=True),\n",
    "    yaxis=dict(title='Product'),\n",
    "    font=dict(family=\"Redaction\"),\n",
    "    margin=dict(l=50, r=50, t=80, b=50)\n",
    ")\n",
    "\n",
    "data = [\n",
    "    go.Bar(\n",
    "        x=low_df['Toxin'],\n",
    "        y=low_df['Product'],\n",
    "        marker=dict(color='#ebff00')\n",
    "    )\n",
    "]\n",
    "\n",
    "fig = go.Figure(data=data, layout=layout)\n",
    "\n",
    "# fig.update_layout(width=800, height=600)\n",
    "\n",
    "pio.show(fig)\n",
    "\n",
    "pio.write_html(fig, file='../reports/dynamic_visuals/low_hazard_bar.html', auto_open=False)\n"
   ]
  },
  {
   "cell_type": "markdown",
   "metadata": {},
   "source": [
    "# Moderate Hazard Interactive Chart"
   ]
  },
  {
   "cell_type": "code",
   "execution_count": 140,
   "metadata": {},
   "outputs": [
    {
     "data": {
      "application/vnd.plotly.v1+json": {
       "config": {
        "plotlyServerURL": "https://plot.ly"
       },
       "data": [
        {
         "marker": {
          "color": "#ff8a00"
         },
         "type": "bar",
         "x": [
          "Parfum",
          "Parfum",
          "Parfum",
          "Parfum",
          "Parfum",
          "Parfum",
          "Parfum",
          "Parfum",
          "Parfum",
          "Parfum",
          "Parfum",
          "Parfum",
          "Parfum",
          "Parfum",
          "Parfum",
          "Parfum",
          "Parfum",
          "Parfum",
          "Parfum",
          "Parfum",
          "Parfum",
          "Parfum",
          "Parfum",
          "Parfum",
          "Parfum",
          "Parfum",
          "Parfum",
          "Parfum",
          "Parfum",
          "Parfum",
          "Parfum",
          "Parfum",
          "Parfum",
          "Parfum",
          "Parfum",
          "Parfum",
          "Parfum",
          "Parfum",
          "Parfum",
          "Parfum",
          "Parfum",
          "Parfum",
          "Parfum",
          "Parfum",
          "Parfum",
          "Parfum",
          "Parfum",
          "Parfum",
          "Parfum",
          "Parfum",
          "Parfum",
          "Parfum",
          "Parfum",
          "Parfum",
          "Parfum",
          "Parfum",
          "Parfum",
          "Parfum",
          "Parfum",
          "Parfum",
          "Parfum",
          "Parfum",
          "Parfum",
          "Parfum",
          "Parfum",
          "Parfum",
          "Parfum",
          "Parfum",
          "Parfum",
          "Parfum",
          "Parfum",
          "Parfum",
          "Parfum",
          "Parfum",
          "Parfum",
          "Parfum",
          "Parfum",
          "Parfum",
          "Parfum",
          "Parfum",
          "Parfum",
          "Parfum",
          "Parfum",
          "Parfum",
          "Parfum",
          "Parfum",
          "Parfum",
          "Parfum",
          "Parfum",
          "Parfum",
          "Parfum",
          "Parfum",
          "Parfum",
          "Parfum",
          "Parfum",
          "Parfum",
          "Parfum",
          "Parfum",
          "Parfum",
          "Parfum",
          "Parfum",
          "Parfum",
          "Parfum",
          "Parfum",
          "Parfum",
          "Parfum",
          "Parfum",
          "Parfum",
          "Parfum",
          "Parfum",
          "Parfum",
          "Parfum",
          "Parfum",
          "Parfum",
          "Parfum",
          "Parfum",
          "Parfum",
          "Parfum",
          "Parfum",
          "Parfum",
          "Parfum",
          "Parfum",
          "Parfum",
          "Parfum",
          "Parfum",
          "Parfum",
          "Parfum",
          "Parfum",
          "Parfum",
          "Parfum",
          "Parfum",
          "Fragrance",
          "Fragrance",
          "Fragrance",
          "Fragrance",
          "Fragrance",
          "Fragrance",
          "Fragrance",
          "Fragrance",
          "Fragrance",
          "Fragrance",
          "Fragrance",
          "Fragrance",
          "Fragrance",
          "Fragrance",
          "Fragrance",
          "Fragrance",
          "Fragrance",
          "Fragrance",
          "Fragrance",
          "Fragrance",
          "Fragrance",
          "Fragrance",
          "Fragrance",
          "Fragrance",
          "Fragrance",
          "Fragrance",
          "Fragrance",
          "Fragrance",
          "Fragrance",
          "Fragrance",
          "Fragrance",
          "Fragrance",
          "Fragrance",
          "Fragrance",
          "Fragrance",
          "Fragrance",
          "Fragrance",
          "Fragrance",
          "Fragrance",
          "Fragrance",
          "Fragrance",
          "Fragrance",
          "Fragrance",
          "Fragrance",
          "Fragrance",
          "Fragrance",
          "Fragrance",
          "Fragrance",
          "Fragrance",
          "Fragrance",
          "Fragrance",
          "Fragrance",
          "Fragrance",
          "Fragrance",
          "Fragrance",
          "Fragrance",
          "Fragrance",
          "Fragrance",
          "Fragrance",
          "Fragrance",
          "Fragrance",
          "Fragrance",
          "Fragrance",
          "Fragrance",
          "Fragrance",
          "Fragrance",
          "Fragrance",
          "Fragrance",
          "Fragrance",
          "Fragrance",
          "Fragrance",
          "Fragrance",
          "Fragrance",
          "Fragrance",
          "Fragrance",
          "Fragrance",
          "Fragrance",
          "Fragrance",
          "Fragrance",
          "Fragrance",
          "Fragrance",
          "Fragrance",
          "Fragrance",
          "Fragrance",
          "Fragrance",
          "Fragrance",
          "Fragrance",
          "Fragrance",
          "Fragrance",
          "Fragrance",
          "Fragrance",
          "Fragrance",
          "Fragrance",
          "Fragrance",
          "Fragrance",
          "Fragrance",
          "Fragrance",
          "Fragrance",
          "Fragrance",
          "Fragrance",
          "Fragrance",
          "Fragrance",
          "Fragrance",
          "Fragrance",
          "Fragrance",
          "Fragrance",
          "Fragrance",
          "Fragrance",
          "Fragrance",
          "Fragrance",
          "Fragrance",
          "Fragrance",
          "Fragrance",
          "Fragrance",
          "Fragrance",
          "Fragrance",
          "Fragrance",
          "Fragrance",
          "Fragrance",
          "Fragrance",
          "Fragrance",
          "Fragrance",
          "Fragrance",
          "Fragrance",
          "Fragrance",
          "Fragrance",
          "Fragrance",
          "Fragrance",
          "Fragrance",
          "Fragrance",
          "Fragrance",
          "Fragrance",
          "Fragrance",
          "Fragrance",
          "Fragrance",
          "Fragrance",
          "Fragrance",
          "Fragrance",
          "Fragrance",
          "Fragrance",
          "Fragrance",
          "Fragrance",
          "Fragrance",
          "Fragrance",
          "Fragrance",
          "Fragrance",
          "Fragrance",
          "Fragrance",
          "Fragrance",
          "Fragrance",
          "Fragrance",
          "Fragrance",
          "Fragrance",
          "Fragrance",
          "Fragrance",
          "Fragrance",
          "Fragrance",
          "Fragrance",
          "Fragrance",
          "Fragrance",
          "Fragrance",
          "Fragrance",
          "Fragrance",
          "Fragrance",
          "Fragrance",
          "Fragrance",
          "Fragrance",
          "Fragrance",
          "Fragrance",
          "Fragrance",
          "Fragrance",
          "Fragrance",
          "Fragrance",
          "Fragrance",
          "Fragrance",
          "Fragrance",
          "Fragrance",
          "Fragrance",
          "Fragrance",
          "Fragrance",
          "Fragrance",
          "Fragrance",
          "Fragrance",
          "Fragrance",
          "Fragrance",
          "Fragrance",
          "Fragrance",
          "Fragrance",
          "Fragrance",
          "Fragrance",
          "Fragrance",
          "Fragrance",
          "Fragrance",
          "Fragrance",
          "Fragrance",
          "Fragrance",
          "Fragrance",
          "Fragrance",
          "Fragrance",
          "Fragrance",
          "Fragrance",
          "Fragrance",
          "Fragrance",
          "Fragrance",
          "Fragrance",
          "Fragrance",
          "Fragrance",
          "Fragrance",
          "Fragrance",
          "Fragrance",
          "Fragrance",
          "Fragrance",
          "Fragrance",
          "Fragrance",
          "Fragrance",
          "Fragrance",
          "Fragrance",
          "Fragrance",
          "Fragrance",
          "Fragrance",
          "Fragrance",
          "Fragrance",
          "Fragrance",
          "Fragrance",
          "Fragrance",
          "Fragrance",
          "Fragrance",
          "Fragrance",
          "Fragrance",
          "Fragrance",
          "Fragrance",
          "Fragrance",
          "Fragrance",
          "Fragrance",
          "Fragrance",
          "Fragrance",
          "Fragrance",
          "Fragrance",
          "Fragrance",
          "Fragrance",
          "Fragrance",
          "Fragrance",
          "Fragrance",
          "Fragrance",
          "Fragrance",
          "Fragrance",
          "Fragrance",
          "Fragrance",
          "Fragrance",
          "Fragrance",
          "Fragrance",
          "Fragrance",
          "Fragrance",
          "Fragrance",
          "Fragrance",
          "Fragrance",
          "Fragrance",
          "Fragrance",
          "Fragrance",
          "Fragrance",
          "Fragrance",
          "Fragrance",
          "Fragrance",
          "Fragrance",
          "Fragrance",
          "Fragrance",
          "Fragrance",
          "Fragrance",
          "Fragrance",
          "Fragrance",
          "Fragrance",
          "Fragrance",
          "Fragrance",
          "Fragrance",
          "Fragrance",
          "Fragrance",
          "Fragrance",
          "Fragrance",
          "Fragrance",
          "Fragrance",
          "Fragrance",
          "Fragrance",
          "Fragrance",
          "Fragrance",
          "Fragrance",
          "Fragrance",
          "Fragrance",
          "Fragrance",
          "Fragrance",
          "Fragrance",
          "Fragrance",
          "Fragrance",
          "Fragrance",
          "Fragrance",
          "Fragrance",
          "Fragrance",
          "Fragrance",
          "Fragrance",
          "Fragrance",
          "Fragrance",
          "Fragrance",
          "Fragrance",
          "Fragrance",
          "Fragrance",
          "Fragrance",
          "Fragrance",
          "Fragrance",
          "Fragrance",
          "Fragrance",
          "Fragrance",
          "Fragrance",
          "Fragrance",
          "Fragrance",
          "Fragrance",
          "Fragrance",
          "Fragrance",
          "Fragrance",
          "Fragrance",
          "Fragrance",
          "Fragrance",
          "Fragrance",
          "Fragrance",
          "Fragrance",
          "Fragrance",
          "Fragrance",
          "Fragrance",
          "Fragrance",
          "Fragrance",
          "Fragrance",
          "Fragrance",
          "Fragrance",
          "Fragrance",
          "Fragrance",
          "Fragrance",
          "Fragrance",
          "Fragrance",
          "Fragrance",
          "Fragrance",
          "Fragrance",
          "Fragrance",
          "Fragrance",
          "Fragrance",
          "Fragrance",
          "Fragrance",
          "Fragrance",
          "Fragrance",
          "Fragrance",
          "Fragrance",
          "Fragrance",
          "Fragrance",
          "Fragrance",
          "Fragrance",
          "Fragrance",
          "Fragrance",
          "Fragrance",
          "Fragrance",
          "Fragrance",
          "Fragrance",
          "Fragrance",
          "Fragrance",
          "Fragrance",
          "Fragrance",
          "Fragrance",
          "Fragrance",
          "Fragrance",
          "Fragrance",
          "Fragrance",
          "Fragrance",
          "Fragrance",
          "Fragrance",
          "Fragrance",
          "Fragrance",
          "Fragrance",
          "Fragrance",
          "Fragrance",
          "Fragrance",
          "Fragrance",
          "Fragrance",
          "Fragrance",
          "Fragrance",
          "Fragrance",
          "Fragrance",
          "Fragrance",
          "Fragrance",
          "Fragrance",
          "Fragrance",
          "Fragrance",
          "Fragrance",
          "Fragrance",
          "Fragrance",
          "Fragrance",
          "Fragrance",
          "Fragrance",
          "Fragrance",
          "Fragrance",
          "Fragrance",
          "Fragrance",
          "Fragrance",
          "Fragrance",
          "Fragrance",
          "Fragrance",
          "Fragrance",
          "Fragrance",
          "Fragrance",
          "Fragrance",
          "Fragrance",
          "Fragrance",
          "Fragrance",
          "Fragrance",
          "Fragrance",
          "Fragrance",
          "Fragrance",
          "Fragrance",
          "Fragrance",
          "Fragrance",
          "Fragrance",
          "Fragrance",
          "Fragrance",
          "Fragrance",
          "Fragrance",
          "Fragrance",
          "Fragrance",
          "Fragrance",
          "Fragrance",
          "Fragrance",
          "Fragrance",
          "Fragrance",
          "Fragrance",
          "Fragrance",
          "Fragrance",
          "Fragrance",
          "Fragrance",
          "Fragrance",
          "Fragrance",
          "Fragrance",
          "Fragrance",
          "Fragrance",
          "Fragrance",
          "Fragrance",
          "Fragrance",
          "Fragrance",
          "Fragrance",
          "Fragrance",
          "Fragrance",
          "Fragrance",
          "Fragrance",
          "Fragrance",
          "Fragrance",
          "Fragrance",
          "Fragrance",
          "Fragrance",
          "Fragrance",
          "Fragrance",
          "Fragrance",
          "Fragrance",
          "Fragrance",
          "Fragrance",
          "Fragrance",
          "Fragrance",
          "Fragrance",
          "Fragrance",
          "Fragrance",
          "Fragrance",
          "Fragrance",
          "Fragrance",
          "Fragrance",
          "Fragrance",
          "Fragrance",
          "Fragrance",
          "Fragrance",
          "Fragrance",
          "Fragrance",
          "Fragrance",
          "Fragrance",
          "Fragrance",
          "Fragrance",
          "Fragrance",
          "Fragrance",
          "Fragrance",
          "Fragrance",
          "Fragrance",
          "Fragrance",
          "Fragrance",
          "Fragrance",
          "Fragrance",
          "Fragrance",
          "Fragrance",
          "Fragrance",
          "Fragrance",
          "Fragrance",
          "Fragrance",
          "Fragrance",
          "Fragrance",
          "Fragrance",
          "Fragrance",
          "Fragrance",
          "Fragrance",
          "Fragrance",
          "Fragrance",
          "Fragrance",
          "Fragrance",
          "Triclosan",
          "Triclosan",
          "Triclosan",
          "Triclosan",
          "Homosalate",
          "Homosalate",
          "Homosalate",
          "Homosalate",
          "Homosalate",
          "Homosalate",
          "Homosalate",
          "Homosalate",
          "Homosalate",
          "Homosalate",
          "Homosalate",
          "Homosalate",
          "Homosalate"
         ],
         "y": [
          "No products found",
          "Benefiance WrinkleResist24 Night Cream",
          "Goodnight Glow Retin-ALT Sleeping Crème",
          "Beauty Elixir",
          "The Silk Cream",
          "Vinosource Moisturizing Sorbet",
          "Luminous Dewy Skin Night Concentrate",
          "Seaberry Moisturizing Face Oil",
          "Renewed Hope in A Jar Refreshing & Refining Moisturizer",
          "Cold Plasma Sub-D Firming Neck Treatment",
          "Nurture Me™ Moisturizing Crème",
          "Invigorating Night Transformation™ Gel",
          "Wild Rose + Vitamin C Advanced Brightening Sleeping Facial",
          "Evercalm™ Overnight Recovery Balm",
          "Benefiance WrinkleResist24 Night Emulsion",
          "Resveratrol Lift Night Infusion Cream",
          "Ibuki Refining Moisturizer Enriched",
          "Immortelle Divine Cream",
          "Premier Cru Cream",
          "Bio-Performance Glow Revival Cream",
          "Truth Revealed™ Brightening Broad Spectrum SPF 15 Moisturizer",
          "Renewed Hope in A Jar Overnight Recharging & Refining Moisturizer",
          "Vinosource Intense Moisture Rescue Cream",
          "Wrinkle Warrior™ 2-in-1 Plumping Moisturizer + Serum",
          "Hyaluronic Marine Oil-Free Moisture Cushion",
          "Ibuki Beauty Sleeping Mask",
          "Premier Cru Rich Cream",
          "POWER Recharging Night Pressed Serum",
          "Super Restorative Night Age Spot Correcting Replenishing Cream",
          "Rose Deep Hydration Facial Toner",
          "Sugar Face Polish Exfoliator",
          "Transforming Walnut Scrub",
          "microdermabrasion age defying exfoliator",
          "Greek Yoghurt Foaming Cream Cleanser",
          "Benefiance Extra Creamy Cleansing Foam",
          "Gentle Foaming Cleanser with Cottonseed",
          "Toning Lotion with Camomile",
          "Flawless Skin Face Polish",
          "Rose Deep Hydration Toner Mini",
          "Truth™ On the Glow Cleansing Cloths",
          "One-Step Gentle Exfoliating Cleanser with Orange Extract",
          "Face the Truth™ Gel Cleanser",
          "White Lucent Luminizing Infuser",
          "Radiance Cleansing Foam",
          "Multi-Miracle Glow Cleansing Balm",
          "Future Solution LX Extra Rich Cleansing Foam",
          "Acne Clearing Wash",
          "A Glowing Regimen Trial Set",
          "No:Rinse Intensive Pore Minimizing Toner",
          "Pore Reform™ Skin Smoothing Polish",
          "Eau Ginseng",
          "Solid Cleansing Oil",
          "PRE:EMPT SERIES™ Exfoliating Pore Refiner",
          "GENIUS Ultimate Anti-Aging Melting Cleanser",
          "So Nurturing™ Cleansing Cloths",
          "Wonderfeel™ Double Cleanser",
          "Rosa Centifolia™ No.1 Purity Cleansing Balm",
          "Pore Refining Detox Double Cleanse",
          "Micro Polish Cleanser",
          "Alpha Beta® Extra Strength Daily Peel",
          "Vinoperfect Radiance Serum",
          "Double Serum Complete Age Control Concentrate",
          "GENIUS Liquid Collagen",
          "Vinosource S.O.S Thirst Quenching Serum",
          "Glow Cycle Retin-ALT Power Serum",
          "White Lucent MicroTargeting Spot Corrector",
          "Black Tea Age-Delay Firming Serum",
          "Minus Serum",
          "Vine[Activ] Vitamin C Anti-Wrinkle Serum",
          "Resveratrol Lift Firming Serum",
          "Shaping Facial Lift Total V Contouring Serum",
          "White Lucent Luminizing Surge",
          "Power Peel™ Transforming Facial System",
          "Black Pine 3D Sculpting, Firming & Lifting Face Serum",
          "PRE:EMPT SERIES™ Skin Perfecting Serum",
          "Breakout Fighters",
          "Bio Retinoid Anti-Wrinkle Concentrate Oil",
          "Lotus Face Treatment Oil",
          "Vitamin C Ester Brightening Amine Face Lift",
          "Future Solution LX Intensive Firming Contour Serum",
          "Concentrated Reconstructing Serum",
          "Mission Perfection Serum",
          "Silver Skin Savior Salicylic/Glycolic Acid Treatment",
          "Lip Sleeping Mask",
          "Rose Face Mask",
          "Black Tea Instant Perfecting Mask",
          "Face Mask",
          "Australian Pink Clay Porefining Face Mask",
          "Vitamin C Glow Face Mask",
          "Face Mask - Pearl - Brightening",
          "Black Tea Instant Perfecting Mask Mini",
          "Face Mask - Green Tea - Mattifying",
          "Crazy for Clay!",
          "Face Mask - Rose - Moisturizing",
          "Face Mask - Aloe Vera - Replenishing",
          "Face Mask - Pineapple - Pore Perfecting",
          "Face Mask - Coconut - Nourishing",
          "Pomegranate AHA & Enzymes Resurfacing Mask",
          "Moisturizing Mask",
          "Face Mask - Algae - Detoxifying",
          "Face Mask - Grape - Anti-pollution",
          "Goddess Clay Mask",
          "Hydrating Lip Mask",
          "V-Facial Intensive Wrap",
          "Midnight Radiance Mask",
          "Hygge HydraClay™ Detox Mask",
          "Bamboo Waterlock Mask",
          "InstaMatte™ Oil-Control Mask",
          "Wrinkle Warrior® Pink Plumping Mask",
          "Egg Cream Mask Pore Tightening",
          "SPLASH Absolute Hydration Replenishing Sleeping Pack",
          "Benefiance WrinkleResist24 Intensive Eye Contour Cream",
          "Banana Bright Eye Crème",
          "R.N.A. POWER Anti-Aging Eye Cream",
          "Super Restorative Total Eye Concentrate",
          "Ultimune Eye Power Infusing Eye Concentrate",
          "Future Solution LX Eye and Lip Contour Regenerating Cream",
          "Bio-Performance LiftDynamic Eye Treatment",
          "Black Pine 3D Sculpting, Firming & Lifting Super Eye Serum",
          "Crème Ancienne Supreme Eye Serum",
          "Bio Performance Glow Revival Eye Treatment",
          "Black Pine 3D Sculpting, Firming & Lifting Eye Cream",
          "Enhancing Eye Lift Serum",
          "Mission Perfection Eye Broad Spectrum SPF 15",
          "Multi-Active Day Cream SPF 20 - All Skin Types",
          "CC Red Correct Automatic Perfector Broad Spectrum SPF 25",
          "Tarteguard 30 Vegan Sunscreen Lotion Broad Spectrum SPF 30",
          "Sugar Sport Treatment Sunscreen SPF 30",
          "After Sun Greek Yoghurt Cooling Gel for Face and Body",
          "Daily Deflector™ Waterlight Broad Spectrum SPF 50+ PA+++ Anti-Aging Sunscreen",
          "Pro Light Self Tan Bronzing Mist",
          "Crème de la Mer",
          "The Moisturizing Soft Cream",
          "The Water Cream",
          "Little Miss Miracle Limited-Edition Crème de la Mer",
          "The True Cream Aqua Bomb",
          "Rose Deep Hydration Moisturizer",
          "R.N.A. POWER Face Cream",
          "Crème de la Mer Mini",
          "Bio-Performance Advanced Super Revitalizing Cream",
          "Black Tea Firming Overnight Mask",
          "The True Cream Moisturizing Bomb",
          "GenOptics Aura Essence Serum",
          "Black Tea Kombucha Antioxidant Essence",
          "Pure One Step Camellia Cleansing Oil",
          "Water Sleeping Mask",
          "Water Bank Moisture Cream",
          "Luminous Dewy Skin Mist",
          "Benefiance WrinkleResist24 Night Cream",
          "Goodnight Glow Retin-ALT Sleeping Crème",
          "Watermelon Glow Sleeping Mask",
          "Radiance Drops - Rainforest of the Sea™ Collection",
          "Beauty Elixir",
          "The Renewal Oil",
          "The Silk Cream",
          "C-Rush™ Brightening Gel Crème",
          "Color Control Cushion Compact Broad Spectrum SPF 50+",
          "Vinosource Moisturizing Sorbet",
          "CC Crème High Definition Radiance Face Cream Skin Perfector",
          "C.E.O. C + E antiOXIDANT Protect + Repair Moisturizer",
          "Luminous Dewy Skin Night Concentrate",
          "GLOWSTARTER™ Mega Illuminating Moisturizer",
          "Revitalizing Supreme Global Anti-Aging Crème",
          "Seaberry Moisturizing Face Oil",
          "BB Cushion Hydra Radiance SPF 50",
          "FUTURE RESPONSE Age Defense Creme",
          "THIRSTYMUD™ Hydrating Treatment",
          "Black Tea Corset Cream Firming Moisturizer",
          "Secret Sauce Clinically Advanced Miraculous Anti-Aging Moisturizer",
          "Benefiance WrinkleResist24 Day Cream Broad Spectrum SPF 18",
          "Water Bank Essence",
          "Watermelon Pink Juice Moisturizer",
          "Renewed Hope in A Jar Refreshing & Refining Moisturizer",
          "Cold Plasma Sub-D Firming Neck Treatment",
          "Rénergie Lift Multi-Action Night",
          "GENIUS Ultimate Anti-Aging Cream",
          "Nurture Me™ Moisturizing Crème",
          "Invigorating Night Transformation™ Gel",
          "Aqua Bomb Sleeping Mask",
          "Superfood Air-Whip Hyaluronic Acid Moisture Cream",
          "Bio-Performance Advanced Super Restoring Cream",
          "Benefiance WrinkleResist24 Day Emulsion Broad Spectrum SPF 18",
          "Vitamin C Glow Moisturizer",
          "Wild Rose + Vitamin C Advanced Brightening Sleeping Facial",
          "Vitamin Nectar Antioxidant Face Mist",
          "Peat Miracle Revital Cream",
          "Superberry Hydrate + Glow Oil",
          "Photo Finish Primer Water",
          "Retinol Youth Renewal Night Cream",
          "Water Bank Hydrating Gel",
          "Evercalm™ Overnight Recovery Balm",
          "Counter Balance™ Oil Control Hydrator",
          "The Moisturizing Soft Lotion",
          "Benefiance WrinkleResist24 Night Emulsion",
          "Resveratrol Lift Night Infusion Cream",
          "Essential-C Day Moisture Broad Spectrum SPF 30 PA+++",
          "Future Solution LX Total Regenerating Cream",
          "Multi-Active Night Cream - Normal to Combination Skin",
          "Ibuki Refining Moisturizer",
          "Ibuki Refining Moisturizer Enriched",
          "The Renewal Oil Mini",
          "Tech Neck Prevention Kit",
          "The Method: Nourish",
          "BIENFAIT MULTI-VITAL NIGHT - High Potency Night Moisturizing Cream VITA-NUTRI 8™",
          "Gold Camellia Beauty Oil",
          "Immortelle Divine Cream",
          "Advanced Time Zone Night Age Reversing Line/Wrinkle Crème",
          "Overnight Restorative Cream",
          "Premier Cru Cream",
          "Resveratrol Lift Face Lifting Soft Cream",
          "Bio-Performance Glow Revival Cream",
          "Sleeping Mask",
          "Hungarian Water Essence",
          "Resilience Lift Firming/Sculpting Face and Neck Creme Broad Spectrum SPF 15, Normal/Combination Skin",
          "Truth Revealed™ Brightening Broad Spectrum SPF 15 Moisturizer",
          "Cellumination Cream EX",
          "BIENFAIT MULTI-VITAL - SPF 30 CREAM - High Potency Vitamin Enriched Daily Moisturizing Cream",
          "Extra-Firming Neck Anti-Wrinkle Rejuvenating Cream",
          "MOISTURE BOUND Rejuvenating Crème",
          "BB Crème au Ginseng",
          "SUBLIME DEFENSE Ultra Lightweight UV Defense Fluid SPF 50",
          "Renewed Hope in A Jar Overnight Recharging & Refining Moisturizer",
          "Anti-Aging Moisturizer SPF 30 PA+++",
          "Ultimate Miracle Worker Multi-Rejuvenating Cream SPF 30",
          "Treatment Toner",
          "Bio-Performance LiftDynamic Cream",
          "Vinosource Intense Moisture Rescue Cream",
          "Wrinkle Warrior™ 2-in-1 Plumping Moisturizer + Serum",
          "Hyaluronic Marine Oil-Free Moisture Cushion",
          "Nutrient-Charged Water Gel",
          "MOISTURE BOUND Refreshing Hydra-Gel Oil-Free",
          "Instant Moisturizer + Cream",
          "Water Bank Dual Layer Face Oil",
          "Ibuki Beauty Sleeping Mask",
          "VOLCASMIC™ Matte Glow Moisturizer",
          "Rénergie Lift Multi-Action Sunscreen Broad Spectrum SPF 15 For All Skin Types",
          "High Potency Classics: Face Finishing & Firming Moisturizer",
          "Ibuki Protective Moisturizer Broad Spectrum SPF 18",
          "Visionnaire Advanced Multi-Correcting Cream",
          "Premier Cru Rich Cream",
          "Hydra Zen Anti-Stress Gel Moisturizer",
          "Intensive Instant Moisturizer + Cream",
          "Facial Treatment Oil",
          "Maracuja Neck Treatment",
          "DREAMDUO™ Overnight Transforming Treatment",
          "POWER Recharging Night Pressed Serum",
          "Firming & Lifting Neck Cream",
          "White Lucent All Day Brightener Broad Spectrum SPF 23 Moisturizer",
          "The Moisturizing Matte Lotion",
          "Super Restorative Night Age Spot Correcting Replenishing Cream",
          "Face Hero",
          "Tonique Confort Re-Hydrating Comforting Toner with Acacia Honey",
          "Rose Deep Hydration Facial Toner",
          "Bi-Facil Double-Action Eye Makeup Remover",
          "Cleansing & Exfoliating Wipes",
          "The Cleansing Foam",
          "Treatment Enzyme Peel",
          "Sugar Face Polish Exfoliator",
          "Superfood Antioxidant Cleanser",
          "The Clean Truth™ Foaming Cleanser",
          "Transforming Walnut Scrub",
          "Calendula Deep Clean Foaming Face Wash",
          "microdermabrasion age defying exfoliator",
          "Instant Foaming Cleanser",
          "Greek Yoghurt Foaming Cream Cleanser",
          "Moisturizing Toner",
          "Benefiance Extra Creamy Cleansing Foam",
          "YOUTHMUD™ Tinglexfoliate Treatment",
          "Anti-Aging Cleansing Gel",
          "Clarifying Cleanser",
          "The Tonic",
          "EradiKate® Daily Cleanser Acne Treatment",
          "Bye Bye Makeup™ 3-in-1 Makeup Melting Cleansing Balm",
          "Treatment Cleansing Foam",
          "Nutritious Radiant Vitality Energy Lotion",
          "Multi Cleanser",
          "Gentle Foaming Cleanser with Cottonseed",
          "Ibuki Gentle Cleanser",
          "Micellar Cleansing Water",
          "Blueberry Bounce Gentle Cleanser",
          "Toning Lotion with Camomile",
          "Flawless Skin Face Polish",
          "Green Tea Real Fresh Foam Cleanser",
          "FLASHMUD™ Brightening Treatment",
          "Time Release Acne Cleanser",
          "Rose Deep Hydration Toner Mini",
          "Witch Hazel Herbal Extract Toner",
          "Essential Power Skin Toner for Normal to Dry Skin",
          "Crème Radiance Gentle Cleansing Creamy-Foam Cleanser",
          "Truth™ On the Glow Cleansing Cloths",
          "One-Step Gentle Exfoliating Cleanser with Orange Extract",
          "The Cleansing Foam Mini",
          "Deep Cleansing Exfoliator",
          "SUPERCLEANSE™ Clearing Cream-to-Foam Cleanser",
          "Essential-C Cleanser",
          "Face the Truth™ Gel Cleanser",
          "The Cleansing Gel",
          "White Lucent Luminizing Infuser",
          "Radiance Cleansing Foam",
          "Cleansing & Clarifying Duo",
          "Gentle Cleansing Milk",
          "Make-Up Removing Cleansing Oil",
          "Soy Face Cleansing Milk",
          "Moisturizing Foam Cleanser",
          "Seaberry Skin Nutrition Cleansing Oil",
          "Pureness Deep Cleansing Foam",
          "Essential Power Skin Toner for Combination to Oily Skin",
          "Shea Cleansing Oil",
          "Multi-Miracle Glow Cleansing Balm",
          "The Method: Polish Blemish Control",
          "Ibuki Softening Concentrate",
          "Future Solution LX Extra Rich Cleansing Foam",
          "Creamy Cleansing Foam Moist",
          "Oil Control Blotting Paper",
          "Problem Solution Toner",
          "Acne Clearing Wash",
          "OIL OBSESSED™ Total Cleansing Oil",
          "Bergamot Herbal Extract Toner",
          "Essential-C Toner",
          "Renewing Cleansing Cream",
          "YOUTHCLEANSE™ Daily Exfoliating Cleanser",
          "Stay Balanced™ Oil Control Cleansing Cloths",
          "A Glowing Regimen Trial Set",
          "Wild Rose Exfoliating Cleanser",
          "Cleansing Gel Oil Enriched",
          "No:Rinse Intensive Pore Minimizing Toner",
          "The Cleansing Oil",
          "Hydrating Toner",
          "Ibuki Purifying Cleanser",
          "Pureness Balancing Softener Alcohol-Free",
          "Multi-Perfecting Detoxifying Exfoliator",
          "Moment of Truth™ 2-in-1 Polishing Sugar Mask",
          "Pore Reform™ Skin Smoothing Polish",
          "One Step Acne Eliminating Pads",
          "Eau Ginseng",
          "Solid Cleansing Oil",
          "Prep-N-Glow™ Cloths",
          "The Method: Cleanse",
          "Double Mousse Gentle Cleansing Foam",
          "Exfoliating Swipeys",
          "PRE:EMPT SERIES™ Exfoliating Pore Refiner",
          "POWERMUD™ Dualcleanse Treatment",
          "The Cleansing Micellar Water",
          "GENIUS Ultimate Anti-Aging Melting Cleanser",
          "So Nurturing™ Cleansing Cloths",
          "Wonderfeel™ Double Cleanser",
          "Extra Rich Cleansing Milk",
          "Perfectly Clean Multi-Action Toning Lotion/Refiner",
          "Umbrian Clay Pore Purifying Face Exfoliator",
          "Rosa Centifolia™ No.1 Purity Cleansing Balm",
          "Refreshing Cleanser",
          "Pore Refining Detox Double Cleanse",
          "Refreshing Gel Cleanser",
          "Hydrating Essence Toner",
          "Micro Polish Cleanser",
          "Truth Serum®",
          "Advanced Génifique Youth Activating Serum Duo",
          "Alpha Beta® Extra Strength Daily Peel",
          "SUPERMUD® Activated Charcoal Treatment",
          "Alpha Beta® Universal Daily Peel",
          "Truth Serum - Starlight Holiday Edition",
          "Vinoperfect Radiance Serum",
          "Double Serum Complete Age Control Concentrate",
          "The Regenerating Serum",
          "GENIUS Liquid Collagen",
          "Rapid Age Spot and Pigment Lightening Serum",
          "Vinosource S.O.S Thirst Quenching Serum",
          "Perfectionist CP+R Wrinkle Lifting/Firming Serum",
          "The Revitalizing Hydrating Serum",
          "The Treatment Lotion",
          "Max Complexion Correction Pads",
          "Glow Cycle Retin-ALT Power Serum",
          "Backlight Priming Filter Face Primer",
          "GRAVITYMUD™ Firming Treatment",
          "R.N.A. POWER Anti-Aging Essence Serum",
          "White Lucent MicroTargeting Spot Corrector",
          "Rose Deep Hydration Face Serum",
          "Black Tea Age-Delay Firming Serum",
          "Invisiblur™ Perfecting Shield Broad Spectrum SPF 30 PA+++",
          "Bio-Peel Gauze Peeling - Green Tea",
          "Minus Serum",
          "Visionnaire Advanced Skin Corrector Serum",
          "Retinol Youth Renewal Serum",
          "Vine[Activ] Vitamin C Anti-Wrinkle Serum",
          "Vitamin C Ester Brightening Serum",
          "Luminous Deep Hydration Firming Serum",
          "ELEVATE Advanced Retinol Serum",
          "Lift Serum Intense with Stem Cell Recovery Complex",
          "Skin Love Glow Elixir",
          "Resveratrol Lift Firming Serum",
          "Active Retinol Renewal Kit",
          "Advanced Génifique Sensitive Antioxidant Serum",
          "Revitalixir™ Recovery Serum",
          "Shaping Facial Lift Total V Contouring Serum",
          "White Lucent Luminizing Surge",
          "Red Jelly Pack",
          "Superfood Firm and Brighten Vitamin C Serum",
          "+Retinol Vita C Power Serum",
          "Power Peel™ Transforming Facial System",
          "Black Pine 3D Sculpting, Firming & Lifting Face Serum",
          "GENIUS Ultimate Anti-Aging Vitamin C+ Serum",
          "MOISTURE BOUND Rejuvenating Serum",
          "Sunless Tan Anti-Aging Face Serum",
          "Perfect Canvas Skin Finishing Serum",
          "Outsmart Acne Clarifying Treatment",
          "Therapeutic Sulfur Mask Acne Treatment Mask",
          "Enlighten Dark Spot Correcting Night Serum",
          "PRE:EMPT SERIES™ Skin Perfecting Serum",
          "FUTURE RESPONSE Age Defense Serum",
          "Hyaluronic Marine Hydration Booster",
          "Bio-Performance Glow Revival Serum",
          "Breakout Fighters",
          "Essential Fx Acyl-Glutathione Deep Crease Serum",
          "Advanced Acne & Wrinkle Reducer",
          "Bio-Performance LiftDynamic Serum",
          "Acne Body Wash",
          "Glycolic Peel",
          "Golden Krocus Ageless Saffron Elixir Serum",
          "Peat Miracle Revital Serum Concentrate",
          "SKINLONGEVITY™ Vital Power Infusion Serum",
          "Bio Retinoid Anti-Wrinkle Concentrate Oil",
          "Lotus Face Treatment Oil",
          "Perfectionist Pro Rapid Firm + Lift Treatment",
          "Vitamin C Ester Brightening Amine Face Lift",
          "Future Solution LX Intensive Firming Contour Serum",
          "Advanced Active Radiance® Serum",
          "White Marble Dual Phase Vitamin C Peel",
          "Micro-Blur™ Skin Perfector",
          "Flash Hydro-Boost Instant Plumping Emulsion",
          "High Potency Classics: Firming Evening Repair",
          "Hydra Sebum Control Essence",
          "GENIUS Ultimate Anti-Aging Bi-Phase Peel",
          "Crème Ancienne® Supreme Face Serum",
          "EradiKate™ Mask Foam-Activated Acne Treatment",
          "Concentrated Reconstructing Serum",
          "Mission Perfection Serum",
          "Silver Skin Savior Salicylic/Glycolic Acid Treatment",
          "ELEVATE Advanced Lift Contouring Cream",
          "Face Mask Magic",
          "Lip Sleeping Mask",
          "Rose Face Mask",
          "Black Tea Instant Perfecting Mask",
          "Face Mask",
          "The Lifting and Firming Mask",
          "Experiential Masks Set",
          "Pumpkin Enzyme Mask Enzymatic Dermal Resurfacer",
          "Overnight Miracle Mask",
          "Watermelon Glow Sleeping Mask Mini",
          "Black Tea Firming Overnight Mask Mini",
          "The Ultimate Glow Set",
          "Hand Mask",
          "Vitamin C Glow Face Mask",
          "Hand Mask - Avocado",
          "The Brilliance Brightening Mask",
          "Face Mask - Pearl - Brightening",
          "Black Tea Instant Perfecting Mask Mini",
          "Luminous Dewy Skin Sheet Mask",
          "Face Mask - Avocado",
          "Advanced Génifique Hydrogel Melting Mask",
          "Purity Made Simple Pore Extractor Mask",
          "Egg Cream Mask Hydration",
          "Clay Mask",
          "Nutritious Vitality8™ Night Creme/Mask",
          "Face Mask - Green Tea - Mattifying",
          "Mud Mask Purifying & Mattifying",
          "Evercalm™ Ultra Comforting Rescue Mask",
          "Watermelon Glow Jelly Sheet Mask",
          "Crazy for Clay!",
          "Luminous Deep Hydration Lifting Mask",
          "Face Mask - Rose - Moisturizing",
          "Time Freeze Sleeping Mask",
          "SUPERMASK - The Golden Mask",
          "#GLITTERMASK GRAVITYMUD™ Firming Treatment",
          "Greek Yoghurt Advanced Nourishing Sleeping Facial",
          "Face Mask - Aloe Vera - Replenishing",
          "MOISTURE BOUND Sleeping Recovery Mask",
          "Face Mask - Pineapple - Pore Perfecting",
          "Face Mask - Coconut - Nourishing",
          "SUPERMASK - The Charcoal Mask",
          "Superfood Skin Reset Antioxidant Mask",
          "Sleeping Mask - Rose",
          "SUPERMASK - The Silver Mask",
          "Sleeping Mask - Pearl",
          "Treatment Lotion Hydrating Mask",
          "Pomegranate AHA & Enzymes Resurfacing Mask",
          "Moisturizing Mask",
          "Face Mask - Algae - Detoxifying",
          "Face Mask - Grape - Anti-pollution",
          "Goddess Clay Mask",
          "The Lifting and Firming Mask Mini",
          "SUPERMASK - The Mud Mask",
          "Brightening Infusion Hydrogel Mask",
          "Deep Cleansing Mask",
          "Sleeping Mask - Coconut Water",
          "Face Mask - Algae",
          "Pore Minimalist Black Charcoal Sheet Mask",
          "Pore Cleaner Bubble Foam",
          "Sleeping Mask - Aloe Vera",
          "Hydrating Lip Mask",
          "V-Facial Intensive Wrap",
          "Cocoa Moisture Mask",
          "Face Mask - Lotus",
          "Extra-Firming Mask",
          "Polishing Mask",
          "Midnight Radiance Mask",
          "PERFECT Clarifying Pore Corrector Mask",
          "Gel Mask Hydrating & Quenching",
          "Hygge HydraClay™ Detox Mask",
          "Water Pocket Sheet Mask Sleeping Mask (Replenishing)",
          "TIME RESPONSE Vintage Wash-off Masque",
          "MOISTURE BOUND Intensive Serum Masque",
          "Pore Extractor Pomegranate Mask",
          "Face Mask - Pomegranate",
          "NightWear Plus 3-Minute Detox Mask",
          "Rose Jelly Mask",
          "Bamboo Waterlock Mask",
          "After-Sun Mask - Watermelon",
          "Whipped Mud Mask Collection",
          "Wrinkle Warrior® Pink Plumping Mask",
          "Algae Brightening Mask",
          "Egg Cream Mask Firming",
          "Coconut Ceramide Mask",
          "First Aid Transforming Peel Off Mask",
          "Ain’t Misbehavin’® Intensive 10% Sulfur Acne Mask & Emergency Spot Treatment",
          "Jelly Mask Moisturizing & Energizing",
          "The True Tincture Mask - Chamomile",
          "Nose Mask - Pineapple",
          "Peel-off Mask",
          "Water Pocket Sheet Mask Water Bank (Moisturizing)",
          "SPLASH Absolute Hydration Replenishing Sleeping Pack",
          "SOS Hydra Refreshing Hydration Mask",
          "SUPERMASK - The Primer Mask",
          "Egg Mousse Pack",
          "Self Tan Express Bronzing Face Sheet Mask",
          "Mask-Imum Revival Hydra-Plumping Mask",
          "PRE:EMPT SERIES™ Refreshing Shower Mask",
          "The Eye Concentrate",
          "Benefiance WrinkleResist24 Intensive Eye Contour Cream",
          "Banana Bright Eye Crème",
          "Black Tea Firming and De-Puffing Eye Cream",
          "Moisturizing Eye Bomb",
          "The Eye Balm Intense",
          "Benefiance WrinkleResist24 Pure Retinol Express Smoothing Eye Mask",
          "Eye Sleeping Mask",
          "Super Restorative Total Eye Concentrate",
          "The Lifting Eye Serum",
          "Eye Mask",
          "Advanced Génifique Eye Cream",
          "Ultimune Eye Power Infusing Eye Concentrate",
          "Water Bank Eye Gel",
          "Future Solution LX Eye and Lip Contour Regenerating Cream",
          "Cucumber De-Tox™ Hydra-Gel Eye Patches",
          "Rénergie Lift Multi-Action Eye",
          "MOISTURE BOUND Rejuvenating Eye Treatment Gel",
          "Puffy Under-Eye Patches",
          "Extra Eye Repair Cream",
          "Superfood Peptide Eye Cream",
          "Bio-Performance LiftDynamic Eye Treatment",
          "Retinol Youth Renewal Eye Serum",
          "Black Pine 3D Sculpting, Firming & Lifting Super Eye Serum",
          "Crème Ancienne Supreme Eye Serum",
          "Extra-Firming Eye Wrinkle Smoothing Cream",
          "Peat Miracle Revital Eye Cream",
          "Intensive Vitalizing Eye Essence",
          "Illuminating Bright Eyes Gels + Silky Mask Beauty Sleep Set",
          "TIME RESPONSE Eye Reserve Crème",
          "Hello Bright Eyes",
          "Multi-Task Eye Serum Mask",
          "Ibuki Eye Correcting Cream",
          "Bio Performance Glow Revival Eye Treatment",
          "Black Pine 3D Sculpting, Firming & Lifting Eye Cream",
          "Helix AM/PM Eye Gel",
          "Énergie de Vie The Illuminating & Anti-Fatigue Cooling Eye Gel",
          "Luminous Deep Hydration Revitalizing Eye Mask",
          "Enhancing Eye Lift Serum",
          "Essential Energy Eye Definer",
          "Bright Eyes Collagen-Infused Brightening Colloidal Silver Eye Masks",
          "Ultimate Revival Eye Cream",
          "Mission Perfection Eye Broad Spectrum SPF 15",
          "Ice-Cold Eye Cream",
          "Vitamin C Ester Brightening Eye Serum",
          "Lotus Caress to Moisturize Eyes",
          "Eye Mask - Grape - Smoothing",
          "Urban Environment Oil-Free UV Protector Broad Spectrum SPF 42 For Face",
          "Silken Pore Perfecting Sunscreen Broad Spectrum SPF 35 PA+++",
          "Ultimate Sun Protection Lotion WetForce SPF 50+",
          "Sunscreen Multi-Protection Broad Spectrum SPF 50",
          "Radiance Primer Broad Spectrum SPF 35 Sunscreen",
          "Ultimate Sun Protection Cream Broad Spectrum SPF 50+ Wetforce For Face",
          "MOISTURE BOUND Tinted Treatment Moisturizer SPF 15",
          "Renewed Hope In A Jar SPF 30",
          "High Potency Classics: Face Finishing & Firming Moisturizer Tint SPF 30",
          "FUTURE RESPONSE Age Defense Creme SPF 30",
          "Advanced Time Zone SPF 15- Normal/Combination Skin",
          "Multi-Active Day Cream SPF 20 - All Skin Types",
          "Bienfait Teinté Beauty Balm Sunscreen Broad Spectrum SPF 30",
          "Future Solution LX Total Protective Cream Broad Spectrum SPF 20 Sunscreen",
          "Sports BB Broad Spectrum SPF 50+ WetForce",
          "Super Multi-Corrective Cream Sunscreen Broad Spectrum SPF 30",
          "The Broad Spectrum SPF 50 UV Protecting Fluid",
          "Ultimate Sun Protection Lotion WetForce SPF 50+ Mini",
          "Wetforce Clear Stick UV Protector Broad Spectrum 50+",
          "Black Tea Age-Delay Lotion Broad Spectrum Sunscreen SPF 20",
          "CC Red Correct Automatic Perfector Broad Spectrum SPF 25",
          "Tarteguard 30 Vegan Sunscreen Lotion Broad Spectrum SPF 30",
          "Sugar Sport Treatment Sunscreen SPF 30",
          "Balancing Moisturizer Broad Spectrum SPF 15 PA++",
          "Resurgence® Age–Balancing Moisture Broad Spectrum SPF 30",
          "Repairing Tint & Radiance Moisturizer SPF 30",
          "Moisturizing Bomb Cushion Compact Broad Spectrum SPF 50",
          "DayWear UV Base Advanced Anti-Oxidant & UV Defense SPF 50",
          "Face Lotion SPF 30",
          "Classic Sport SPF 50 - Fresh Mango",
          "DayWear Multi-Protection Anti-Oxidant Sheer Tint Release Moisturizer Broad Spectrum SPF 15 - Normal/ Combination Skin",
          "Rènergie Lift Multi-Action Sunscreen Broad Spectrum SPF 15 For Dry Skin",
          "Face Protect SPF 50",
          "DayWear BB Anti-Oxidant Beauty Benefit Crème SPF 35",
          "Resort Collection Sun Protection Cushion SPF 30+",
          "Sunscreen Cream High Protection SPF 30",
          "Sun Oil 15 SPF",
          "Ultimate Miracle Worker Multi-Rejuvenating Lightweight Emulsion SPF 30",
          "Resort Collection Sun Protection Mist Broad Spectrum SPF 30 Sunscreen",
          "Primer Broad Spectrum Sunscreen SPF 25",
          "Sun Lotion 50 SPF",
          "Sun Lotion 30 SPF",
          "Future Solution LX Total Protective Emulsion Broad Spectrum SPF 20 Sunscreen",
          "After-Sun Milk Soothing Body Lotion",
          "Yoghurt Nourishing Fluid Veil Face Sunscreen Broad Spectrum SPF 30",
          "Daily Deflector™ Waterlight Broad Spectrum SPF 50+ PA+++ Anti-Aging Sunscreen",
          "Pro Light Self Tan Bronzing Mist",
          "No products found",
          "Treatment Cleansing Foam",
          "Charlotte's Magic Cream",
          "Charlotte's Magic Cream Mini",
          "A Perfect World™ SPF 40 Age-Defense Moisturizer with White Tea",
          "Plantscription™ SPF 25 Power Anti-Aging Cream",
          "Exfoliating Scrub",
          "GENIUS Liquid Collagen",
          "Plantscription™ SPF 25 Power Anti-Aging Oil-Free Cream",
          "Defense Refresh Setting Mist Broad Spectrum SPF 50",
          "Photo Finish Foundation Primer SPF 20",
          "The Broad Spectrum SPF 50 UV Protecting Fluid",
          "Ultimate Sun Protection Spray Broad Spectrum SPF 50+ For Face/Body",
          "Broad Spectrum SPF 50 Sunscreen Face Cream",
          "DayWear UV Base Advanced Anti-Oxidant & UV Defense SPF 50",
          "Resort Collection Sun Protection Mist Broad Spectrum SPF 30 Sunscreen",
          "Virtu-oil Body Mist Broad Spectrum SPF 30",
          "Sun Lotion 30 SPF",
          "Perfect Day 2-in-1 Everywear Lotion Broad Spectrum SPF 50 + Mint Condition Lip Shield SPF 30"
         ]
        }
       ],
       "layout": {
        "font": {
         "family": "Redaction"
        },
        "margin": {
         "b": 50,
         "l": 50,
         "r": 50,
         "t": 80
        },
        "template": {
         "data": {
          "bar": [
           {
            "error_x": {
             "color": "#f2f5fa"
            },
            "error_y": {
             "color": "#f2f5fa"
            },
            "marker": {
             "line": {
              "color": "rgb(17,17,17)",
              "width": 0.5
             },
             "pattern": {
              "fillmode": "overlay",
              "size": 10,
              "solidity": 0.2
             }
            },
            "type": "bar"
           }
          ],
          "barpolar": [
           {
            "marker": {
             "line": {
              "color": "rgb(17,17,17)",
              "width": 0.5
             },
             "pattern": {
              "fillmode": "overlay",
              "size": 10,
              "solidity": 0.2
             }
            },
            "type": "barpolar"
           }
          ],
          "carpet": [
           {
            "aaxis": {
             "endlinecolor": "#A2B1C6",
             "gridcolor": "#506784",
             "linecolor": "#506784",
             "minorgridcolor": "#506784",
             "startlinecolor": "#A2B1C6"
            },
            "baxis": {
             "endlinecolor": "#A2B1C6",
             "gridcolor": "#506784",
             "linecolor": "#506784",
             "minorgridcolor": "#506784",
             "startlinecolor": "#A2B1C6"
            },
            "type": "carpet"
           }
          ],
          "choropleth": [
           {
            "colorbar": {
             "outlinewidth": 0,
             "ticks": ""
            },
            "type": "choropleth"
           }
          ],
          "contour": [
           {
            "colorbar": {
             "outlinewidth": 0,
             "ticks": ""
            },
            "colorscale": [
             [
              0,
              "#0d0887"
             ],
             [
              0.1111111111111111,
              "#46039f"
             ],
             [
              0.2222222222222222,
              "#7201a8"
             ],
             [
              0.3333333333333333,
              "#9c179e"
             ],
             [
              0.4444444444444444,
              "#bd3786"
             ],
             [
              0.5555555555555556,
              "#d8576b"
             ],
             [
              0.6666666666666666,
              "#ed7953"
             ],
             [
              0.7777777777777778,
              "#fb9f3a"
             ],
             [
              0.8888888888888888,
              "#fdca26"
             ],
             [
              1,
              "#f0f921"
             ]
            ],
            "type": "contour"
           }
          ],
          "contourcarpet": [
           {
            "colorbar": {
             "outlinewidth": 0,
             "ticks": ""
            },
            "type": "contourcarpet"
           }
          ],
          "heatmap": [
           {
            "colorbar": {
             "outlinewidth": 0,
             "ticks": ""
            },
            "colorscale": [
             [
              0,
              "#0d0887"
             ],
             [
              0.1111111111111111,
              "#46039f"
             ],
             [
              0.2222222222222222,
              "#7201a8"
             ],
             [
              0.3333333333333333,
              "#9c179e"
             ],
             [
              0.4444444444444444,
              "#bd3786"
             ],
             [
              0.5555555555555556,
              "#d8576b"
             ],
             [
              0.6666666666666666,
              "#ed7953"
             ],
             [
              0.7777777777777778,
              "#fb9f3a"
             ],
             [
              0.8888888888888888,
              "#fdca26"
             ],
             [
              1,
              "#f0f921"
             ]
            ],
            "type": "heatmap"
           }
          ],
          "heatmapgl": [
           {
            "colorbar": {
             "outlinewidth": 0,
             "ticks": ""
            },
            "colorscale": [
             [
              0,
              "#0d0887"
             ],
             [
              0.1111111111111111,
              "#46039f"
             ],
             [
              0.2222222222222222,
              "#7201a8"
             ],
             [
              0.3333333333333333,
              "#9c179e"
             ],
             [
              0.4444444444444444,
              "#bd3786"
             ],
             [
              0.5555555555555556,
              "#d8576b"
             ],
             [
              0.6666666666666666,
              "#ed7953"
             ],
             [
              0.7777777777777778,
              "#fb9f3a"
             ],
             [
              0.8888888888888888,
              "#fdca26"
             ],
             [
              1,
              "#f0f921"
             ]
            ],
            "type": "heatmapgl"
           }
          ],
          "histogram": [
           {
            "marker": {
             "pattern": {
              "fillmode": "overlay",
              "size": 10,
              "solidity": 0.2
             }
            },
            "type": "histogram"
           }
          ],
          "histogram2d": [
           {
            "colorbar": {
             "outlinewidth": 0,
             "ticks": ""
            },
            "colorscale": [
             [
              0,
              "#0d0887"
             ],
             [
              0.1111111111111111,
              "#46039f"
             ],
             [
              0.2222222222222222,
              "#7201a8"
             ],
             [
              0.3333333333333333,
              "#9c179e"
             ],
             [
              0.4444444444444444,
              "#bd3786"
             ],
             [
              0.5555555555555556,
              "#d8576b"
             ],
             [
              0.6666666666666666,
              "#ed7953"
             ],
             [
              0.7777777777777778,
              "#fb9f3a"
             ],
             [
              0.8888888888888888,
              "#fdca26"
             ],
             [
              1,
              "#f0f921"
             ]
            ],
            "type": "histogram2d"
           }
          ],
          "histogram2dcontour": [
           {
            "colorbar": {
             "outlinewidth": 0,
             "ticks": ""
            },
            "colorscale": [
             [
              0,
              "#0d0887"
             ],
             [
              0.1111111111111111,
              "#46039f"
             ],
             [
              0.2222222222222222,
              "#7201a8"
             ],
             [
              0.3333333333333333,
              "#9c179e"
             ],
             [
              0.4444444444444444,
              "#bd3786"
             ],
             [
              0.5555555555555556,
              "#d8576b"
             ],
             [
              0.6666666666666666,
              "#ed7953"
             ],
             [
              0.7777777777777778,
              "#fb9f3a"
             ],
             [
              0.8888888888888888,
              "#fdca26"
             ],
             [
              1,
              "#f0f921"
             ]
            ],
            "type": "histogram2dcontour"
           }
          ],
          "mesh3d": [
           {
            "colorbar": {
             "outlinewidth": 0,
             "ticks": ""
            },
            "type": "mesh3d"
           }
          ],
          "parcoords": [
           {
            "line": {
             "colorbar": {
              "outlinewidth": 0,
              "ticks": ""
             }
            },
            "type": "parcoords"
           }
          ],
          "pie": [
           {
            "automargin": true,
            "type": "pie"
           }
          ],
          "scatter": [
           {
            "marker": {
             "line": {
              "color": "#283442"
             }
            },
            "type": "scatter"
           }
          ],
          "scatter3d": [
           {
            "line": {
             "colorbar": {
              "outlinewidth": 0,
              "ticks": ""
             }
            },
            "marker": {
             "colorbar": {
              "outlinewidth": 0,
              "ticks": ""
             }
            },
            "type": "scatter3d"
           }
          ],
          "scattercarpet": [
           {
            "marker": {
             "colorbar": {
              "outlinewidth": 0,
              "ticks": ""
             }
            },
            "type": "scattercarpet"
           }
          ],
          "scattergeo": [
           {
            "marker": {
             "colorbar": {
              "outlinewidth": 0,
              "ticks": ""
             }
            },
            "type": "scattergeo"
           }
          ],
          "scattergl": [
           {
            "marker": {
             "line": {
              "color": "#283442"
             }
            },
            "type": "scattergl"
           }
          ],
          "scattermapbox": [
           {
            "marker": {
             "colorbar": {
              "outlinewidth": 0,
              "ticks": ""
             }
            },
            "type": "scattermapbox"
           }
          ],
          "scatterpolar": [
           {
            "marker": {
             "colorbar": {
              "outlinewidth": 0,
              "ticks": ""
             }
            },
            "type": "scatterpolar"
           }
          ],
          "scatterpolargl": [
           {
            "marker": {
             "colorbar": {
              "outlinewidth": 0,
              "ticks": ""
             }
            },
            "type": "scatterpolargl"
           }
          ],
          "scatterternary": [
           {
            "marker": {
             "colorbar": {
              "outlinewidth": 0,
              "ticks": ""
             }
            },
            "type": "scatterternary"
           }
          ],
          "surface": [
           {
            "colorbar": {
             "outlinewidth": 0,
             "ticks": ""
            },
            "colorscale": [
             [
              0,
              "#0d0887"
             ],
             [
              0.1111111111111111,
              "#46039f"
             ],
             [
              0.2222222222222222,
              "#7201a8"
             ],
             [
              0.3333333333333333,
              "#9c179e"
             ],
             [
              0.4444444444444444,
              "#bd3786"
             ],
             [
              0.5555555555555556,
              "#d8576b"
             ],
             [
              0.6666666666666666,
              "#ed7953"
             ],
             [
              0.7777777777777778,
              "#fb9f3a"
             ],
             [
              0.8888888888888888,
              "#fdca26"
             ],
             [
              1,
              "#f0f921"
             ]
            ],
            "type": "surface"
           }
          ],
          "table": [
           {
            "cells": {
             "fill": {
              "color": "#506784"
             },
             "line": {
              "color": "rgb(17,17,17)"
             }
            },
            "header": {
             "fill": {
              "color": "#2a3f5f"
             },
             "line": {
              "color": "rgb(17,17,17)"
             }
            },
            "type": "table"
           }
          ]
         },
         "layout": {
          "annotationdefaults": {
           "arrowcolor": "#f2f5fa",
           "arrowhead": 0,
           "arrowwidth": 1
          },
          "autotypenumbers": "strict",
          "coloraxis": {
           "colorbar": {
            "outlinewidth": 0,
            "ticks": ""
           }
          },
          "colorscale": {
           "diverging": [
            [
             0,
             "#8e0152"
            ],
            [
             0.1,
             "#c51b7d"
            ],
            [
             0.2,
             "#de77ae"
            ],
            [
             0.3,
             "#f1b6da"
            ],
            [
             0.4,
             "#fde0ef"
            ],
            [
             0.5,
             "#f7f7f7"
            ],
            [
             0.6,
             "#e6f5d0"
            ],
            [
             0.7,
             "#b8e186"
            ],
            [
             0.8,
             "#7fbc41"
            ],
            [
             0.9,
             "#4d9221"
            ],
            [
             1,
             "#276419"
            ]
           ],
           "sequential": [
            [
             0,
             "#0d0887"
            ],
            [
             0.1111111111111111,
             "#46039f"
            ],
            [
             0.2222222222222222,
             "#7201a8"
            ],
            [
             0.3333333333333333,
             "#9c179e"
            ],
            [
             0.4444444444444444,
             "#bd3786"
            ],
            [
             0.5555555555555556,
             "#d8576b"
            ],
            [
             0.6666666666666666,
             "#ed7953"
            ],
            [
             0.7777777777777778,
             "#fb9f3a"
            ],
            [
             0.8888888888888888,
             "#fdca26"
            ],
            [
             1,
             "#f0f921"
            ]
           ],
           "sequentialminus": [
            [
             0,
             "#0d0887"
            ],
            [
             0.1111111111111111,
             "#46039f"
            ],
            [
             0.2222222222222222,
             "#7201a8"
            ],
            [
             0.3333333333333333,
             "#9c179e"
            ],
            [
             0.4444444444444444,
             "#bd3786"
            ],
            [
             0.5555555555555556,
             "#d8576b"
            ],
            [
             0.6666666666666666,
             "#ed7953"
            ],
            [
             0.7777777777777778,
             "#fb9f3a"
            ],
            [
             0.8888888888888888,
             "#fdca26"
            ],
            [
             1,
             "#f0f921"
            ]
           ]
          },
          "colorway": [
           "#636efa",
           "#EF553B",
           "#00cc96",
           "#ab63fa",
           "#FFA15A",
           "#19d3f3",
           "#FF6692",
           "#B6E880",
           "#FF97FF",
           "#FECB52"
          ],
          "font": {
           "color": "#f2f5fa"
          },
          "geo": {
           "bgcolor": "rgb(17,17,17)",
           "lakecolor": "rgb(17,17,17)",
           "landcolor": "rgb(17,17,17)",
           "showlakes": true,
           "showland": true,
           "subunitcolor": "#506784"
          },
          "hoverlabel": {
           "align": "left"
          },
          "hovermode": "closest",
          "mapbox": {
           "style": "dark"
          },
          "paper_bgcolor": "rgb(17,17,17)",
          "plot_bgcolor": "rgb(17,17,17)",
          "polar": {
           "angularaxis": {
            "gridcolor": "#506784",
            "linecolor": "#506784",
            "ticks": ""
           },
           "bgcolor": "rgb(17,17,17)",
           "radialaxis": {
            "gridcolor": "#506784",
            "linecolor": "#506784",
            "ticks": ""
           }
          },
          "scene": {
           "xaxis": {
            "backgroundcolor": "rgb(17,17,17)",
            "gridcolor": "#506784",
            "gridwidth": 2,
            "linecolor": "#506784",
            "showbackground": true,
            "ticks": "",
            "zerolinecolor": "#C8D4E3"
           },
           "yaxis": {
            "backgroundcolor": "rgb(17,17,17)",
            "gridcolor": "#506784",
            "gridwidth": 2,
            "linecolor": "#506784",
            "showbackground": true,
            "ticks": "",
            "zerolinecolor": "#C8D4E3"
           },
           "zaxis": {
            "backgroundcolor": "rgb(17,17,17)",
            "gridcolor": "#506784",
            "gridwidth": 2,
            "linecolor": "#506784",
            "showbackground": true,
            "ticks": "",
            "zerolinecolor": "#C8D4E3"
           }
          },
          "shapedefaults": {
           "line": {
            "color": "#f2f5fa"
           }
          },
          "sliderdefaults": {
           "bgcolor": "#C8D4E3",
           "bordercolor": "rgb(17,17,17)",
           "borderwidth": 1,
           "tickwidth": 0
          },
          "ternary": {
           "aaxis": {
            "gridcolor": "#506784",
            "linecolor": "#506784",
            "ticks": ""
           },
           "baxis": {
            "gridcolor": "#506784",
            "linecolor": "#506784",
            "ticks": ""
           },
           "bgcolor": "rgb(17,17,17)",
           "caxis": {
            "gridcolor": "#506784",
            "linecolor": "#506784",
            "ticks": ""
           }
          },
          "title": {
           "x": 0.05
          },
          "updatemenudefaults": {
           "bgcolor": "#506784",
           "borderwidth": 0
          },
          "xaxis": {
           "automargin": true,
           "gridcolor": "#283442",
           "linecolor": "#506784",
           "ticks": "",
           "title": {
            "standoff": 15
           },
           "zerolinecolor": "#283442",
           "zerolinewidth": 2
          },
          "yaxis": {
           "automargin": true,
           "gridcolor": "#283442",
           "linecolor": "#506784",
           "ticks": "",
           "title": {
            "standoff": 15
           },
           "zerolinecolor": "#283442",
           "zerolinewidth": 2
          }
         }
        },
        "title": {
         "text": "Moderate Hazard Toxins & Products"
        },
        "xaxis": {
         "automargin": true,
         "tickangle": -45,
         "title": {
          "text": "Toxin"
         }
        },
        "yaxis": {
         "title": {
          "text": "Product"
         }
        }
       }
      }
     },
     "metadata": {},
     "output_type": "display_data"
    }
   ],
   "source": [
    "# low_df = df[df['Product'] != 'No products found']\n",
    "layout = go.Layout(\n",
    "    title='Moderate Hazard Toxins & Products',\n",
    "    template='plotly_dark',\n",
    "    xaxis=dict(title='Toxin', tickangle=-45, automargin=True),\n",
    "    yaxis=dict(title='Product'),\n",
    "    font=dict(family=\"Redaction\"),\n",
    "    margin=dict(l=50, r=50, t=80, b=50)\n",
    ")\n",
    "\n",
    "data = [\n",
    "    go.Bar(\n",
    "        x=mod_df['Toxin'],\n",
    "        y=mod_df['Product'],\n",
    "        marker=dict(color='#ff8a00')\n",
    "    )\n",
    "]\n",
    "\n",
    "fig = go.Figure(data=data, layout=layout)\n",
    "\n",
    "# fig.update_layout(width=800, height=600)\n",
    "\n",
    "pio.show(fig)\n",
    "\n",
    "pio.write_html(fig, file='../reports/dynamic_visuals/moderate_hazard_bar.html', auto_open=False)"
   ]
  },
  {
   "cell_type": "markdown",
   "metadata": {},
   "source": [
    "# High Hazard Interactive Chart"
   ]
  },
  {
   "cell_type": "code",
   "execution_count": 141,
   "metadata": {},
   "outputs": [
    {
     "data": {
      "application/vnd.plotly.v1+json": {
       "config": {
        "plotlyServerURL": "https://plot.ly"
       },
       "data": [
        {
         "marker": {
          "color": "#ff0000"
         },
         "type": "bar",
         "x": [
          "Parfum",
          "Parfum",
          "Parfum",
          "Parfum",
          "Parfum",
          "Parfum",
          "Parfum",
          "Parfum",
          "Parfum",
          "Parfum",
          "Parfum",
          "Parfum",
          "Parfum",
          "Parfum",
          "Parfum",
          "Parfum",
          "Parfum",
          "Parfum",
          "Parfum",
          "Parfum",
          "Parfum",
          "Parfum",
          "Parfum",
          "Parfum",
          "Parfum",
          "Parfum",
          "Parfum",
          "Parfum",
          "Parfum",
          "Parfum",
          "Parfum",
          "Parfum",
          "Parfum",
          "Parfum",
          "Parfum",
          "Parfum",
          "Parfum",
          "Parfum",
          "Parfum",
          "Parfum",
          "Parfum",
          "Parfum",
          "Parfum",
          "Parfum",
          "Parfum",
          "Parfum",
          "Parfum",
          "Parfum",
          "Parfum",
          "Parfum",
          "Parfum",
          "Parfum",
          "Parfum",
          "Parfum",
          "Parfum",
          "Parfum",
          "Parfum",
          "Parfum",
          "Parfum",
          "Parfum",
          "Parfum",
          "Parfum",
          "Parfum",
          "Parfum",
          "Parfum",
          "Parfum",
          "Parfum",
          "Parfum",
          "Parfum",
          "Parfum",
          "Parfum",
          "Parfum",
          "Parfum",
          "Parfum",
          "Parfum",
          "Parfum",
          "Parfum",
          "Parfum",
          "Parfum",
          "Parfum",
          "Parfum",
          "Parfum",
          "Parfum",
          "Parfum",
          "Parfum",
          "Parfum",
          "Parfum",
          "Parfum",
          "Parfum",
          "Parfum",
          "Parfum",
          "Parfum",
          "Parfum",
          "Parfum",
          "Parfum",
          "Parfum",
          "Parfum",
          "Parfum",
          "Parfum",
          "Parfum",
          "Parfum",
          "Parfum",
          "Parfum",
          "Parfum",
          "Parfum",
          "Parfum",
          "Parfum",
          "Parfum",
          "Parfum",
          "Parfum",
          "Parfum",
          "Parfum",
          "Parfum",
          "Parfum",
          "Parfum",
          "Parfum",
          "Parfum",
          "Parfum",
          "Parfum",
          "Parfum",
          "Parfum",
          "Parfum",
          "Parfum",
          "Parfum",
          "Parfum",
          "Parfum",
          "Parfum",
          "Parfum",
          "Parfum",
          "Parfum",
          "Parfum",
          "Fragrance",
          "Fragrance",
          "Fragrance",
          "Fragrance",
          "Fragrance",
          "Fragrance",
          "Fragrance",
          "Fragrance",
          "Fragrance",
          "Fragrance",
          "Fragrance",
          "Fragrance",
          "Fragrance",
          "Fragrance",
          "Fragrance",
          "Fragrance",
          "Fragrance",
          "Fragrance",
          "Fragrance",
          "Fragrance",
          "Fragrance",
          "Fragrance",
          "Fragrance",
          "Fragrance",
          "Fragrance",
          "Fragrance",
          "Fragrance",
          "Fragrance",
          "Fragrance",
          "Fragrance",
          "Fragrance",
          "Fragrance",
          "Fragrance",
          "Fragrance",
          "Fragrance",
          "Fragrance",
          "Fragrance",
          "Fragrance",
          "Fragrance",
          "Fragrance",
          "Fragrance",
          "Fragrance",
          "Fragrance",
          "Fragrance",
          "Fragrance",
          "Fragrance",
          "Fragrance",
          "Fragrance",
          "Fragrance",
          "Fragrance",
          "Fragrance",
          "Fragrance",
          "Fragrance",
          "Fragrance",
          "Fragrance",
          "Fragrance",
          "Fragrance",
          "Fragrance",
          "Fragrance",
          "Fragrance",
          "Fragrance",
          "Fragrance",
          "Fragrance",
          "Fragrance",
          "Fragrance",
          "Fragrance",
          "Fragrance",
          "Fragrance",
          "Fragrance",
          "Fragrance",
          "Fragrance",
          "Fragrance",
          "Fragrance",
          "Fragrance",
          "Fragrance",
          "Fragrance",
          "Fragrance",
          "Fragrance",
          "Fragrance",
          "Fragrance",
          "Fragrance",
          "Fragrance",
          "Fragrance",
          "Fragrance",
          "Fragrance",
          "Fragrance",
          "Fragrance",
          "Fragrance",
          "Fragrance",
          "Fragrance",
          "Fragrance",
          "Fragrance",
          "Fragrance",
          "Fragrance",
          "Fragrance",
          "Fragrance",
          "Fragrance",
          "Fragrance",
          "Fragrance",
          "Fragrance",
          "Fragrance",
          "Fragrance",
          "Fragrance",
          "Fragrance",
          "Fragrance",
          "Fragrance",
          "Fragrance",
          "Fragrance",
          "Fragrance",
          "Fragrance",
          "Fragrance",
          "Fragrance",
          "Fragrance",
          "Fragrance",
          "Fragrance",
          "Fragrance",
          "Fragrance",
          "Fragrance",
          "Fragrance",
          "Fragrance",
          "Fragrance",
          "Fragrance",
          "Fragrance",
          "Fragrance",
          "Fragrance",
          "Fragrance",
          "Fragrance",
          "Fragrance",
          "Fragrance",
          "Fragrance",
          "Fragrance",
          "Fragrance",
          "Fragrance",
          "Fragrance",
          "Fragrance",
          "Fragrance",
          "Fragrance",
          "Fragrance",
          "Fragrance",
          "Fragrance",
          "Fragrance",
          "Fragrance",
          "Fragrance",
          "Fragrance",
          "Fragrance",
          "Fragrance",
          "Fragrance",
          "Fragrance",
          "Fragrance",
          "Fragrance",
          "Fragrance",
          "Fragrance",
          "Fragrance",
          "Fragrance",
          "Fragrance",
          "Fragrance",
          "Fragrance",
          "Fragrance",
          "Fragrance",
          "Fragrance",
          "Fragrance",
          "Fragrance",
          "Fragrance",
          "Fragrance",
          "Fragrance",
          "Fragrance",
          "Fragrance",
          "Fragrance",
          "Fragrance",
          "Fragrance",
          "Fragrance",
          "Fragrance",
          "Fragrance",
          "Fragrance",
          "Fragrance",
          "Fragrance",
          "Fragrance",
          "Fragrance",
          "Fragrance",
          "Fragrance",
          "Fragrance",
          "Fragrance",
          "Fragrance",
          "Fragrance",
          "Fragrance",
          "Fragrance",
          "Fragrance",
          "Fragrance",
          "Fragrance",
          "Fragrance",
          "Fragrance",
          "Fragrance",
          "Fragrance",
          "Fragrance",
          "Fragrance",
          "Fragrance",
          "Fragrance",
          "Fragrance",
          "Fragrance",
          "Fragrance",
          "Fragrance",
          "Fragrance",
          "Fragrance",
          "Fragrance",
          "Fragrance",
          "Fragrance",
          "Fragrance",
          "Fragrance",
          "Fragrance",
          "Fragrance",
          "Fragrance",
          "Fragrance",
          "Fragrance",
          "Fragrance",
          "Fragrance",
          "Fragrance",
          "Fragrance",
          "Fragrance",
          "Fragrance",
          "Fragrance",
          "Fragrance",
          "Fragrance",
          "Fragrance",
          "Fragrance",
          "Fragrance",
          "Fragrance",
          "Fragrance",
          "Fragrance",
          "Fragrance",
          "Fragrance",
          "Fragrance",
          "Fragrance",
          "Fragrance",
          "Fragrance",
          "Fragrance",
          "Fragrance",
          "Fragrance",
          "Fragrance",
          "Fragrance",
          "Fragrance",
          "Fragrance",
          "Fragrance",
          "Fragrance",
          "Fragrance",
          "Fragrance",
          "Fragrance",
          "Fragrance",
          "Fragrance",
          "Fragrance",
          "Fragrance",
          "Fragrance",
          "Fragrance",
          "Fragrance",
          "Fragrance",
          "Fragrance",
          "Fragrance",
          "Fragrance",
          "Fragrance",
          "Fragrance",
          "Fragrance",
          "Fragrance",
          "Fragrance",
          "Fragrance",
          "Fragrance",
          "Fragrance",
          "Fragrance",
          "Fragrance",
          "Fragrance",
          "Fragrance",
          "Fragrance",
          "Fragrance",
          "Fragrance",
          "Fragrance",
          "Fragrance",
          "Fragrance",
          "Fragrance",
          "Fragrance",
          "Fragrance",
          "Fragrance",
          "Fragrance",
          "Fragrance",
          "Fragrance",
          "Fragrance",
          "Fragrance",
          "Fragrance",
          "Fragrance",
          "Fragrance",
          "Fragrance",
          "Fragrance",
          "Fragrance",
          "Fragrance",
          "Fragrance",
          "Fragrance",
          "Fragrance",
          "Fragrance",
          "Fragrance",
          "Fragrance",
          "Fragrance",
          "Fragrance",
          "Fragrance",
          "Fragrance",
          "Fragrance",
          "Fragrance",
          "Fragrance",
          "Fragrance",
          "Fragrance",
          "Fragrance",
          "Fragrance",
          "Fragrance",
          "Fragrance",
          "Fragrance",
          "Fragrance",
          "Fragrance",
          "Fragrance",
          "Fragrance",
          "Fragrance",
          "Fragrance",
          "Fragrance",
          "Fragrance",
          "Fragrance",
          "Fragrance",
          "Fragrance",
          "Fragrance",
          "Fragrance",
          "Fragrance",
          "Fragrance",
          "Fragrance",
          "Fragrance",
          "Fragrance",
          "Fragrance",
          "Fragrance",
          "Fragrance",
          "Fragrance",
          "Fragrance",
          "Fragrance",
          "Fragrance",
          "Fragrance",
          "Fragrance",
          "Fragrance",
          "Fragrance",
          "Fragrance",
          "Fragrance",
          "Fragrance",
          "Fragrance",
          "Fragrance",
          "Fragrance",
          "Fragrance",
          "Fragrance",
          "Fragrance",
          "Fragrance",
          "Fragrance",
          "Fragrance",
          "Fragrance",
          "Fragrance",
          "Fragrance",
          "Fragrance",
          "Fragrance",
          "Fragrance",
          "Fragrance",
          "Fragrance",
          "Fragrance",
          "Fragrance",
          "Fragrance",
          "Fragrance",
          "Fragrance",
          "Fragrance",
          "Fragrance",
          "Fragrance",
          "Fragrance",
          "Fragrance",
          "Fragrance",
          "Fragrance",
          "Fragrance",
          "Fragrance",
          "Fragrance",
          "Fragrance",
          "Fragrance",
          "Fragrance",
          "Fragrance",
          "Fragrance",
          "Fragrance",
          "Fragrance",
          "Fragrance",
          "Fragrance",
          "Fragrance",
          "Fragrance",
          "Fragrance",
          "Fragrance",
          "Fragrance",
          "Fragrance",
          "Fragrance",
          "Fragrance",
          "Fragrance",
          "Fragrance",
          "Fragrance",
          "Fragrance",
          "Fragrance",
          "Fragrance",
          "Fragrance",
          "Fragrance",
          "Fragrance",
          "Fragrance",
          "Fragrance",
          "Fragrance",
          "Fragrance",
          "Fragrance",
          "Fragrance",
          "Fragrance",
          "Fragrance",
          "Fragrance",
          "Fragrance",
          "Fragrance",
          "Fragrance",
          "Fragrance",
          "Fragrance",
          "Fragrance",
          "Fragrance",
          "Fragrance",
          "Fragrance",
          "Fragrance",
          "Fragrance",
          "Fragrance",
          "Fragrance",
          "Fragrance",
          "Fragrance",
          "Fragrance",
          "Fragrance",
          "Fragrance",
          "Fragrance",
          "Fragrance",
          "Fragrance",
          "Fragrance",
          "Fragrance",
          "Fragrance",
          "Fragrance",
          "Fragrance",
          "Fragrance",
          "Fragrance",
          "Fragrance",
          "Fragrance",
          "Fragrance",
          "Fragrance",
          "Fragrance",
          "Fragrance",
          "Fragrance",
          "Fragrance",
          "Fragrance",
          "Fragrance",
          "Fragrance",
          "Fragrance",
          "Fragrance",
          "Fragrance",
          "Fragrance",
          "Fragrance",
          "Fragrance",
          "Fragrance",
          "Fragrance",
          "Fragrance",
          "Fragrance",
          "Fragrance",
          "Fragrance",
          "Fragrance",
          "Fragrance",
          "Fragrance",
          "Fragrance",
          "Fragrance",
          "Fragrance",
          "Fragrance",
          "Fragrance",
          "Fragrance",
          "Fragrance",
          "Fragrance",
          "Fragrance",
          "Fragrance",
          "Fragrance",
          "Fragrance",
          "Fragrance",
          "Fragrance",
          "Fragrance",
          "Fragrance",
          "Fragrance",
          "Fragrance",
          "Fragrance",
          "Fragrance",
          "Fragrance",
          "Fragrance",
          "Fragrance",
          "Fragrance",
          "Fragrance",
          "Fragrance",
          "Fragrance",
          "Fragrance",
          "Fragrance",
          "Fragrance",
          "Fragrance",
          "Fragrance",
          "Fragrance",
          "Fragrance",
          "Fragrance",
          "Fragrance",
          "Fragrance",
          "Triclosan",
          "Triclosan",
          "Triclosan",
          "Triclosan",
          "Homosalate",
          "Homosalate",
          "Homosalate",
          "Homosalate",
          "Homosalate",
          "Homosalate",
          "Homosalate",
          "Homosalate",
          "Homosalate",
          "Homosalate",
          "Homosalate",
          "Homosalate",
          "Homosalate"
         ],
         "y": [
          "No products found",
          "Benefiance WrinkleResist24 Night Cream",
          "Goodnight Glow Retin-ALT Sleeping Crème",
          "Beauty Elixir",
          "The Silk Cream",
          "Vinosource Moisturizing Sorbet",
          "Luminous Dewy Skin Night Concentrate",
          "Seaberry Moisturizing Face Oil",
          "Renewed Hope in A Jar Refreshing & Refining Moisturizer",
          "Cold Plasma Sub-D Firming Neck Treatment",
          "Nurture Me™ Moisturizing Crème",
          "Invigorating Night Transformation™ Gel",
          "Wild Rose + Vitamin C Advanced Brightening Sleeping Facial",
          "Evercalm™ Overnight Recovery Balm",
          "Benefiance WrinkleResist24 Night Emulsion",
          "Resveratrol Lift Night Infusion Cream",
          "Ibuki Refining Moisturizer Enriched",
          "Immortelle Divine Cream",
          "Premier Cru Cream",
          "Bio-Performance Glow Revival Cream",
          "Truth Revealed™ Brightening Broad Spectrum SPF 15 Moisturizer",
          "Renewed Hope in A Jar Overnight Recharging & Refining Moisturizer",
          "Vinosource Intense Moisture Rescue Cream",
          "Wrinkle Warrior™ 2-in-1 Plumping Moisturizer + Serum",
          "Hyaluronic Marine Oil-Free Moisture Cushion",
          "Ibuki Beauty Sleeping Mask",
          "Premier Cru Rich Cream",
          "POWER Recharging Night Pressed Serum",
          "Super Restorative Night Age Spot Correcting Replenishing Cream",
          "Rose Deep Hydration Facial Toner",
          "Sugar Face Polish Exfoliator",
          "Transforming Walnut Scrub",
          "microdermabrasion age defying exfoliator",
          "Greek Yoghurt Foaming Cream Cleanser",
          "Benefiance Extra Creamy Cleansing Foam",
          "Gentle Foaming Cleanser with Cottonseed",
          "Toning Lotion with Camomile",
          "Flawless Skin Face Polish",
          "Rose Deep Hydration Toner Mini",
          "Truth™ On the Glow Cleansing Cloths",
          "One-Step Gentle Exfoliating Cleanser with Orange Extract",
          "Face the Truth™ Gel Cleanser",
          "White Lucent Luminizing Infuser",
          "Radiance Cleansing Foam",
          "Multi-Miracle Glow Cleansing Balm",
          "Future Solution LX Extra Rich Cleansing Foam",
          "Acne Clearing Wash",
          "A Glowing Regimen Trial Set",
          "No:Rinse Intensive Pore Minimizing Toner",
          "Pore Reform™ Skin Smoothing Polish",
          "Eau Ginseng",
          "Solid Cleansing Oil",
          "PRE:EMPT SERIES™ Exfoliating Pore Refiner",
          "GENIUS Ultimate Anti-Aging Melting Cleanser",
          "So Nurturing™ Cleansing Cloths",
          "Wonderfeel™ Double Cleanser",
          "Rosa Centifolia™ No.1 Purity Cleansing Balm",
          "Pore Refining Detox Double Cleanse",
          "Micro Polish Cleanser",
          "Alpha Beta® Extra Strength Daily Peel",
          "Vinoperfect Radiance Serum",
          "Double Serum Complete Age Control Concentrate",
          "GENIUS Liquid Collagen",
          "Vinosource S.O.S Thirst Quenching Serum",
          "Glow Cycle Retin-ALT Power Serum",
          "White Lucent MicroTargeting Spot Corrector",
          "Black Tea Age-Delay Firming Serum",
          "Minus Serum",
          "Vine[Activ] Vitamin C Anti-Wrinkle Serum",
          "Resveratrol Lift Firming Serum",
          "Shaping Facial Lift Total V Contouring Serum",
          "White Lucent Luminizing Surge",
          "Power Peel™ Transforming Facial System",
          "Black Pine 3D Sculpting, Firming & Lifting Face Serum",
          "PRE:EMPT SERIES™ Skin Perfecting Serum",
          "Breakout Fighters",
          "Bio Retinoid Anti-Wrinkle Concentrate Oil",
          "Lotus Face Treatment Oil",
          "Vitamin C Ester Brightening Amine Face Lift",
          "Future Solution LX Intensive Firming Contour Serum",
          "Concentrated Reconstructing Serum",
          "Mission Perfection Serum",
          "Silver Skin Savior Salicylic/Glycolic Acid Treatment",
          "Lip Sleeping Mask",
          "Rose Face Mask",
          "Black Tea Instant Perfecting Mask",
          "Face Mask",
          "Australian Pink Clay Porefining Face Mask",
          "Vitamin C Glow Face Mask",
          "Face Mask - Pearl - Brightening",
          "Black Tea Instant Perfecting Mask Mini",
          "Face Mask - Green Tea - Mattifying",
          "Crazy for Clay!",
          "Face Mask - Rose - Moisturizing",
          "Face Mask - Aloe Vera - Replenishing",
          "Face Mask - Pineapple - Pore Perfecting",
          "Face Mask - Coconut - Nourishing",
          "Pomegranate AHA & Enzymes Resurfacing Mask",
          "Moisturizing Mask",
          "Face Mask - Algae - Detoxifying",
          "Face Mask - Grape - Anti-pollution",
          "Goddess Clay Mask",
          "Hydrating Lip Mask",
          "V-Facial Intensive Wrap",
          "Midnight Radiance Mask",
          "Hygge HydraClay™ Detox Mask",
          "Bamboo Waterlock Mask",
          "InstaMatte™ Oil-Control Mask",
          "Wrinkle Warrior® Pink Plumping Mask",
          "Egg Cream Mask Pore Tightening",
          "SPLASH Absolute Hydration Replenishing Sleeping Pack",
          "Benefiance WrinkleResist24 Intensive Eye Contour Cream",
          "Banana Bright Eye Crème",
          "R.N.A. POWER Anti-Aging Eye Cream",
          "Super Restorative Total Eye Concentrate",
          "Ultimune Eye Power Infusing Eye Concentrate",
          "Future Solution LX Eye and Lip Contour Regenerating Cream",
          "Bio-Performance LiftDynamic Eye Treatment",
          "Black Pine 3D Sculpting, Firming & Lifting Super Eye Serum",
          "Crème Ancienne Supreme Eye Serum",
          "Bio Performance Glow Revival Eye Treatment",
          "Black Pine 3D Sculpting, Firming & Lifting Eye Cream",
          "Enhancing Eye Lift Serum",
          "Mission Perfection Eye Broad Spectrum SPF 15",
          "Multi-Active Day Cream SPF 20 - All Skin Types",
          "CC Red Correct Automatic Perfector Broad Spectrum SPF 25",
          "Tarteguard 30 Vegan Sunscreen Lotion Broad Spectrum SPF 30",
          "Sugar Sport Treatment Sunscreen SPF 30",
          "After Sun Greek Yoghurt Cooling Gel for Face and Body",
          "Daily Deflector™ Waterlight Broad Spectrum SPF 50+ PA+++ Anti-Aging Sunscreen",
          "Pro Light Self Tan Bronzing Mist",
          "Crème de la Mer",
          "The Moisturizing Soft Cream",
          "The Water Cream",
          "Little Miss Miracle Limited-Edition Crème de la Mer",
          "The True Cream Aqua Bomb",
          "Rose Deep Hydration Moisturizer",
          "R.N.A. POWER Face Cream",
          "Crème de la Mer Mini",
          "Bio-Performance Advanced Super Revitalizing Cream",
          "Black Tea Firming Overnight Mask",
          "The True Cream Moisturizing Bomb",
          "GenOptics Aura Essence Serum",
          "Black Tea Kombucha Antioxidant Essence",
          "Pure One Step Camellia Cleansing Oil",
          "Water Sleeping Mask",
          "Water Bank Moisture Cream",
          "Luminous Dewy Skin Mist",
          "Benefiance WrinkleResist24 Night Cream",
          "Goodnight Glow Retin-ALT Sleeping Crème",
          "Watermelon Glow Sleeping Mask",
          "Radiance Drops - Rainforest of the Sea™ Collection",
          "Beauty Elixir",
          "The Renewal Oil",
          "The Silk Cream",
          "C-Rush™ Brightening Gel Crème",
          "Color Control Cushion Compact Broad Spectrum SPF 50+",
          "Vinosource Moisturizing Sorbet",
          "CC Crème High Definition Radiance Face Cream Skin Perfector",
          "C.E.O. C + E antiOXIDANT Protect + Repair Moisturizer",
          "Luminous Dewy Skin Night Concentrate",
          "GLOWSTARTER™ Mega Illuminating Moisturizer",
          "Revitalizing Supreme Global Anti-Aging Crème",
          "Seaberry Moisturizing Face Oil",
          "BB Cushion Hydra Radiance SPF 50",
          "FUTURE RESPONSE Age Defense Creme",
          "THIRSTYMUD™ Hydrating Treatment",
          "Black Tea Corset Cream Firming Moisturizer",
          "Secret Sauce Clinically Advanced Miraculous Anti-Aging Moisturizer",
          "Benefiance WrinkleResist24 Day Cream Broad Spectrum SPF 18",
          "Water Bank Essence",
          "Watermelon Pink Juice Moisturizer",
          "Renewed Hope in A Jar Refreshing & Refining Moisturizer",
          "Cold Plasma Sub-D Firming Neck Treatment",
          "Rénergie Lift Multi-Action Night",
          "GENIUS Ultimate Anti-Aging Cream",
          "Nurture Me™ Moisturizing Crème",
          "Invigorating Night Transformation™ Gel",
          "Aqua Bomb Sleeping Mask",
          "Superfood Air-Whip Hyaluronic Acid Moisture Cream",
          "Bio-Performance Advanced Super Restoring Cream",
          "Benefiance WrinkleResist24 Day Emulsion Broad Spectrum SPF 18",
          "Vitamin C Glow Moisturizer",
          "Wild Rose + Vitamin C Advanced Brightening Sleeping Facial",
          "Vitamin Nectar Antioxidant Face Mist",
          "Peat Miracle Revital Cream",
          "Superberry Hydrate + Glow Oil",
          "Photo Finish Primer Water",
          "Retinol Youth Renewal Night Cream",
          "Water Bank Hydrating Gel",
          "Evercalm™ Overnight Recovery Balm",
          "Counter Balance™ Oil Control Hydrator",
          "The Moisturizing Soft Lotion",
          "Benefiance WrinkleResist24 Night Emulsion",
          "Resveratrol Lift Night Infusion Cream",
          "Essential-C Day Moisture Broad Spectrum SPF 30 PA+++",
          "Future Solution LX Total Regenerating Cream",
          "Multi-Active Night Cream - Normal to Combination Skin",
          "Ibuki Refining Moisturizer",
          "Ibuki Refining Moisturizer Enriched",
          "The Renewal Oil Mini",
          "Tech Neck Prevention Kit",
          "The Method: Nourish",
          "BIENFAIT MULTI-VITAL NIGHT - High Potency Night Moisturizing Cream VITA-NUTRI 8™",
          "Gold Camellia Beauty Oil",
          "Immortelle Divine Cream",
          "Advanced Time Zone Night Age Reversing Line/Wrinkle Crème",
          "Overnight Restorative Cream",
          "Premier Cru Cream",
          "Resveratrol Lift Face Lifting Soft Cream",
          "Bio-Performance Glow Revival Cream",
          "Sleeping Mask",
          "Hungarian Water Essence",
          "Resilience Lift Firming/Sculpting Face and Neck Creme Broad Spectrum SPF 15, Normal/Combination Skin",
          "Truth Revealed™ Brightening Broad Spectrum SPF 15 Moisturizer",
          "Cellumination Cream EX",
          "BIENFAIT MULTI-VITAL - SPF 30 CREAM - High Potency Vitamin Enriched Daily Moisturizing Cream",
          "Extra-Firming Neck Anti-Wrinkle Rejuvenating Cream",
          "MOISTURE BOUND Rejuvenating Crème",
          "BB Crème au Ginseng",
          "SUBLIME DEFENSE Ultra Lightweight UV Defense Fluid SPF 50",
          "Renewed Hope in A Jar Overnight Recharging & Refining Moisturizer",
          "Anti-Aging Moisturizer SPF 30 PA+++",
          "Ultimate Miracle Worker Multi-Rejuvenating Cream SPF 30",
          "Treatment Toner",
          "Bio-Performance LiftDynamic Cream",
          "Vinosource Intense Moisture Rescue Cream",
          "Wrinkle Warrior™ 2-in-1 Plumping Moisturizer + Serum",
          "Hyaluronic Marine Oil-Free Moisture Cushion",
          "Nutrient-Charged Water Gel",
          "MOISTURE BOUND Refreshing Hydra-Gel Oil-Free",
          "Instant Moisturizer + Cream",
          "Water Bank Dual Layer Face Oil",
          "Ibuki Beauty Sleeping Mask",
          "VOLCASMIC™ Matte Glow Moisturizer",
          "Rénergie Lift Multi-Action Sunscreen Broad Spectrum SPF 15 For All Skin Types",
          "High Potency Classics: Face Finishing & Firming Moisturizer",
          "Ibuki Protective Moisturizer Broad Spectrum SPF 18",
          "Visionnaire Advanced Multi-Correcting Cream",
          "Premier Cru Rich Cream",
          "Hydra Zen Anti-Stress Gel Moisturizer",
          "Intensive Instant Moisturizer + Cream",
          "Facial Treatment Oil",
          "Maracuja Neck Treatment",
          "DREAMDUO™ Overnight Transforming Treatment",
          "POWER Recharging Night Pressed Serum",
          "Firming & Lifting Neck Cream",
          "White Lucent All Day Brightener Broad Spectrum SPF 23 Moisturizer",
          "The Moisturizing Matte Lotion",
          "Super Restorative Night Age Spot Correcting Replenishing Cream",
          "Face Hero",
          "Tonique Confort Re-Hydrating Comforting Toner with Acacia Honey",
          "Rose Deep Hydration Facial Toner",
          "Bi-Facil Double-Action Eye Makeup Remover",
          "Cleansing & Exfoliating Wipes",
          "The Cleansing Foam",
          "Treatment Enzyme Peel",
          "Sugar Face Polish Exfoliator",
          "Superfood Antioxidant Cleanser",
          "The Clean Truth™ Foaming Cleanser",
          "Transforming Walnut Scrub",
          "Calendula Deep Clean Foaming Face Wash",
          "microdermabrasion age defying exfoliator",
          "Instant Foaming Cleanser",
          "Greek Yoghurt Foaming Cream Cleanser",
          "Moisturizing Toner",
          "Benefiance Extra Creamy Cleansing Foam",
          "YOUTHMUD™ Tinglexfoliate Treatment",
          "Anti-Aging Cleansing Gel",
          "Clarifying Cleanser",
          "The Tonic",
          "EradiKate® Daily Cleanser Acne Treatment",
          "Bye Bye Makeup™ 3-in-1 Makeup Melting Cleansing Balm",
          "Treatment Cleansing Foam",
          "Nutritious Radiant Vitality Energy Lotion",
          "Multi Cleanser",
          "Gentle Foaming Cleanser with Cottonseed",
          "Ibuki Gentle Cleanser",
          "Micellar Cleansing Water",
          "Blueberry Bounce Gentle Cleanser",
          "Toning Lotion with Camomile",
          "Flawless Skin Face Polish",
          "Green Tea Real Fresh Foam Cleanser",
          "FLASHMUD™ Brightening Treatment",
          "Time Release Acne Cleanser",
          "Rose Deep Hydration Toner Mini",
          "Witch Hazel Herbal Extract Toner",
          "Essential Power Skin Toner for Normal to Dry Skin",
          "Crème Radiance Gentle Cleansing Creamy-Foam Cleanser",
          "Truth™ On the Glow Cleansing Cloths",
          "One-Step Gentle Exfoliating Cleanser with Orange Extract",
          "The Cleansing Foam Mini",
          "Deep Cleansing Exfoliator",
          "SUPERCLEANSE™ Clearing Cream-to-Foam Cleanser",
          "Essential-C Cleanser",
          "Face the Truth™ Gel Cleanser",
          "The Cleansing Gel",
          "White Lucent Luminizing Infuser",
          "Radiance Cleansing Foam",
          "Cleansing & Clarifying Duo",
          "Gentle Cleansing Milk",
          "Make-Up Removing Cleansing Oil",
          "Soy Face Cleansing Milk",
          "Moisturizing Foam Cleanser",
          "Seaberry Skin Nutrition Cleansing Oil",
          "Pureness Deep Cleansing Foam",
          "Essential Power Skin Toner for Combination to Oily Skin",
          "Shea Cleansing Oil",
          "Multi-Miracle Glow Cleansing Balm",
          "The Method: Polish Blemish Control",
          "Ibuki Softening Concentrate",
          "Future Solution LX Extra Rich Cleansing Foam",
          "Creamy Cleansing Foam Moist",
          "Oil Control Blotting Paper",
          "Problem Solution Toner",
          "Acne Clearing Wash",
          "OIL OBSESSED™ Total Cleansing Oil",
          "Bergamot Herbal Extract Toner",
          "Essential-C Toner",
          "Renewing Cleansing Cream",
          "YOUTHCLEANSE™ Daily Exfoliating Cleanser",
          "Stay Balanced™ Oil Control Cleansing Cloths",
          "A Glowing Regimen Trial Set",
          "Wild Rose Exfoliating Cleanser",
          "Cleansing Gel Oil Enriched",
          "No:Rinse Intensive Pore Minimizing Toner",
          "The Cleansing Oil",
          "Hydrating Toner",
          "Ibuki Purifying Cleanser",
          "Pureness Balancing Softener Alcohol-Free",
          "Multi-Perfecting Detoxifying Exfoliator",
          "Moment of Truth™ 2-in-1 Polishing Sugar Mask",
          "Pore Reform™ Skin Smoothing Polish",
          "One Step Acne Eliminating Pads",
          "Eau Ginseng",
          "Solid Cleansing Oil",
          "Prep-N-Glow™ Cloths",
          "The Method: Cleanse",
          "Double Mousse Gentle Cleansing Foam",
          "Exfoliating Swipeys",
          "PRE:EMPT SERIES™ Exfoliating Pore Refiner",
          "POWERMUD™ Dualcleanse Treatment",
          "The Cleansing Micellar Water",
          "GENIUS Ultimate Anti-Aging Melting Cleanser",
          "So Nurturing™ Cleansing Cloths",
          "Wonderfeel™ Double Cleanser",
          "Extra Rich Cleansing Milk",
          "Perfectly Clean Multi-Action Toning Lotion/Refiner",
          "Umbrian Clay Pore Purifying Face Exfoliator",
          "Rosa Centifolia™ No.1 Purity Cleansing Balm",
          "Refreshing Cleanser",
          "Pore Refining Detox Double Cleanse",
          "Refreshing Gel Cleanser",
          "Hydrating Essence Toner",
          "Micro Polish Cleanser",
          "Truth Serum®",
          "Advanced Génifique Youth Activating Serum Duo",
          "Alpha Beta® Extra Strength Daily Peel",
          "SUPERMUD® Activated Charcoal Treatment",
          "Alpha Beta® Universal Daily Peel",
          "Truth Serum - Starlight Holiday Edition",
          "Vinoperfect Radiance Serum",
          "Double Serum Complete Age Control Concentrate",
          "The Regenerating Serum",
          "GENIUS Liquid Collagen",
          "Rapid Age Spot and Pigment Lightening Serum",
          "Vinosource S.O.S Thirst Quenching Serum",
          "Perfectionist CP+R Wrinkle Lifting/Firming Serum",
          "The Revitalizing Hydrating Serum",
          "The Treatment Lotion",
          "Max Complexion Correction Pads",
          "Glow Cycle Retin-ALT Power Serum",
          "Backlight Priming Filter Face Primer",
          "GRAVITYMUD™ Firming Treatment",
          "R.N.A. POWER Anti-Aging Essence Serum",
          "White Lucent MicroTargeting Spot Corrector",
          "Rose Deep Hydration Face Serum",
          "Black Tea Age-Delay Firming Serum",
          "Invisiblur™ Perfecting Shield Broad Spectrum SPF 30 PA+++",
          "Bio-Peel Gauze Peeling - Green Tea",
          "Minus Serum",
          "Visionnaire Advanced Skin Corrector Serum",
          "Retinol Youth Renewal Serum",
          "Vine[Activ] Vitamin C Anti-Wrinkle Serum",
          "Vitamin C Ester Brightening Serum",
          "Luminous Deep Hydration Firming Serum",
          "ELEVATE Advanced Retinol Serum",
          "Lift Serum Intense with Stem Cell Recovery Complex",
          "Skin Love Glow Elixir",
          "Resveratrol Lift Firming Serum",
          "Active Retinol Renewal Kit",
          "Advanced Génifique Sensitive Antioxidant Serum",
          "Revitalixir™ Recovery Serum",
          "Shaping Facial Lift Total V Contouring Serum",
          "White Lucent Luminizing Surge",
          "Red Jelly Pack",
          "Superfood Firm and Brighten Vitamin C Serum",
          "+Retinol Vita C Power Serum",
          "Power Peel™ Transforming Facial System",
          "Black Pine 3D Sculpting, Firming & Lifting Face Serum",
          "GENIUS Ultimate Anti-Aging Vitamin C+ Serum",
          "MOISTURE BOUND Rejuvenating Serum",
          "Sunless Tan Anti-Aging Face Serum",
          "Perfect Canvas Skin Finishing Serum",
          "Outsmart Acne Clarifying Treatment",
          "Therapeutic Sulfur Mask Acne Treatment Mask",
          "Enlighten Dark Spot Correcting Night Serum",
          "PRE:EMPT SERIES™ Skin Perfecting Serum",
          "FUTURE RESPONSE Age Defense Serum",
          "Hyaluronic Marine Hydration Booster",
          "Bio-Performance Glow Revival Serum",
          "Breakout Fighters",
          "Essential Fx Acyl-Glutathione Deep Crease Serum",
          "Advanced Acne & Wrinkle Reducer",
          "Bio-Performance LiftDynamic Serum",
          "Acne Body Wash",
          "Glycolic Peel",
          "Golden Krocus Ageless Saffron Elixir Serum",
          "Peat Miracle Revital Serum Concentrate",
          "SKINLONGEVITY™ Vital Power Infusion Serum",
          "Bio Retinoid Anti-Wrinkle Concentrate Oil",
          "Lotus Face Treatment Oil",
          "Perfectionist Pro Rapid Firm + Lift Treatment",
          "Vitamin C Ester Brightening Amine Face Lift",
          "Future Solution LX Intensive Firming Contour Serum",
          "Advanced Active Radiance® Serum",
          "White Marble Dual Phase Vitamin C Peel",
          "Micro-Blur™ Skin Perfector",
          "Flash Hydro-Boost Instant Plumping Emulsion",
          "High Potency Classics: Firming Evening Repair",
          "Hydra Sebum Control Essence",
          "GENIUS Ultimate Anti-Aging Bi-Phase Peel",
          "Crème Ancienne® Supreme Face Serum",
          "EradiKate™ Mask Foam-Activated Acne Treatment",
          "Concentrated Reconstructing Serum",
          "Mission Perfection Serum",
          "Silver Skin Savior Salicylic/Glycolic Acid Treatment",
          "ELEVATE Advanced Lift Contouring Cream",
          "Face Mask Magic",
          "Lip Sleeping Mask",
          "Rose Face Mask",
          "Black Tea Instant Perfecting Mask",
          "Face Mask",
          "The Lifting and Firming Mask",
          "Experiential Masks Set",
          "Pumpkin Enzyme Mask Enzymatic Dermal Resurfacer",
          "Overnight Miracle Mask",
          "Watermelon Glow Sleeping Mask Mini",
          "Black Tea Firming Overnight Mask Mini",
          "The Ultimate Glow Set",
          "Hand Mask",
          "Vitamin C Glow Face Mask",
          "Hand Mask - Avocado",
          "The Brilliance Brightening Mask",
          "Face Mask - Pearl - Brightening",
          "Black Tea Instant Perfecting Mask Mini",
          "Luminous Dewy Skin Sheet Mask",
          "Face Mask - Avocado",
          "Advanced Génifique Hydrogel Melting Mask",
          "Purity Made Simple Pore Extractor Mask",
          "Egg Cream Mask Hydration",
          "Clay Mask",
          "Nutritious Vitality8™ Night Creme/Mask",
          "Face Mask - Green Tea - Mattifying",
          "Mud Mask Purifying & Mattifying",
          "Evercalm™ Ultra Comforting Rescue Mask",
          "Watermelon Glow Jelly Sheet Mask",
          "Crazy for Clay!",
          "Luminous Deep Hydration Lifting Mask",
          "Face Mask - Rose - Moisturizing",
          "Time Freeze Sleeping Mask",
          "SUPERMASK - The Golden Mask",
          "#GLITTERMASK GRAVITYMUD™ Firming Treatment",
          "Greek Yoghurt Advanced Nourishing Sleeping Facial",
          "Face Mask - Aloe Vera - Replenishing",
          "MOISTURE BOUND Sleeping Recovery Mask",
          "Face Mask - Pineapple - Pore Perfecting",
          "Face Mask - Coconut - Nourishing",
          "SUPERMASK - The Charcoal Mask",
          "Superfood Skin Reset Antioxidant Mask",
          "Sleeping Mask - Rose",
          "SUPERMASK - The Silver Mask",
          "Sleeping Mask - Pearl",
          "Treatment Lotion Hydrating Mask",
          "Pomegranate AHA & Enzymes Resurfacing Mask",
          "Moisturizing Mask",
          "Face Mask - Algae - Detoxifying",
          "Face Mask - Grape - Anti-pollution",
          "Goddess Clay Mask",
          "The Lifting and Firming Mask Mini",
          "SUPERMASK - The Mud Mask",
          "Brightening Infusion Hydrogel Mask",
          "Deep Cleansing Mask",
          "Sleeping Mask - Coconut Water",
          "Face Mask - Algae",
          "Pore Minimalist Black Charcoal Sheet Mask",
          "Pore Cleaner Bubble Foam",
          "Sleeping Mask - Aloe Vera",
          "Hydrating Lip Mask",
          "V-Facial Intensive Wrap",
          "Cocoa Moisture Mask",
          "Face Mask - Lotus",
          "Extra-Firming Mask",
          "Polishing Mask",
          "Midnight Radiance Mask",
          "PERFECT Clarifying Pore Corrector Mask",
          "Gel Mask Hydrating & Quenching",
          "Hygge HydraClay™ Detox Mask",
          "Water Pocket Sheet Mask Sleeping Mask (Replenishing)",
          "TIME RESPONSE Vintage Wash-off Masque",
          "MOISTURE BOUND Intensive Serum Masque",
          "Pore Extractor Pomegranate Mask",
          "Face Mask - Pomegranate",
          "NightWear Plus 3-Minute Detox Mask",
          "Rose Jelly Mask",
          "Bamboo Waterlock Mask",
          "After-Sun Mask - Watermelon",
          "Whipped Mud Mask Collection",
          "Wrinkle Warrior® Pink Plumping Mask",
          "Algae Brightening Mask",
          "Egg Cream Mask Firming",
          "Coconut Ceramide Mask",
          "First Aid Transforming Peel Off Mask",
          "Ain’t Misbehavin’® Intensive 10% Sulfur Acne Mask & Emergency Spot Treatment",
          "Jelly Mask Moisturizing & Energizing",
          "The True Tincture Mask - Chamomile",
          "Nose Mask - Pineapple",
          "Peel-off Mask",
          "Water Pocket Sheet Mask Water Bank (Moisturizing)",
          "SPLASH Absolute Hydration Replenishing Sleeping Pack",
          "SOS Hydra Refreshing Hydration Mask",
          "SUPERMASK - The Primer Mask",
          "Egg Mousse Pack",
          "Self Tan Express Bronzing Face Sheet Mask",
          "Mask-Imum Revival Hydra-Plumping Mask",
          "PRE:EMPT SERIES™ Refreshing Shower Mask",
          "The Eye Concentrate",
          "Benefiance WrinkleResist24 Intensive Eye Contour Cream",
          "Banana Bright Eye Crème",
          "Black Tea Firming and De-Puffing Eye Cream",
          "Moisturizing Eye Bomb",
          "The Eye Balm Intense",
          "Benefiance WrinkleResist24 Pure Retinol Express Smoothing Eye Mask",
          "Eye Sleeping Mask",
          "Super Restorative Total Eye Concentrate",
          "The Lifting Eye Serum",
          "Eye Mask",
          "Advanced Génifique Eye Cream",
          "Ultimune Eye Power Infusing Eye Concentrate",
          "Water Bank Eye Gel",
          "Future Solution LX Eye and Lip Contour Regenerating Cream",
          "Cucumber De-Tox™ Hydra-Gel Eye Patches",
          "Rénergie Lift Multi-Action Eye",
          "MOISTURE BOUND Rejuvenating Eye Treatment Gel",
          "Puffy Under-Eye Patches",
          "Extra Eye Repair Cream",
          "Superfood Peptide Eye Cream",
          "Bio-Performance LiftDynamic Eye Treatment",
          "Retinol Youth Renewal Eye Serum",
          "Black Pine 3D Sculpting, Firming & Lifting Super Eye Serum",
          "Crème Ancienne Supreme Eye Serum",
          "Extra-Firming Eye Wrinkle Smoothing Cream",
          "Peat Miracle Revital Eye Cream",
          "Intensive Vitalizing Eye Essence",
          "Illuminating Bright Eyes Gels + Silky Mask Beauty Sleep Set",
          "TIME RESPONSE Eye Reserve Crème",
          "Hello Bright Eyes",
          "Multi-Task Eye Serum Mask",
          "Ibuki Eye Correcting Cream",
          "Bio Performance Glow Revival Eye Treatment",
          "Black Pine 3D Sculpting, Firming & Lifting Eye Cream",
          "Helix AM/PM Eye Gel",
          "Énergie de Vie The Illuminating & Anti-Fatigue Cooling Eye Gel",
          "Luminous Deep Hydration Revitalizing Eye Mask",
          "Enhancing Eye Lift Serum",
          "Essential Energy Eye Definer",
          "Bright Eyes Collagen-Infused Brightening Colloidal Silver Eye Masks",
          "Ultimate Revival Eye Cream",
          "Mission Perfection Eye Broad Spectrum SPF 15",
          "Ice-Cold Eye Cream",
          "Vitamin C Ester Brightening Eye Serum",
          "Lotus Caress to Moisturize Eyes",
          "Eye Mask - Grape - Smoothing",
          "Urban Environment Oil-Free UV Protector Broad Spectrum SPF 42 For Face",
          "Silken Pore Perfecting Sunscreen Broad Spectrum SPF 35 PA+++",
          "Ultimate Sun Protection Lotion WetForce SPF 50+",
          "Sunscreen Multi-Protection Broad Spectrum SPF 50",
          "Radiance Primer Broad Spectrum SPF 35 Sunscreen",
          "Ultimate Sun Protection Cream Broad Spectrum SPF 50+ Wetforce For Face",
          "MOISTURE BOUND Tinted Treatment Moisturizer SPF 15",
          "Renewed Hope In A Jar SPF 30",
          "High Potency Classics: Face Finishing & Firming Moisturizer Tint SPF 30",
          "FUTURE RESPONSE Age Defense Creme SPF 30",
          "Advanced Time Zone SPF 15- Normal/Combination Skin",
          "Multi-Active Day Cream SPF 20 - All Skin Types",
          "Bienfait Teinté Beauty Balm Sunscreen Broad Spectrum SPF 30",
          "Future Solution LX Total Protective Cream Broad Spectrum SPF 20 Sunscreen",
          "Sports BB Broad Spectrum SPF 50+ WetForce",
          "Super Multi-Corrective Cream Sunscreen Broad Spectrum SPF 30",
          "The Broad Spectrum SPF 50 UV Protecting Fluid",
          "Ultimate Sun Protection Lotion WetForce SPF 50+ Mini",
          "Wetforce Clear Stick UV Protector Broad Spectrum 50+",
          "Black Tea Age-Delay Lotion Broad Spectrum Sunscreen SPF 20",
          "CC Red Correct Automatic Perfector Broad Spectrum SPF 25",
          "Tarteguard 30 Vegan Sunscreen Lotion Broad Spectrum SPF 30",
          "Sugar Sport Treatment Sunscreen SPF 30",
          "Balancing Moisturizer Broad Spectrum SPF 15 PA++",
          "Resurgence® Age–Balancing Moisture Broad Spectrum SPF 30",
          "Repairing Tint & Radiance Moisturizer SPF 30",
          "Moisturizing Bomb Cushion Compact Broad Spectrum SPF 50",
          "DayWear UV Base Advanced Anti-Oxidant & UV Defense SPF 50",
          "Face Lotion SPF 30",
          "Classic Sport SPF 50 - Fresh Mango",
          "DayWear Multi-Protection Anti-Oxidant Sheer Tint Release Moisturizer Broad Spectrum SPF 15 - Normal/ Combination Skin",
          "Rènergie Lift Multi-Action Sunscreen Broad Spectrum SPF 15 For Dry Skin",
          "Face Protect SPF 50",
          "DayWear BB Anti-Oxidant Beauty Benefit Crème SPF 35",
          "Resort Collection Sun Protection Cushion SPF 30+",
          "Sunscreen Cream High Protection SPF 30",
          "Sun Oil 15 SPF",
          "Ultimate Miracle Worker Multi-Rejuvenating Lightweight Emulsion SPF 30",
          "Resort Collection Sun Protection Mist Broad Spectrum SPF 30 Sunscreen",
          "Primer Broad Spectrum Sunscreen SPF 25",
          "Sun Lotion 50 SPF",
          "Sun Lotion 30 SPF",
          "Future Solution LX Total Protective Emulsion Broad Spectrum SPF 20 Sunscreen",
          "After-Sun Milk Soothing Body Lotion",
          "Yoghurt Nourishing Fluid Veil Face Sunscreen Broad Spectrum SPF 30",
          "Daily Deflector™ Waterlight Broad Spectrum SPF 50+ PA+++ Anti-Aging Sunscreen",
          "Pro Light Self Tan Bronzing Mist",
          "No products found",
          "Treatment Cleansing Foam",
          "Charlotte's Magic Cream",
          "Charlotte's Magic Cream Mini",
          "A Perfect World™ SPF 40 Age-Defense Moisturizer with White Tea",
          "Plantscription™ SPF 25 Power Anti-Aging Cream",
          "Exfoliating Scrub",
          "GENIUS Liquid Collagen",
          "Plantscription™ SPF 25 Power Anti-Aging Oil-Free Cream",
          "Defense Refresh Setting Mist Broad Spectrum SPF 50",
          "Photo Finish Foundation Primer SPF 20",
          "The Broad Spectrum SPF 50 UV Protecting Fluid",
          "Ultimate Sun Protection Spray Broad Spectrum SPF 50+ For Face/Body",
          "Broad Spectrum SPF 50 Sunscreen Face Cream",
          "DayWear UV Base Advanced Anti-Oxidant & UV Defense SPF 50",
          "Resort Collection Sun Protection Mist Broad Spectrum SPF 30 Sunscreen",
          "Virtu-oil Body Mist Broad Spectrum SPF 30",
          "Sun Lotion 30 SPF",
          "Perfect Day 2-in-1 Everywear Lotion Broad Spectrum SPF 50 + Mint Condition Lip Shield SPF 30"
         ]
        }
       ],
       "layout": {
        "font": {
         "family": "Redaction"
        },
        "margin": {
         "b": 50,
         "l": 50,
         "r": 50,
         "t": 80
        },
        "template": {
         "data": {
          "bar": [
           {
            "error_x": {
             "color": "#f2f5fa"
            },
            "error_y": {
             "color": "#f2f5fa"
            },
            "marker": {
             "line": {
              "color": "rgb(17,17,17)",
              "width": 0.5
             },
             "pattern": {
              "fillmode": "overlay",
              "size": 10,
              "solidity": 0.2
             }
            },
            "type": "bar"
           }
          ],
          "barpolar": [
           {
            "marker": {
             "line": {
              "color": "rgb(17,17,17)",
              "width": 0.5
             },
             "pattern": {
              "fillmode": "overlay",
              "size": 10,
              "solidity": 0.2
             }
            },
            "type": "barpolar"
           }
          ],
          "carpet": [
           {
            "aaxis": {
             "endlinecolor": "#A2B1C6",
             "gridcolor": "#506784",
             "linecolor": "#506784",
             "minorgridcolor": "#506784",
             "startlinecolor": "#A2B1C6"
            },
            "baxis": {
             "endlinecolor": "#A2B1C6",
             "gridcolor": "#506784",
             "linecolor": "#506784",
             "minorgridcolor": "#506784",
             "startlinecolor": "#A2B1C6"
            },
            "type": "carpet"
           }
          ],
          "choropleth": [
           {
            "colorbar": {
             "outlinewidth": 0,
             "ticks": ""
            },
            "type": "choropleth"
           }
          ],
          "contour": [
           {
            "colorbar": {
             "outlinewidth": 0,
             "ticks": ""
            },
            "colorscale": [
             [
              0,
              "#0d0887"
             ],
             [
              0.1111111111111111,
              "#46039f"
             ],
             [
              0.2222222222222222,
              "#7201a8"
             ],
             [
              0.3333333333333333,
              "#9c179e"
             ],
             [
              0.4444444444444444,
              "#bd3786"
             ],
             [
              0.5555555555555556,
              "#d8576b"
             ],
             [
              0.6666666666666666,
              "#ed7953"
             ],
             [
              0.7777777777777778,
              "#fb9f3a"
             ],
             [
              0.8888888888888888,
              "#fdca26"
             ],
             [
              1,
              "#f0f921"
             ]
            ],
            "type": "contour"
           }
          ],
          "contourcarpet": [
           {
            "colorbar": {
             "outlinewidth": 0,
             "ticks": ""
            },
            "type": "contourcarpet"
           }
          ],
          "heatmap": [
           {
            "colorbar": {
             "outlinewidth": 0,
             "ticks": ""
            },
            "colorscale": [
             [
              0,
              "#0d0887"
             ],
             [
              0.1111111111111111,
              "#46039f"
             ],
             [
              0.2222222222222222,
              "#7201a8"
             ],
             [
              0.3333333333333333,
              "#9c179e"
             ],
             [
              0.4444444444444444,
              "#bd3786"
             ],
             [
              0.5555555555555556,
              "#d8576b"
             ],
             [
              0.6666666666666666,
              "#ed7953"
             ],
             [
              0.7777777777777778,
              "#fb9f3a"
             ],
             [
              0.8888888888888888,
              "#fdca26"
             ],
             [
              1,
              "#f0f921"
             ]
            ],
            "type": "heatmap"
           }
          ],
          "heatmapgl": [
           {
            "colorbar": {
             "outlinewidth": 0,
             "ticks": ""
            },
            "colorscale": [
             [
              0,
              "#0d0887"
             ],
             [
              0.1111111111111111,
              "#46039f"
             ],
             [
              0.2222222222222222,
              "#7201a8"
             ],
             [
              0.3333333333333333,
              "#9c179e"
             ],
             [
              0.4444444444444444,
              "#bd3786"
             ],
             [
              0.5555555555555556,
              "#d8576b"
             ],
             [
              0.6666666666666666,
              "#ed7953"
             ],
             [
              0.7777777777777778,
              "#fb9f3a"
             ],
             [
              0.8888888888888888,
              "#fdca26"
             ],
             [
              1,
              "#f0f921"
             ]
            ],
            "type": "heatmapgl"
           }
          ],
          "histogram": [
           {
            "marker": {
             "pattern": {
              "fillmode": "overlay",
              "size": 10,
              "solidity": 0.2
             }
            },
            "type": "histogram"
           }
          ],
          "histogram2d": [
           {
            "colorbar": {
             "outlinewidth": 0,
             "ticks": ""
            },
            "colorscale": [
             [
              0,
              "#0d0887"
             ],
             [
              0.1111111111111111,
              "#46039f"
             ],
             [
              0.2222222222222222,
              "#7201a8"
             ],
             [
              0.3333333333333333,
              "#9c179e"
             ],
             [
              0.4444444444444444,
              "#bd3786"
             ],
             [
              0.5555555555555556,
              "#d8576b"
             ],
             [
              0.6666666666666666,
              "#ed7953"
             ],
             [
              0.7777777777777778,
              "#fb9f3a"
             ],
             [
              0.8888888888888888,
              "#fdca26"
             ],
             [
              1,
              "#f0f921"
             ]
            ],
            "type": "histogram2d"
           }
          ],
          "histogram2dcontour": [
           {
            "colorbar": {
             "outlinewidth": 0,
             "ticks": ""
            },
            "colorscale": [
             [
              0,
              "#0d0887"
             ],
             [
              0.1111111111111111,
              "#46039f"
             ],
             [
              0.2222222222222222,
              "#7201a8"
             ],
             [
              0.3333333333333333,
              "#9c179e"
             ],
             [
              0.4444444444444444,
              "#bd3786"
             ],
             [
              0.5555555555555556,
              "#d8576b"
             ],
             [
              0.6666666666666666,
              "#ed7953"
             ],
             [
              0.7777777777777778,
              "#fb9f3a"
             ],
             [
              0.8888888888888888,
              "#fdca26"
             ],
             [
              1,
              "#f0f921"
             ]
            ],
            "type": "histogram2dcontour"
           }
          ],
          "mesh3d": [
           {
            "colorbar": {
             "outlinewidth": 0,
             "ticks": ""
            },
            "type": "mesh3d"
           }
          ],
          "parcoords": [
           {
            "line": {
             "colorbar": {
              "outlinewidth": 0,
              "ticks": ""
             }
            },
            "type": "parcoords"
           }
          ],
          "pie": [
           {
            "automargin": true,
            "type": "pie"
           }
          ],
          "scatter": [
           {
            "marker": {
             "line": {
              "color": "#283442"
             }
            },
            "type": "scatter"
           }
          ],
          "scatter3d": [
           {
            "line": {
             "colorbar": {
              "outlinewidth": 0,
              "ticks": ""
             }
            },
            "marker": {
             "colorbar": {
              "outlinewidth": 0,
              "ticks": ""
             }
            },
            "type": "scatter3d"
           }
          ],
          "scattercarpet": [
           {
            "marker": {
             "colorbar": {
              "outlinewidth": 0,
              "ticks": ""
             }
            },
            "type": "scattercarpet"
           }
          ],
          "scattergeo": [
           {
            "marker": {
             "colorbar": {
              "outlinewidth": 0,
              "ticks": ""
             }
            },
            "type": "scattergeo"
           }
          ],
          "scattergl": [
           {
            "marker": {
             "line": {
              "color": "#283442"
             }
            },
            "type": "scattergl"
           }
          ],
          "scattermapbox": [
           {
            "marker": {
             "colorbar": {
              "outlinewidth": 0,
              "ticks": ""
             }
            },
            "type": "scattermapbox"
           }
          ],
          "scatterpolar": [
           {
            "marker": {
             "colorbar": {
              "outlinewidth": 0,
              "ticks": ""
             }
            },
            "type": "scatterpolar"
           }
          ],
          "scatterpolargl": [
           {
            "marker": {
             "colorbar": {
              "outlinewidth": 0,
              "ticks": ""
             }
            },
            "type": "scatterpolargl"
           }
          ],
          "scatterternary": [
           {
            "marker": {
             "colorbar": {
              "outlinewidth": 0,
              "ticks": ""
             }
            },
            "type": "scatterternary"
           }
          ],
          "surface": [
           {
            "colorbar": {
             "outlinewidth": 0,
             "ticks": ""
            },
            "colorscale": [
             [
              0,
              "#0d0887"
             ],
             [
              0.1111111111111111,
              "#46039f"
             ],
             [
              0.2222222222222222,
              "#7201a8"
             ],
             [
              0.3333333333333333,
              "#9c179e"
             ],
             [
              0.4444444444444444,
              "#bd3786"
             ],
             [
              0.5555555555555556,
              "#d8576b"
             ],
             [
              0.6666666666666666,
              "#ed7953"
             ],
             [
              0.7777777777777778,
              "#fb9f3a"
             ],
             [
              0.8888888888888888,
              "#fdca26"
             ],
             [
              1,
              "#f0f921"
             ]
            ],
            "type": "surface"
           }
          ],
          "table": [
           {
            "cells": {
             "fill": {
              "color": "#506784"
             },
             "line": {
              "color": "rgb(17,17,17)"
             }
            },
            "header": {
             "fill": {
              "color": "#2a3f5f"
             },
             "line": {
              "color": "rgb(17,17,17)"
             }
            },
            "type": "table"
           }
          ]
         },
         "layout": {
          "annotationdefaults": {
           "arrowcolor": "#f2f5fa",
           "arrowhead": 0,
           "arrowwidth": 1
          },
          "autotypenumbers": "strict",
          "coloraxis": {
           "colorbar": {
            "outlinewidth": 0,
            "ticks": ""
           }
          },
          "colorscale": {
           "diverging": [
            [
             0,
             "#8e0152"
            ],
            [
             0.1,
             "#c51b7d"
            ],
            [
             0.2,
             "#de77ae"
            ],
            [
             0.3,
             "#f1b6da"
            ],
            [
             0.4,
             "#fde0ef"
            ],
            [
             0.5,
             "#f7f7f7"
            ],
            [
             0.6,
             "#e6f5d0"
            ],
            [
             0.7,
             "#b8e186"
            ],
            [
             0.8,
             "#7fbc41"
            ],
            [
             0.9,
             "#4d9221"
            ],
            [
             1,
             "#276419"
            ]
           ],
           "sequential": [
            [
             0,
             "#0d0887"
            ],
            [
             0.1111111111111111,
             "#46039f"
            ],
            [
             0.2222222222222222,
             "#7201a8"
            ],
            [
             0.3333333333333333,
             "#9c179e"
            ],
            [
             0.4444444444444444,
             "#bd3786"
            ],
            [
             0.5555555555555556,
             "#d8576b"
            ],
            [
             0.6666666666666666,
             "#ed7953"
            ],
            [
             0.7777777777777778,
             "#fb9f3a"
            ],
            [
             0.8888888888888888,
             "#fdca26"
            ],
            [
             1,
             "#f0f921"
            ]
           ],
           "sequentialminus": [
            [
             0,
             "#0d0887"
            ],
            [
             0.1111111111111111,
             "#46039f"
            ],
            [
             0.2222222222222222,
             "#7201a8"
            ],
            [
             0.3333333333333333,
             "#9c179e"
            ],
            [
             0.4444444444444444,
             "#bd3786"
            ],
            [
             0.5555555555555556,
             "#d8576b"
            ],
            [
             0.6666666666666666,
             "#ed7953"
            ],
            [
             0.7777777777777778,
             "#fb9f3a"
            ],
            [
             0.8888888888888888,
             "#fdca26"
            ],
            [
             1,
             "#f0f921"
            ]
           ]
          },
          "colorway": [
           "#636efa",
           "#EF553B",
           "#00cc96",
           "#ab63fa",
           "#FFA15A",
           "#19d3f3",
           "#FF6692",
           "#B6E880",
           "#FF97FF",
           "#FECB52"
          ],
          "font": {
           "color": "#f2f5fa"
          },
          "geo": {
           "bgcolor": "rgb(17,17,17)",
           "lakecolor": "rgb(17,17,17)",
           "landcolor": "rgb(17,17,17)",
           "showlakes": true,
           "showland": true,
           "subunitcolor": "#506784"
          },
          "hoverlabel": {
           "align": "left"
          },
          "hovermode": "closest",
          "mapbox": {
           "style": "dark"
          },
          "paper_bgcolor": "rgb(17,17,17)",
          "plot_bgcolor": "rgb(17,17,17)",
          "polar": {
           "angularaxis": {
            "gridcolor": "#506784",
            "linecolor": "#506784",
            "ticks": ""
           },
           "bgcolor": "rgb(17,17,17)",
           "radialaxis": {
            "gridcolor": "#506784",
            "linecolor": "#506784",
            "ticks": ""
           }
          },
          "scene": {
           "xaxis": {
            "backgroundcolor": "rgb(17,17,17)",
            "gridcolor": "#506784",
            "gridwidth": 2,
            "linecolor": "#506784",
            "showbackground": true,
            "ticks": "",
            "zerolinecolor": "#C8D4E3"
           },
           "yaxis": {
            "backgroundcolor": "rgb(17,17,17)",
            "gridcolor": "#506784",
            "gridwidth": 2,
            "linecolor": "#506784",
            "showbackground": true,
            "ticks": "",
            "zerolinecolor": "#C8D4E3"
           },
           "zaxis": {
            "backgroundcolor": "rgb(17,17,17)",
            "gridcolor": "#506784",
            "gridwidth": 2,
            "linecolor": "#506784",
            "showbackground": true,
            "ticks": "",
            "zerolinecolor": "#C8D4E3"
           }
          },
          "shapedefaults": {
           "line": {
            "color": "#f2f5fa"
           }
          },
          "sliderdefaults": {
           "bgcolor": "#C8D4E3",
           "bordercolor": "rgb(17,17,17)",
           "borderwidth": 1,
           "tickwidth": 0
          },
          "ternary": {
           "aaxis": {
            "gridcolor": "#506784",
            "linecolor": "#506784",
            "ticks": ""
           },
           "baxis": {
            "gridcolor": "#506784",
            "linecolor": "#506784",
            "ticks": ""
           },
           "bgcolor": "rgb(17,17,17)",
           "caxis": {
            "gridcolor": "#506784",
            "linecolor": "#506784",
            "ticks": ""
           }
          },
          "title": {
           "x": 0.05
          },
          "updatemenudefaults": {
           "bgcolor": "#506784",
           "borderwidth": 0
          },
          "xaxis": {
           "automargin": true,
           "gridcolor": "#283442",
           "linecolor": "#506784",
           "ticks": "",
           "title": {
            "standoff": 15
           },
           "zerolinecolor": "#283442",
           "zerolinewidth": 2
          },
          "yaxis": {
           "automargin": true,
           "gridcolor": "#283442",
           "linecolor": "#506784",
           "ticks": "",
           "title": {
            "standoff": 15
           },
           "zerolinecolor": "#283442",
           "zerolinewidth": 2
          }
         }
        },
        "title": {
         "text": "High Hazard Toxins & Products"
        },
        "xaxis": {
         "automargin": true,
         "tickangle": -45,
         "title": {
          "text": "Toxin"
         }
        },
        "yaxis": {
         "title": {
          "text": "Product"
         }
        }
       }
      }
     },
     "metadata": {},
     "output_type": "display_data"
    }
   ],
   "source": [
    "# low_df = df[df['Product'] != 'No products found']\n",
    "layout = go.Layout(\n",
    "    title='High Hazard Toxins & Products',\n",
    "    template='plotly_dark',\n",
    "    xaxis=dict(title='Toxin', tickangle=-45, automargin=True),\n",
    "    yaxis=dict(title='Product'),\n",
    "    font=dict(family=\"Redaction\"),\n",
    "    margin=dict(l=50, r=50, t=80, b=50)\n",
    ")\n",
    "\n",
    "data = [\n",
    "    go.Bar(\n",
    "        x=mod_df['Toxin'],\n",
    "        y=mod_df['Product'],\n",
    "        marker=dict(color='#ff0000')\n",
    "    )\n",
    "]\n",
    "\n",
    "fig = go.Figure(data=data, layout=layout)\n",
    "\n",
    "pio.show(fig)\n",
    "\n",
    "pio.write_html(fig, file='../reports/dynamic_visuals/high_hazard_bar.html', auto_open=False)"
   ]
  },
  {
   "cell_type": "markdown",
   "metadata": {},
   "source": [
    "### [Line Chart](https://plotly.com/python/line-charts/) of the variety of the categories in the df\n",
    "- Product Type\n",
    "- Skin Type\n",
    "- Brand"
   ]
  },
  {
   "cell_type": "markdown",
   "metadata": {},
   "source": [
    "## Does geographic regulations affect the number of toxins in the products?\n",
    "Use a map to pin the origin locations of the brands to the relative area and make the bubble as a key (smallest to largest) of how many toxic products they hold."
   ]
  },
  {
   "cell_type": "code",
   "execution_count": 142,
   "metadata": {},
   "outputs": [
    {
     "data": {
      "application/vnd.plotly.v1+json": {
       "config": {
        "plotlyServerURL": "https://plot.ly"
       },
       "data": [
        {
         "geo": "geo",
         "hovertemplate": "<b>%{hovertext}</b><br>Toxic Products: %{marker.size:,}<extra></extra>",
         "hovertext": [
          "Afghanistan",
          "Bahrain",
          "Bangladesh",
          "Cambodia",
          "China",
          "Hong Kong, China",
          "India",
          "Indonesia",
          "Iran",
          "Iraq",
          "Israel",
          "Japan",
          "Jordan",
          "Korea, Dem. Rep.",
          "Korea, Rep.",
          "Kuwait",
          "Lebanon",
          "Malaysia",
          "Mongolia",
          "Myanmar",
          "Nepal",
          "Oman",
          "Pakistan",
          "Philippines",
          "Saudi Arabia",
          "Singapore",
          "Sri Lanka",
          "Syria",
          "Taiwan",
          "Thailand",
          "Vietnam",
          "West Bank and Gaza",
          "Yemen, Rep."
         ],
         "legendgroup": "Asia",
         "locations": [
          "AFG",
          "BHR",
          "BGD",
          "KHM",
          "CHN",
          "HKG",
          "IND",
          "IDN",
          "IRN",
          "IRQ",
          "ISR",
          "JPN",
          "JOR",
          "KOR",
          "KOR",
          "KWT",
          "LBN",
          "MYS",
          "MNG",
          "MMR",
          "NPL",
          "OMN",
          "PAK",
          "PHL",
          "SAU",
          "SGP",
          "LKA",
          "SYR",
          "TWN",
          "THA",
          "VNM",
          "PSE",
          "YEM"
         ],
         "marker": {
          "color": "#636efa",
          "size": [
           31889923,
           708573,
           150448339,
           14131858,
           1318683096,
           6980412,
           1110396331,
           223547000,
           69453570,
           27499638,
           6426679,
           127467972,
           6053193,
           23301725,
           49044790,
           2505559,
           3921278,
           24821286,
           2874127,
           47761980,
           28901790,
           3204897,
           169270617,
           91077287,
           27601038,
           4553009,
           20378239,
           19314747,
           23174294,
           65068149,
           85262356,
           4018332,
           22211743
          ],
          "sizemode": "area",
          "sizeref": 3296707.74,
          "symbol": "circle"
         },
         "mode": "markers",
         "name": "Asia",
         "showlegend": true,
         "type": "scattergeo"
        },
        {
         "geo": "geo",
         "hovertemplate": "<b>%{hovertext}</b><br>Toxic Products: %{marker.size:,}<extra></extra>",
         "hovertext": [
          "Albania",
          "Austria",
          "Belgium",
          "Bosnia and Herzegovina",
          "Bulgaria",
          "Croatia",
          "Czech Republic",
          "Denmark",
          "Finland",
          "France",
          "Germany",
          "Greece",
          "Hungary",
          "Iceland",
          "Ireland",
          "Italy",
          "Montenegro",
          "Netherlands",
          "Norway",
          "Poland",
          "Portugal",
          "Romania",
          "Serbia",
          "Slovak Republic",
          "Slovenia",
          "Spain",
          "Sweden",
          "Switzerland",
          "Turkey",
          "United Kingdom"
         ],
         "legendgroup": "Europe",
         "locations": [
          "ALB",
          "AUT",
          "BEL",
          "BIH",
          "BGR",
          "HRV",
          "CZE",
          "DNK",
          "FIN",
          "FRA",
          "DEU",
          "GRC",
          "HUN",
          "ISL",
          "IRL",
          "ITA",
          "MNE",
          "NLD",
          "NOR",
          "POL",
          "PRT",
          "ROU",
          "SRB",
          "SVK",
          "SVN",
          "ESP",
          "SWE",
          "CHE",
          "TUR",
          "GBR"
         ],
         "marker": {
          "color": "#EF553B",
          "size": [
           3600523,
           8199783,
           10392226,
           4552198,
           7322858,
           4493312,
           10228744,
           5468120,
           5238460,
           61083916,
           82400996,
           10706290,
           9956108,
           301931,
           4109086,
           58147733,
           684736,
           16570613,
           4627926,
           38518241,
           10642836,
           22276056,
           10150265,
           5447502,
           2009245,
           40448191,
           9031088,
           7554661,
           71158647,
           60776238
          ],
          "sizemode": "area",
          "sizeref": 3296707.74,
          "symbol": "circle"
         },
         "mode": "markers",
         "name": "Europe",
         "showlegend": true,
         "type": "scattergeo"
        },
        {
         "geo": "geo",
         "hovertemplate": "<b>%{hovertext}</b><br>Toxic Products: %{marker.size:,}<extra></extra>",
         "hovertext": [
          "Algeria",
          "Angola",
          "Benin",
          "Botswana",
          "Burkina Faso",
          "Burundi",
          "Cameroon",
          "Central African Republic",
          "Chad",
          "Comoros",
          "Congo, Dem. Rep.",
          "Congo, Rep.",
          "Cote d'Ivoire",
          "Djibouti",
          "Egypt",
          "Equatorial Guinea",
          "Eritrea",
          "Ethiopia",
          "Gabon",
          "Gambia",
          "Ghana",
          "Guinea",
          "Guinea-Bissau",
          "Kenya",
          "Lesotho",
          "Liberia",
          "Libya",
          "Madagascar",
          "Malawi",
          "Mali",
          "Mauritania",
          "Mauritius",
          "Morocco",
          "Mozambique",
          "Namibia",
          "Niger",
          "Nigeria",
          "Reunion",
          "Rwanda",
          "Sao Tome and Principe",
          "Senegal",
          "Sierra Leone",
          "Somalia",
          "South Africa",
          "Sudan",
          "Swaziland",
          "Tanzania",
          "Togo",
          "Tunisia",
          "Uganda",
          "Zambia",
          "Zimbabwe"
         ],
         "legendgroup": "Africa",
         "locations": [
          "DZA",
          "AGO",
          "BEN",
          "BWA",
          "BFA",
          "BDI",
          "CMR",
          "CAF",
          "TCD",
          "COM",
          "COD",
          "COG",
          "CIV",
          "DJI",
          "EGY",
          "GNQ",
          "ERI",
          "ETH",
          "GAB",
          "GMB",
          "GHA",
          "GIN",
          "GNB",
          "KEN",
          "LSO",
          "LBR",
          "LBY",
          "MDG",
          "MWI",
          "MLI",
          "MRT",
          "MUS",
          "MAR",
          "MOZ",
          "NAM",
          "NER",
          "NGA",
          "REU",
          "RWA",
          "STP",
          "SEN",
          "SLE",
          "SOM",
          "ZAF",
          "SDN",
          "SWZ",
          "TZA",
          "TGO",
          "TUN",
          "UGA",
          "ZMB",
          "ZWE"
         ],
         "marker": {
          "color": "#00cc96",
          "size": [
           33333216,
           12420476,
           8078314,
           1639131,
           14326203,
           8390505,
           17696293,
           4369038,
           10238807,
           710960,
           64606759,
           3800610,
           18013409,
           496374,
           80264543,
           551201,
           4906585,
           76511887,
           1454867,
           1688359,
           22873338,
           9947814,
           1472041,
           35610177,
           2012649,
           3193942,
           6036914,
           19167654,
           13327079,
           12031795,
           3270065,
           1250882,
           33757175,
           19951656,
           2055080,
           12894865,
           135031164,
           798094,
           8860588,
           199579,
           12267493,
           6144562,
           9118773,
           43997828,
           42292929,
           1133066,
           38139640,
           5701579,
           10276158,
           29170398,
           11746035,
           12311143
          ],
          "sizemode": "area",
          "sizeref": 3296707.74,
          "symbol": "circle"
         },
         "mode": "markers",
         "name": "Africa",
         "showlegend": true,
         "type": "scattergeo"
        },
        {
         "geo": "geo",
         "hovertemplate": "<b>%{hovertext}</b><br>Toxic Products: %{marker.size:,}<extra></extra>",
         "hovertext": [
          "Argentina",
          "Bolivia",
          "Brazil",
          "Canada",
          "Chile",
          "Colombia",
          "Costa Rica",
          "Cuba",
          "Dominican Republic",
          "Ecuador",
          "El Salvador",
          "Guatemala",
          "Haiti",
          "Honduras",
          "Jamaica",
          "Mexico",
          "Nicaragua",
          "Panama",
          "Paraguay",
          "Peru",
          "Puerto Rico",
          "Trinidad and Tobago",
          "United States",
          "Uruguay",
          "Venezuela"
         ],
         "legendgroup": "Americas",
         "locations": [
          "ARG",
          "BOL",
          "BRA",
          "CAN",
          "CHL",
          "COL",
          "CRI",
          "CUB",
          "DOM",
          "ECU",
          "SLV",
          "GTM",
          "HTI",
          "HND",
          "JAM",
          "MEX",
          "NIC",
          "PAN",
          "PRY",
          "PER",
          "PRI",
          "TTO",
          "USA",
          "URY",
          "VEN"
         ],
         "marker": {
          "color": "#ab63fa",
          "size": [
           40301927,
           9119152,
           190010647,
           33390141,
           16284741,
           44227550,
           4133884,
           11416987,
           9319622,
           13755680,
           6939688,
           12572928,
           8502814,
           7483763,
           2780132,
           108700891,
           5675356,
           3242173,
           6667147,
           28674757,
           3942491,
           1056608,
           301139947,
           3447496,
           26084662
          ],
          "sizemode": "area",
          "sizeref": 3296707.74,
          "symbol": "circle"
         },
         "mode": "markers",
         "name": "Americas",
         "showlegend": true,
         "type": "scattergeo"
        },
        {
         "geo": "geo",
         "hovertemplate": "<b>%{hovertext}</b><br>Toxic Products: %{marker.size:,}<extra></extra>",
         "hovertext": [
          "Australia",
          "New Zealand"
         ],
         "legendgroup": "Oceania",
         "locations": [
          "AUS",
          "NZL"
         ],
         "marker": {
          "color": "#FFA15A",
          "size": [
           20434176,
           4115771
          ],
          "sizemode": "area",
          "sizeref": 3296707.74,
          "symbol": "circle"
         },
         "mode": "markers",
         "name": "Oceania",
         "showlegend": true,
         "type": "scattergeo"
        }
       ],
       "layout": {
        "font": {
         "family": "Redaction"
        },
        "geo": {
         "bgcolor": "black",
         "center": {},
         "domain": {
          "x": [
           0,
           1
          ],
          "y": [
           0,
           1
          ]
         },
         "landcolor": "white",
         "oceancolor": "white",
         "projection": {
          "type": "natural earth"
         },
         "showcoastlines": false,
         "showframe": false
        },
        "legend": {
         "itemsizing": "constant",
         "title": {
          "text": "continent"
         },
         "tracegroupgap": 0
        },
        "margin": {
         "t": 60
        },
        "paper_bgcolor": "black",
        "plot_bgcolor": "black",
        "template": {
         "data": {
          "bar": [
           {
            "error_x": {
             "color": "#f2f5fa"
            },
            "error_y": {
             "color": "#f2f5fa"
            },
            "marker": {
             "line": {
              "color": "rgb(17,17,17)",
              "width": 0.5
             },
             "pattern": {
              "fillmode": "overlay",
              "size": 10,
              "solidity": 0.2
             }
            },
            "type": "bar"
           }
          ],
          "barpolar": [
           {
            "marker": {
             "line": {
              "color": "rgb(17,17,17)",
              "width": 0.5
             },
             "pattern": {
              "fillmode": "overlay",
              "size": 10,
              "solidity": 0.2
             }
            },
            "type": "barpolar"
           }
          ],
          "carpet": [
           {
            "aaxis": {
             "endlinecolor": "#A2B1C6",
             "gridcolor": "#506784",
             "linecolor": "#506784",
             "minorgridcolor": "#506784",
             "startlinecolor": "#A2B1C6"
            },
            "baxis": {
             "endlinecolor": "#A2B1C6",
             "gridcolor": "#506784",
             "linecolor": "#506784",
             "minorgridcolor": "#506784",
             "startlinecolor": "#A2B1C6"
            },
            "type": "carpet"
           }
          ],
          "choropleth": [
           {
            "colorbar": {
             "outlinewidth": 0,
             "ticks": ""
            },
            "type": "choropleth"
           }
          ],
          "contour": [
           {
            "colorbar": {
             "outlinewidth": 0,
             "ticks": ""
            },
            "colorscale": [
             [
              0,
              "#0d0887"
             ],
             [
              0.1111111111111111,
              "#46039f"
             ],
             [
              0.2222222222222222,
              "#7201a8"
             ],
             [
              0.3333333333333333,
              "#9c179e"
             ],
             [
              0.4444444444444444,
              "#bd3786"
             ],
             [
              0.5555555555555556,
              "#d8576b"
             ],
             [
              0.6666666666666666,
              "#ed7953"
             ],
             [
              0.7777777777777778,
              "#fb9f3a"
             ],
             [
              0.8888888888888888,
              "#fdca26"
             ],
             [
              1,
              "#f0f921"
             ]
            ],
            "type": "contour"
           }
          ],
          "contourcarpet": [
           {
            "colorbar": {
             "outlinewidth": 0,
             "ticks": ""
            },
            "type": "contourcarpet"
           }
          ],
          "heatmap": [
           {
            "colorbar": {
             "outlinewidth": 0,
             "ticks": ""
            },
            "colorscale": [
             [
              0,
              "#0d0887"
             ],
             [
              0.1111111111111111,
              "#46039f"
             ],
             [
              0.2222222222222222,
              "#7201a8"
             ],
             [
              0.3333333333333333,
              "#9c179e"
             ],
             [
              0.4444444444444444,
              "#bd3786"
             ],
             [
              0.5555555555555556,
              "#d8576b"
             ],
             [
              0.6666666666666666,
              "#ed7953"
             ],
             [
              0.7777777777777778,
              "#fb9f3a"
             ],
             [
              0.8888888888888888,
              "#fdca26"
             ],
             [
              1,
              "#f0f921"
             ]
            ],
            "type": "heatmap"
           }
          ],
          "heatmapgl": [
           {
            "colorbar": {
             "outlinewidth": 0,
             "ticks": ""
            },
            "colorscale": [
             [
              0,
              "#0d0887"
             ],
             [
              0.1111111111111111,
              "#46039f"
             ],
             [
              0.2222222222222222,
              "#7201a8"
             ],
             [
              0.3333333333333333,
              "#9c179e"
             ],
             [
              0.4444444444444444,
              "#bd3786"
             ],
             [
              0.5555555555555556,
              "#d8576b"
             ],
             [
              0.6666666666666666,
              "#ed7953"
             ],
             [
              0.7777777777777778,
              "#fb9f3a"
             ],
             [
              0.8888888888888888,
              "#fdca26"
             ],
             [
              1,
              "#f0f921"
             ]
            ],
            "type": "heatmapgl"
           }
          ],
          "histogram": [
           {
            "marker": {
             "pattern": {
              "fillmode": "overlay",
              "size": 10,
              "solidity": 0.2
             }
            },
            "type": "histogram"
           }
          ],
          "histogram2d": [
           {
            "colorbar": {
             "outlinewidth": 0,
             "ticks": ""
            },
            "colorscale": [
             [
              0,
              "#0d0887"
             ],
             [
              0.1111111111111111,
              "#46039f"
             ],
             [
              0.2222222222222222,
              "#7201a8"
             ],
             [
              0.3333333333333333,
              "#9c179e"
             ],
             [
              0.4444444444444444,
              "#bd3786"
             ],
             [
              0.5555555555555556,
              "#d8576b"
             ],
             [
              0.6666666666666666,
              "#ed7953"
             ],
             [
              0.7777777777777778,
              "#fb9f3a"
             ],
             [
              0.8888888888888888,
              "#fdca26"
             ],
             [
              1,
              "#f0f921"
             ]
            ],
            "type": "histogram2d"
           }
          ],
          "histogram2dcontour": [
           {
            "colorbar": {
             "outlinewidth": 0,
             "ticks": ""
            },
            "colorscale": [
             [
              0,
              "#0d0887"
             ],
             [
              0.1111111111111111,
              "#46039f"
             ],
             [
              0.2222222222222222,
              "#7201a8"
             ],
             [
              0.3333333333333333,
              "#9c179e"
             ],
             [
              0.4444444444444444,
              "#bd3786"
             ],
             [
              0.5555555555555556,
              "#d8576b"
             ],
             [
              0.6666666666666666,
              "#ed7953"
             ],
             [
              0.7777777777777778,
              "#fb9f3a"
             ],
             [
              0.8888888888888888,
              "#fdca26"
             ],
             [
              1,
              "#f0f921"
             ]
            ],
            "type": "histogram2dcontour"
           }
          ],
          "mesh3d": [
           {
            "colorbar": {
             "outlinewidth": 0,
             "ticks": ""
            },
            "type": "mesh3d"
           }
          ],
          "parcoords": [
           {
            "line": {
             "colorbar": {
              "outlinewidth": 0,
              "ticks": ""
             }
            },
            "type": "parcoords"
           }
          ],
          "pie": [
           {
            "automargin": true,
            "type": "pie"
           }
          ],
          "scatter": [
           {
            "marker": {
             "line": {
              "color": "#283442"
             }
            },
            "type": "scatter"
           }
          ],
          "scatter3d": [
           {
            "line": {
             "colorbar": {
              "outlinewidth": 0,
              "ticks": ""
             }
            },
            "marker": {
             "colorbar": {
              "outlinewidth": 0,
              "ticks": ""
             }
            },
            "type": "scatter3d"
           }
          ],
          "scattercarpet": [
           {
            "marker": {
             "colorbar": {
              "outlinewidth": 0,
              "ticks": ""
             }
            },
            "type": "scattercarpet"
           }
          ],
          "scattergeo": [
           {
            "marker": {
             "colorbar": {
              "outlinewidth": 0,
              "ticks": ""
             }
            },
            "type": "scattergeo"
           }
          ],
          "scattergl": [
           {
            "marker": {
             "line": {
              "color": "#283442"
             }
            },
            "type": "scattergl"
           }
          ],
          "scattermapbox": [
           {
            "marker": {
             "colorbar": {
              "outlinewidth": 0,
              "ticks": ""
             }
            },
            "type": "scattermapbox"
           }
          ],
          "scatterpolar": [
           {
            "marker": {
             "colorbar": {
              "outlinewidth": 0,
              "ticks": ""
             }
            },
            "type": "scatterpolar"
           }
          ],
          "scatterpolargl": [
           {
            "marker": {
             "colorbar": {
              "outlinewidth": 0,
              "ticks": ""
             }
            },
            "type": "scatterpolargl"
           }
          ],
          "scatterternary": [
           {
            "marker": {
             "colorbar": {
              "outlinewidth": 0,
              "ticks": ""
             }
            },
            "type": "scatterternary"
           }
          ],
          "surface": [
           {
            "colorbar": {
             "outlinewidth": 0,
             "ticks": ""
            },
            "colorscale": [
             [
              0,
              "#0d0887"
             ],
             [
              0.1111111111111111,
              "#46039f"
             ],
             [
              0.2222222222222222,
              "#7201a8"
             ],
             [
              0.3333333333333333,
              "#9c179e"
             ],
             [
              0.4444444444444444,
              "#bd3786"
             ],
             [
              0.5555555555555556,
              "#d8576b"
             ],
             [
              0.6666666666666666,
              "#ed7953"
             ],
             [
              0.7777777777777778,
              "#fb9f3a"
             ],
             [
              0.8888888888888888,
              "#fdca26"
             ],
             [
              1,
              "#f0f921"
             ]
            ],
            "type": "surface"
           }
          ],
          "table": [
           {
            "cells": {
             "fill": {
              "color": "#506784"
             },
             "line": {
              "color": "rgb(17,17,17)"
             }
            },
            "header": {
             "fill": {
              "color": "#2a3f5f"
             },
             "line": {
              "color": "rgb(17,17,17)"
             }
            },
            "type": "table"
           }
          ]
         },
         "layout": {
          "annotationdefaults": {
           "arrowcolor": "#f2f5fa",
           "arrowhead": 0,
           "arrowwidth": 1
          },
          "autotypenumbers": "strict",
          "coloraxis": {
           "colorbar": {
            "outlinewidth": 0,
            "ticks": ""
           }
          },
          "colorscale": {
           "diverging": [
            [
             0,
             "#8e0152"
            ],
            [
             0.1,
             "#c51b7d"
            ],
            [
             0.2,
             "#de77ae"
            ],
            [
             0.3,
             "#f1b6da"
            ],
            [
             0.4,
             "#fde0ef"
            ],
            [
             0.5,
             "#f7f7f7"
            ],
            [
             0.6,
             "#e6f5d0"
            ],
            [
             0.7,
             "#b8e186"
            ],
            [
             0.8,
             "#7fbc41"
            ],
            [
             0.9,
             "#4d9221"
            ],
            [
             1,
             "#276419"
            ]
           ],
           "sequential": [
            [
             0,
             "#0d0887"
            ],
            [
             0.1111111111111111,
             "#46039f"
            ],
            [
             0.2222222222222222,
             "#7201a8"
            ],
            [
             0.3333333333333333,
             "#9c179e"
            ],
            [
             0.4444444444444444,
             "#bd3786"
            ],
            [
             0.5555555555555556,
             "#d8576b"
            ],
            [
             0.6666666666666666,
             "#ed7953"
            ],
            [
             0.7777777777777778,
             "#fb9f3a"
            ],
            [
             0.8888888888888888,
             "#fdca26"
            ],
            [
             1,
             "#f0f921"
            ]
           ],
           "sequentialminus": [
            [
             0,
             "#0d0887"
            ],
            [
             0.1111111111111111,
             "#46039f"
            ],
            [
             0.2222222222222222,
             "#7201a8"
            ],
            [
             0.3333333333333333,
             "#9c179e"
            ],
            [
             0.4444444444444444,
             "#bd3786"
            ],
            [
             0.5555555555555556,
             "#d8576b"
            ],
            [
             0.6666666666666666,
             "#ed7953"
            ],
            [
             0.7777777777777778,
             "#fb9f3a"
            ],
            [
             0.8888888888888888,
             "#fdca26"
            ],
            [
             1,
             "#f0f921"
            ]
           ]
          },
          "colorway": [
           "#636efa",
           "#EF553B",
           "#00cc96",
           "#ab63fa",
           "#FFA15A",
           "#19d3f3",
           "#FF6692",
           "#B6E880",
           "#FF97FF",
           "#FECB52"
          ],
          "font": {
           "color": "#f2f5fa"
          },
          "geo": {
           "bgcolor": "rgb(17,17,17)",
           "lakecolor": "rgb(17,17,17)",
           "landcolor": "rgb(17,17,17)",
           "showlakes": true,
           "showland": true,
           "subunitcolor": "#506784"
          },
          "hoverlabel": {
           "align": "left"
          },
          "hovermode": "closest",
          "mapbox": {
           "style": "dark"
          },
          "paper_bgcolor": "rgb(17,17,17)",
          "plot_bgcolor": "rgb(17,17,17)",
          "polar": {
           "angularaxis": {
            "gridcolor": "#506784",
            "linecolor": "#506784",
            "ticks": ""
           },
           "bgcolor": "rgb(17,17,17)",
           "radialaxis": {
            "gridcolor": "#506784",
            "linecolor": "#506784",
            "ticks": ""
           }
          },
          "scene": {
           "xaxis": {
            "backgroundcolor": "rgb(17,17,17)",
            "gridcolor": "#506784",
            "gridwidth": 2,
            "linecolor": "#506784",
            "showbackground": true,
            "ticks": "",
            "zerolinecolor": "#C8D4E3"
           },
           "yaxis": {
            "backgroundcolor": "rgb(17,17,17)",
            "gridcolor": "#506784",
            "gridwidth": 2,
            "linecolor": "#506784",
            "showbackground": true,
            "ticks": "",
            "zerolinecolor": "#C8D4E3"
           },
           "zaxis": {
            "backgroundcolor": "rgb(17,17,17)",
            "gridcolor": "#506784",
            "gridwidth": 2,
            "linecolor": "#506784",
            "showbackground": true,
            "ticks": "",
            "zerolinecolor": "#C8D4E3"
           }
          },
          "shapedefaults": {
           "line": {
            "color": "#f2f5fa"
           }
          },
          "sliderdefaults": {
           "bgcolor": "#C8D4E3",
           "bordercolor": "rgb(17,17,17)",
           "borderwidth": 1,
           "tickwidth": 0
          },
          "ternary": {
           "aaxis": {
            "gridcolor": "#506784",
            "linecolor": "#506784",
            "ticks": ""
           },
           "baxis": {
            "gridcolor": "#506784",
            "linecolor": "#506784",
            "ticks": ""
           },
           "bgcolor": "rgb(17,17,17)",
           "caxis": {
            "gridcolor": "#506784",
            "linecolor": "#506784",
            "ticks": ""
           }
          },
          "title": {
           "x": 0.05
          },
          "updatemenudefaults": {
           "bgcolor": "#506784",
           "borderwidth": 0
          },
          "xaxis": {
           "automargin": true,
           "gridcolor": "#283442",
           "linecolor": "#506784",
           "ticks": "",
           "title": {
            "standoff": 15
           },
           "zerolinecolor": "#283442",
           "zerolinewidth": 2
          },
          "yaxis": {
           "automargin": true,
           "gridcolor": "#283442",
           "linecolor": "#506784",
           "ticks": "",
           "title": {
            "standoff": 15
           },
           "zerolinecolor": "#283442",
           "zerolinewidth": 2
          }
         }
        },
        "title": {
         "text": "Toxin Levels by Geographic Region"
        }
       }
      }
     },
     "metadata": {},
     "output_type": "display_data"
    }
   ],
   "source": [
    "import plotly.express as px\n",
    "\n",
    "# Filter the data to get the desired year\n",
    "df = px.data.gapminder().query(\"year==2007\")\n",
    "\n",
    "# Create a custom color scale using grayscale values\n",
    "color_scale = px.colors.sequential.Greys[::-1]  # Reverse the grayscale color scale\n",
    "\n",
    "# Create the bubble map\n",
    "fig = px.scatter_geo(df, locations=\"iso_alpha\", color=\"continent\",\n",
    "                     hover_name=\"country\", size=\"pop\",\n",
    "                     projection=\"natural earth\",\n",
    "                     color_continuous_scale=color_scale)\n",
    "\n",
    "fig.update_traces(hovertemplate=\"<b>%{hovertext}</b><br>Toxic Products: %{marker.size:,}<extra></extra>\")\n",
    "\n",
    "# Customize the figure layout\n",
    "fig.update_layout(\n",
    "    title=\"Toxin Levels by Geographic Region\",\n",
    "    template=\"plotly_dark\",\n",
    "    font=dict(family=\"Redaction\"),\n",
    "    plot_bgcolor=\"black\",\n",
    "    paper_bgcolor=\"black\",\n",
    "    geo=dict(\n",
    "        bgcolor=\"black\",\n",
    "        showframe=False,\n",
    "        showcoastlines=False,\n",
    "        landcolor=\"white\",\n",
    "        oceancolor=\"white\",\n",
    "    )\n",
    ")\n",
    "\n",
    "# Display the plot\n",
    "fig.show()\n"
   ]
  },
  {
   "cell_type": "markdown",
   "metadata": {},
   "source": [
    "## Brand Rating vs. the Number of Toxins\n",
    "Map the best brand rating overall with the number of toxins they carry"
   ]
  }
 ],
 "metadata": {
  "kernelspec": {
   "display_name": "Python 3.11.1 64-bit",
   "language": "python",
   "name": "python3"
  },
  "language_info": {
   "codemirror_mode": {
    "name": "ipython",
    "version": 3
   },
   "file_extension": ".py",
   "mimetype": "text/x-python",
   "name": "python",
   "nbconvert_exporter": "python",
   "pygments_lexer": "ipython3",
   "version": "3.11.1"
  },
  "orig_nbformat": 4,
  "vscode": {
   "interpreter": {
    "hash": "aee8b7b246df8f9039afb4144a1f6fd8d2ca17a180786b69acc140d282b71a49"
   }
  }
 },
 "nbformat": 4,
 "nbformat_minor": 2
}
