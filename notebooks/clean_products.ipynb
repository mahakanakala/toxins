{
 "cells": [
  {
   "cell_type": "markdown",
   "id": "e459add2",
   "metadata": {},
   "source": [
    "# Cleaning the Dataset for ML Algorithm\n",
    "#### This Notebook will delete all the products with the toxins and create a new dataset used for the machine learning algorithm"
   ]
  },
  {
   "cell_type": "code",
   "execution_count": 14,
   "metadata": {},
   "outputs": [
    {
     "name": "stderr",
     "output_type": "stream",
     "text": [
      "UsageError: Line magic function `%%` not found.\n"
     ]
    }
   ],
   "source": [
    "import pandas as pd\n",
    "import numpy as np\n",
    "import seaborn as sns\n",
    "import matplotlib.pyplot as plt\n",
    "import scipy as sp\n",
    "%% capture cap"
   ]
  },
  {
   "cell_type": "code",
   "execution_count": 2,
   "id": "46058bc5",
   "metadata": {},
   "outputs": [
    {
     "data": {
      "text/html": [
       "<div>\n",
       "<style scoped>\n",
       "    .dataframe tbody tr th:only-of-type {\n",
       "        vertical-align: middle;\n",
       "    }\n",
       "\n",
       "    .dataframe tbody tr th {\n",
       "        vertical-align: top;\n",
       "    }\n",
       "\n",
       "    .dataframe thead th {\n",
       "        text-align: right;\n",
       "    }\n",
       "</style>\n",
       "<table border=\"1\" class=\"dataframe\">\n",
       "  <thead>\n",
       "    <tr style=\"text-align: right;\">\n",
       "      <th></th>\n",
       "      <th>Label</th>\n",
       "      <th>Brand</th>\n",
       "      <th>Name</th>\n",
       "      <th>Price</th>\n",
       "      <th>Rank</th>\n",
       "      <th>Ingredients</th>\n",
       "      <th>Combination</th>\n",
       "      <th>Dry</th>\n",
       "      <th>Normal</th>\n",
       "      <th>Oily</th>\n",
       "      <th>Sensitive</th>\n",
       "    </tr>\n",
       "  </thead>\n",
       "  <tbody>\n",
       "    <tr>\n",
       "      <th>0</th>\n",
       "      <td>Moisturizer</td>\n",
       "      <td>LA MER</td>\n",
       "      <td>Crème de la Mer</td>\n",
       "      <td>175</td>\n",
       "      <td>4.1</td>\n",
       "      <td>Algae (Seaweed) Extract, Mineral Oil, Petrolat...</td>\n",
       "      <td>1</td>\n",
       "      <td>1</td>\n",
       "      <td>1</td>\n",
       "      <td>1</td>\n",
       "      <td>1</td>\n",
       "    </tr>\n",
       "    <tr>\n",
       "      <th>1</th>\n",
       "      <td>Moisturizer</td>\n",
       "      <td>SK-II</td>\n",
       "      <td>Facial Treatment Essence</td>\n",
       "      <td>179</td>\n",
       "      <td>4.1</td>\n",
       "      <td>Galactomyces Ferment Filtrate (Pitera), Butyle...</td>\n",
       "      <td>1</td>\n",
       "      <td>1</td>\n",
       "      <td>1</td>\n",
       "      <td>1</td>\n",
       "      <td>1</td>\n",
       "    </tr>\n",
       "    <tr>\n",
       "      <th>2</th>\n",
       "      <td>Moisturizer</td>\n",
       "      <td>DRUNK ELEPHANT</td>\n",
       "      <td>Protini™ Polypeptide Cream</td>\n",
       "      <td>68</td>\n",
       "      <td>4.4</td>\n",
       "      <td>Water, Dicaprylyl Carbonate, Glycerin, Ceteary...</td>\n",
       "      <td>1</td>\n",
       "      <td>1</td>\n",
       "      <td>1</td>\n",
       "      <td>1</td>\n",
       "      <td>0</td>\n",
       "    </tr>\n",
       "    <tr>\n",
       "      <th>3</th>\n",
       "      <td>Moisturizer</td>\n",
       "      <td>LA MER</td>\n",
       "      <td>The Moisturizing Soft Cream</td>\n",
       "      <td>175</td>\n",
       "      <td>3.8</td>\n",
       "      <td>Algae (Seaweed) Extract, Cyclopentasiloxane, P...</td>\n",
       "      <td>1</td>\n",
       "      <td>1</td>\n",
       "      <td>1</td>\n",
       "      <td>1</td>\n",
       "      <td>1</td>\n",
       "    </tr>\n",
       "    <tr>\n",
       "      <th>4</th>\n",
       "      <td>Moisturizer</td>\n",
       "      <td>IT COSMETICS</td>\n",
       "      <td>Your Skin But Better™ CC+™ Cream with SPF 50+</td>\n",
       "      <td>38</td>\n",
       "      <td>4.1</td>\n",
       "      <td>Water, Snail Secretion Filtrate, Phenyl Trimet...</td>\n",
       "      <td>1</td>\n",
       "      <td>1</td>\n",
       "      <td>1</td>\n",
       "      <td>1</td>\n",
       "      <td>1</td>\n",
       "    </tr>\n",
       "  </tbody>\n",
       "</table>\n",
       "</div>"
      ],
      "text/plain": [
       "         Label           Brand                                           Name  \\\n",
       "0  Moisturizer          LA MER                                Crème de la Mer   \n",
       "1  Moisturizer           SK-II                       Facial Treatment Essence   \n",
       "2  Moisturizer  DRUNK ELEPHANT                     Protini™ Polypeptide Cream   \n",
       "3  Moisturizer          LA MER                    The Moisturizing Soft Cream   \n",
       "4  Moisturizer    IT COSMETICS  Your Skin But Better™ CC+™ Cream with SPF 50+   \n",
       "\n",
       "   Price  Rank                                        Ingredients  \\\n",
       "0    175   4.1  Algae (Seaweed) Extract, Mineral Oil, Petrolat...   \n",
       "1    179   4.1  Galactomyces Ferment Filtrate (Pitera), Butyle...   \n",
       "2     68   4.4  Water, Dicaprylyl Carbonate, Glycerin, Ceteary...   \n",
       "3    175   3.8  Algae (Seaweed) Extract, Cyclopentasiloxane, P...   \n",
       "4     38   4.1  Water, Snail Secretion Filtrate, Phenyl Trimet...   \n",
       "\n",
       "   Combination  Dry  Normal  Oily  Sensitive  \n",
       "0            1    1       1     1          1  \n",
       "1            1    1       1     1          1  \n",
       "2            1    1       1     1          0  \n",
       "3            1    1       1     1          1  \n",
       "4            1    1       1     1          1  "
      ]
     },
     "execution_count": 2,
     "metadata": {},
     "output_type": "execute_result"
    }
   ],
   "source": [
    "df = pd.read_csv('../data/raw/cosmetics.csv')\n",
    "df.head(5)\n",
    "\n"
   ]
  },
  {
   "cell_type": "markdown",
   "id": "70f5f309",
   "metadata": {},
   "source": [
    "### Make a list of all of the toxins"
   ]
  },
  {
   "cell_type": "code",
   "execution_count": 3,
   "id": "63201ec5",
   "metadata": {},
   "outputs": [],
   "source": [
    "ingredents_list = df['Ingredients'].tolist()\n",
    "\n",
    "# print(ingredents_list)\n"
   ]
  },
  {
   "cell_type": "code",
   "execution_count": 4,
   "id": "efcd9c2c",
   "metadata": {},
   "outputs": [],
   "source": [
    "ethanolamine_occ = df[df['Ingredients'].str.contains('Ethanolamine')]\n",
    "oxybenzone_occ = df[df['Ingredients'].str.contains(\"Oxybenzone\")]\n",
    "resorcinol_occ = df[df['Ingredients'].str.contains(\"Resorcinol\")] \n",
    "formaldehyde_occ = df[df['Ingredients'].str.contains(\"Formaldehyde\")] \n",
    "diethanolamine_occ = df[df['Ingredients'].str.contains(\"Diethanol\")] \n",
    "silanes_occ = df[df['Ingredients'].str.contains(\"Silane\")] \n",
    "siloxanes_occ = df[df['Ingredients'].str.contains(\"Siloxane\")] \n",
    "octinaxate_occ = df[df['Ingredients'].str.contains(\"Octinaxate\")] \n",
    "\n",
    "parfum_occ = df[df['Ingredients'].str.contains(\"Parfum\")] \n",
    "fragrance_occ = df[df['Ingredients'].str.contains(\"Fragrance\")] \n",
    "triclosan_occ = df[df['Ingredients'].str.contains(\"triclosan\")] \n",
    "octinoxates_occ = df[df['Ingredients'].str.contains(\"Octinaxate\")] \n",
    "homosalate_occ = df[df['Ingredients'].str.contains(\"homosalate\")] \n",
    "teflon_occ = df[df['Ingredients'].str.contains(\"teflon\")] \n",
    "\n",
    "talc_occ = df[df['Ingredients'].str.contains(\"Talc\")]\n",
    "parabens_occ = df[df['Ingredients'].str.contains(\"Parabens\")] \n",
    "glycol_occ = df[df['Ingredients'].str.contains(\"Polyethylene Glycol\")] \n",
    "\n",
    "\n",
    "\n",
    "# print(var_names)\n"
   ]
  },
  {
   "cell_type": "code",
   "execution_count": null,
   "id": "5906af08",
   "metadata": {},
   "outputs": [],
   "source": []
  },
  {
   "cell_type": "markdown",
   "id": "43ec045e",
   "metadata": {},
   "source": [
    "### Make a loop that will run the same function on other toxins\n",
    "#### Store the toxins in a list\n",
    "- master list\n",
    "- hazard levels\n",
    "    - low\n",
    "    - moderate\n",
    "    - high\n",
    "#### Use a loop to print the produucts that contains the toxins"
   ]
  },
  {
   "cell_type": "code",
   "execution_count": 15,
   "id": "33861591",
   "metadata": {},
   "outputs": [
    {
     "name": "stdout",
     "output_type": "stream",
     "text": [
      "Int64Index([  66,  120,  158,  196,  214,  215,  226,  245,  344,  442,  730,\n",
      "             753,  810,  887,  895,  921, 1064, 1197, 1252, 1290, 1309, 1326,\n",
      "            1327, 1340, 1342, 1365, 1376, 1416, 1454],\n",
      "           dtype='int64')\n",
      "66      CC Crème High Definition Radiance Face Cream S...\n",
      "120        Bio-Performance Advanced Super Restoring Cream\n",
      "158      Skin Perfecting Lotion - Blemish Prone/Oily Skin\n",
      "196                    Bio-Performance Glow Revival Cream\n",
      "214                                   BB Crème au Ginseng\n",
      "215                      Black Label Detox BB Beauty Balm\n",
      "226                     Bio-Performance LiftDynamic Cream\n",
      "245                            Ibuki Beauty Sleeping Mask\n",
      "344                Benefiance Extra Creamy Cleansing Foam\n",
      "442                          Pureness Deep Cleansing Foam\n",
      "730           Therapeutic Sulfur Mask Acne Treatment Mask\n",
      "753                     Bio-Performance LiftDynamic Serum\n",
      "810            REVEAL Concentrated Color Correcting Drops\n",
      "887                                             Clay Mask\n",
      "895                                       Crazy for Clay!\n",
      "921     Charcoal Pore Pudding Intensive Wash-Off Treat...\n",
      "1064                                        Peel-off Mask\n",
      "1197                           Ibuki Eye Correcting Cream\n",
      "1252                         Essential Energy Eye Definer\n",
      "1290                BB Eye Cream with Soothing Cornflower\n",
      "1309      Ultimate Sun Protection Lotion WetForce SPF 50+\n",
      "1326    Ultimate Sun Protection Cream Broad Spectrum S...\n",
      "1327    MOISTURE BOUND Tinted Treatment Moisturizer SP...\n",
      "1340    Future Solution LX Total Protective Cream Broa...\n",
      "1342            Sports BB Broad Spectrum SPF 50+ WetForce\n",
      "1365    Ultimate Sun Protection Lotion WetForce SPF 50...\n",
      "1376    CC Red Correct Automatic Perfector Broad Spect...\n",
      "1416    Super Fluid UV Mineral Defense Titanium Dioxid...\n",
      "1454    Future Solution LX Total Protective Emulsion B...\n",
      "Name: Name, dtype: object\n"
     ]
    },
    {
     "name": "stderr",
     "output_type": "stream",
     "text": [
      "UsageError: Line magic function `%%capture` not found.\n"
     ]
    }
   ],
   "source": [
    "\n",
    "# for var in var_list:\n",
    "#     var_index = var.index\n",
    "#     var_data = df.loca[var_index] \n",
    "#     print(var_data.iloc[:, 2])\n",
    "    \n",
    "    \n",
    "# Create a list of variables to use in the loop\n",
    "\n",
    "# Iterate over the list of variables\n",
    "# for variable in var_list:\n",
    "#   # Find the index of the rows containing the current variable\n",
    "talc_index = talc_occ.index\n",
    "\n",
    "  # Print the index\n",
    "print(talc_index)\n",
    "\n",
    "  # Get the data for these rows\n",
    "talc_data = df.loc[talc_index]\n",
    "\n",
    "  # Print the data for these rows\n",
    "print(talc_data.iloc[:,2])\n",
    "\n",
    "%%capture cap \n",
    "# print 'stuff'\n",
    "with open('output.txt', 'w') as f:\n",
    "    f.write(cap.stdout)\n",
    "    \n",
    "print_something()\n",
    "with open('/path/to/capture.txt') as f:\n",
    "    f.write(cap.stdout)"
   ]
  },
  {
   "cell_type": "code",
   "execution_count": 10,
   "id": "bcda84a9",
   "metadata": {},
   "outputs": [],
   "source": [
    "master_list = [\n",
    "    silanes_occ, oxybenzone_occ, siloxanes_occ, resorcinol_occ, ethanolamine_occ, formaldehyde_occ, diethanolamine_occ, octinaxate_occ,\n",
    "    parfum_occ, fragrance_occ, triclosan_occ, octinoxates_occ, homosalate_occ, teflon_occ,\n",
    "    talc_occ, parabens_occ, glycol_occ]\n",
    "\n",
    "low_list = [\n",
    "    silanes_occ, oxybenzone_occ, siloxanes_occ, resorcinol_occ, ethanolamine_occ, formaldehyde_occ, diethanolamine_occ, octinaxate_occ,\n",
    "    ]\n",
    "\n",
    "moderate_list = [\n",
    "    parfum_occ, fragrance_occ, triclosan_occ, octinoxates_occ, homosalate_occ, teflon_occ,\n",
    "    ]\n",
    "\n",
    "high_list = [\n",
    "    talc_occ, parabens_occ, glycol_occ\n",
    "]\n",
    "\n"
   ]
  },
  {
   "cell_type": "markdown",
   "id": "854db081",
   "metadata": {},
   "source": [
    "### Add a column that tags the toxcity of the product:\n",
    "\n",
    "    - Low\n",
    "    - Medium\n",
    "    - High"
   ]
  },
  {
   "cell_type": "code",
   "execution_count": null,
   "id": "be6aed79",
   "metadata": {},
   "outputs": [
    {
     "ename": "",
     "evalue": "",
     "output_type": "error",
     "traceback": [
      "\u001b[1;31mRunning cells with 'Python 3.x' requires ipykernel package.\n",
      "\u001b[1;31mRun the following command to install 'ipykernel' into the Python environment. \n",
      "\u001b[1;31mCommand: '/usr/bin/python3 -m pip install ipykernel -U --user --force-reinstall'"
     ]
    }
   ],
   "source": []
  },
  {
   "cell_type": "markdown",
   "id": "a7f65331",
   "metadata": {},
   "source": [
    "### Export the results to a s CSV file that has the new toxicity column to processed"
   ]
  }
 ],
 "metadata": {
  "kernelspec": {
   "display_name": "Python 3.9.13 ('base')",
   "language": "python",
   "name": "python3"
  },
  "language_info": {
   "codemirror_mode": {
    "name": "ipython",
    "version": 3
   },
   "file_extension": ".py",
   "mimetype": "text/x-python",
   "name": "python",
   "nbconvert_exporter": "python",
   "pygments_lexer": "ipython3",
   "version": "3.9.13"
  },
  "vscode": {
   "interpreter": {
    "hash": "0b5c61de2e429f9752d8dbc011c1d8d05e3d8719ce4f9a2a549c70706b4985bf"
   }
  }
 },
 "nbformat": 4,
 "nbformat_minor": 5
}
