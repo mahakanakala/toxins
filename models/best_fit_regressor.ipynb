{
 "cells": [
  {
   "cell_type": "code",
   "execution_count": 1,
   "id": "351edf24",
   "metadata": {},
   "outputs": [],
   "source": [
    "import pandas as pd\n",
    "import numpy as np\n",
    "import seaborn as sns\n",
    "import matplotlib.pyplot as plt"
   ]
  },
  {
   "cell_type": "code",
   "execution_count": 2,
   "id": "0a8ac6cc",
   "metadata": {},
   "outputs": [],
   "source": [
    "df = pd.read_csv('cosmetics.csv')"
   ]
  },
  {
   "cell_type": "code",
   "execution_count": 3,
   "id": "ec25af4c",
   "metadata": {
    "scrolled": true
   },
   "outputs": [
    {
     "data": {
      "text/html": [
       "<div>\n",
       "<style scoped>\n",
       "    .dataframe tbody tr th:only-of-type {\n",
       "        vertical-align: middle;\n",
       "    }\n",
       "\n",
       "    .dataframe tbody tr th {\n",
       "        vertical-align: top;\n",
       "    }\n",
       "\n",
       "    .dataframe thead th {\n",
       "        text-align: right;\n",
       "    }\n",
       "</style>\n",
       "<table border=\"1\" class=\"dataframe\">\n",
       "  <thead>\n",
       "    <tr style=\"text-align: right;\">\n",
       "      <th></th>\n",
       "      <th>Label</th>\n",
       "      <th>Brand</th>\n",
       "      <th>Name</th>\n",
       "      <th>Price</th>\n",
       "      <th>Rank</th>\n",
       "      <th>Ingredients</th>\n",
       "      <th>Combination</th>\n",
       "      <th>Dry</th>\n",
       "      <th>Normal</th>\n",
       "      <th>Oily</th>\n",
       "      <th>Sensitive</th>\n",
       "    </tr>\n",
       "  </thead>\n",
       "  <tbody>\n",
       "    <tr>\n",
       "      <th>0</th>\n",
       "      <td>Moisturizer</td>\n",
       "      <td>LA MER</td>\n",
       "      <td>Crème de la Mer</td>\n",
       "      <td>175</td>\n",
       "      <td>4.1</td>\n",
       "      <td>Algae (Seaweed) Extract, Mineral Oil, Petrolat...</td>\n",
       "      <td>1</td>\n",
       "      <td>1</td>\n",
       "      <td>1</td>\n",
       "      <td>1</td>\n",
       "      <td>1</td>\n",
       "    </tr>\n",
       "    <tr>\n",
       "      <th>1</th>\n",
       "      <td>Moisturizer</td>\n",
       "      <td>SK-II</td>\n",
       "      <td>Facial Treatment Essence</td>\n",
       "      <td>179</td>\n",
       "      <td>4.1</td>\n",
       "      <td>Galactomyces Ferment Filtrate (Pitera), Butyle...</td>\n",
       "      <td>1</td>\n",
       "      <td>1</td>\n",
       "      <td>1</td>\n",
       "      <td>1</td>\n",
       "      <td>1</td>\n",
       "    </tr>\n",
       "    <tr>\n",
       "      <th>2</th>\n",
       "      <td>Moisturizer</td>\n",
       "      <td>DRUNK ELEPHANT</td>\n",
       "      <td>Protini™ Polypeptide Cream</td>\n",
       "      <td>68</td>\n",
       "      <td>4.4</td>\n",
       "      <td>Water, Dicaprylyl Carbonate, Glycerin, Ceteary...</td>\n",
       "      <td>1</td>\n",
       "      <td>1</td>\n",
       "      <td>1</td>\n",
       "      <td>1</td>\n",
       "      <td>0</td>\n",
       "    </tr>\n",
       "    <tr>\n",
       "      <th>3</th>\n",
       "      <td>Moisturizer</td>\n",
       "      <td>LA MER</td>\n",
       "      <td>The Moisturizing Soft Cream</td>\n",
       "      <td>175</td>\n",
       "      <td>3.8</td>\n",
       "      <td>Algae (Seaweed) Extract, Cyclopentasiloxane, P...</td>\n",
       "      <td>1</td>\n",
       "      <td>1</td>\n",
       "      <td>1</td>\n",
       "      <td>1</td>\n",
       "      <td>1</td>\n",
       "    </tr>\n",
       "    <tr>\n",
       "      <th>4</th>\n",
       "      <td>Moisturizer</td>\n",
       "      <td>IT COSMETICS</td>\n",
       "      <td>Your Skin But Better™ CC+™ Cream with SPF 50+</td>\n",
       "      <td>38</td>\n",
       "      <td>4.1</td>\n",
       "      <td>Water, Snail Secretion Filtrate, Phenyl Trimet...</td>\n",
       "      <td>1</td>\n",
       "      <td>1</td>\n",
       "      <td>1</td>\n",
       "      <td>1</td>\n",
       "      <td>1</td>\n",
       "    </tr>\n",
       "  </tbody>\n",
       "</table>\n",
       "</div>"
      ],
      "text/plain": [
       "         Label           Brand                                           Name  \\\n",
       "0  Moisturizer          LA MER                                Crème de la Mer   \n",
       "1  Moisturizer           SK-II                       Facial Treatment Essence   \n",
       "2  Moisturizer  DRUNK ELEPHANT                     Protini™ Polypeptide Cream   \n",
       "3  Moisturizer          LA MER                    The Moisturizing Soft Cream   \n",
       "4  Moisturizer    IT COSMETICS  Your Skin But Better™ CC+™ Cream with SPF 50+   \n",
       "\n",
       "   Price  Rank                                        Ingredients  \\\n",
       "0    175   4.1  Algae (Seaweed) Extract, Mineral Oil, Petrolat...   \n",
       "1    179   4.1  Galactomyces Ferment Filtrate (Pitera), Butyle...   \n",
       "2     68   4.4  Water, Dicaprylyl Carbonate, Glycerin, Ceteary...   \n",
       "3    175   3.8  Algae (Seaweed) Extract, Cyclopentasiloxane, P...   \n",
       "4     38   4.1  Water, Snail Secretion Filtrate, Phenyl Trimet...   \n",
       "\n",
       "   Combination  Dry  Normal  Oily  Sensitive  \n",
       "0            1    1       1     1          1  \n",
       "1            1    1       1     1          1  \n",
       "2            1    1       1     1          0  \n",
       "3            1    1       1     1          1  \n",
       "4            1    1       1     1          1  "
      ]
     },
     "execution_count": 3,
     "metadata": {},
     "output_type": "execute_result"
    }
   ],
   "source": [
    "df.head()"
   ]
  },
  {
   "cell_type": "code",
   "execution_count": 4,
   "id": "a01852c0",
   "metadata": {},
   "outputs": [
    {
     "name": "stdout",
     "output_type": "stream",
     "text": [
      "<class 'pandas.core.frame.DataFrame'>\n",
      "RangeIndex: 1472 entries, 0 to 1471\n",
      "Data columns (total 11 columns):\n",
      " #   Column       Non-Null Count  Dtype  \n",
      "---  ------       --------------  -----  \n",
      " 0   Label        1472 non-null   object \n",
      " 1   Brand        1472 non-null   object \n",
      " 2   Name         1472 non-null   object \n",
      " 3   Price        1472 non-null   int64  \n",
      " 4   Rank         1472 non-null   float64\n",
      " 5   Ingredients  1472 non-null   object \n",
      " 6   Combination  1472 non-null   int64  \n",
      " 7   Dry          1472 non-null   int64  \n",
      " 8   Normal       1472 non-null   int64  \n",
      " 9   Oily         1472 non-null   int64  \n",
      " 10  Sensitive    1472 non-null   int64  \n",
      "dtypes: float64(1), int64(6), object(4)\n",
      "memory usage: 126.6+ KB\n"
     ]
    }
   ],
   "source": [
    "df.info()"
   ]
  },
  {
   "cell_type": "code",
   "execution_count": 5,
   "id": "914fe668",
   "metadata": {},
   "outputs": [],
   "source": [
    "from sklearn.preprocessing import LabelEncoder\n",
    "le = LabelEncoder()\n",
    "df['Brand'] = le.fit_transform(df['Brand'])\n",
    "df['Label'] = le.fit_transform(df['Label'])"
   ]
  },
  {
   "cell_type": "code",
   "execution_count": 6,
   "id": "8b9394c0",
   "metadata": {},
   "outputs": [
    {
     "data": {
      "text/html": [
       "<div>\n",
       "<style scoped>\n",
       "    .dataframe tbody tr th:only-of-type {\n",
       "        vertical-align: middle;\n",
       "    }\n",
       "\n",
       "    .dataframe tbody tr th {\n",
       "        vertical-align: top;\n",
       "    }\n",
       "\n",
       "    .dataframe thead th {\n",
       "        text-align: right;\n",
       "    }\n",
       "</style>\n",
       "<table border=\"1\" class=\"dataframe\">\n",
       "  <thead>\n",
       "    <tr style=\"text-align: right;\">\n",
       "      <th></th>\n",
       "      <th>Label</th>\n",
       "      <th>Brand</th>\n",
       "      <th>Name</th>\n",
       "      <th>Price</th>\n",
       "      <th>Rank</th>\n",
       "      <th>Ingredients</th>\n",
       "      <th>Combination</th>\n",
       "      <th>Dry</th>\n",
       "      <th>Normal</th>\n",
       "      <th>Oily</th>\n",
       "      <th>Sensitive</th>\n",
       "    </tr>\n",
       "  </thead>\n",
       "  <tbody>\n",
       "    <tr>\n",
       "      <th>0</th>\n",
       "      <td>3</td>\n",
       "      <td>64</td>\n",
       "      <td>Crème de la Mer</td>\n",
       "      <td>175</td>\n",
       "      <td>4.1</td>\n",
       "      <td>Algae (Seaweed) Extract, Mineral Oil, Petrolat...</td>\n",
       "      <td>1</td>\n",
       "      <td>1</td>\n",
       "      <td>1</td>\n",
       "      <td>1</td>\n",
       "      <td>1</td>\n",
       "    </tr>\n",
       "    <tr>\n",
       "      <th>1</th>\n",
       "      <td>3</td>\n",
       "      <td>95</td>\n",
       "      <td>Facial Treatment Essence</td>\n",
       "      <td>179</td>\n",
       "      <td>4.1</td>\n",
       "      <td>Galactomyces Ferment Filtrate (Pitera), Butyle...</td>\n",
       "      <td>1</td>\n",
       "      <td>1</td>\n",
       "      <td>1</td>\n",
       "      <td>1</td>\n",
       "      <td>1</td>\n",
       "    </tr>\n",
       "    <tr>\n",
       "      <th>2</th>\n",
       "      <td>3</td>\n",
       "      <td>29</td>\n",
       "      <td>Protini™ Polypeptide Cream</td>\n",
       "      <td>68</td>\n",
       "      <td>4.4</td>\n",
       "      <td>Water, Dicaprylyl Carbonate, Glycerin, Ceteary...</td>\n",
       "      <td>1</td>\n",
       "      <td>1</td>\n",
       "      <td>1</td>\n",
       "      <td>1</td>\n",
       "      <td>0</td>\n",
       "    </tr>\n",
       "    <tr>\n",
       "      <th>3</th>\n",
       "      <td>3</td>\n",
       "      <td>64</td>\n",
       "      <td>The Moisturizing Soft Cream</td>\n",
       "      <td>175</td>\n",
       "      <td>3.8</td>\n",
       "      <td>Algae (Seaweed) Extract, Cyclopentasiloxane, P...</td>\n",
       "      <td>1</td>\n",
       "      <td>1</td>\n",
       "      <td>1</td>\n",
       "      <td>1</td>\n",
       "      <td>1</td>\n",
       "    </tr>\n",
       "    <tr>\n",
       "      <th>4</th>\n",
       "      <td>3</td>\n",
       "      <td>49</td>\n",
       "      <td>Your Skin But Better™ CC+™ Cream with SPF 50+</td>\n",
       "      <td>38</td>\n",
       "      <td>4.1</td>\n",
       "      <td>Water, Snail Secretion Filtrate, Phenyl Trimet...</td>\n",
       "      <td>1</td>\n",
       "      <td>1</td>\n",
       "      <td>1</td>\n",
       "      <td>1</td>\n",
       "      <td>1</td>\n",
       "    </tr>\n",
       "  </tbody>\n",
       "</table>\n",
       "</div>"
      ],
      "text/plain": [
       "   Label  Brand                                           Name  Price  Rank  \\\n",
       "0      3     64                                Crème de la Mer    175   4.1   \n",
       "1      3     95                       Facial Treatment Essence    179   4.1   \n",
       "2      3     29                     Protini™ Polypeptide Cream     68   4.4   \n",
       "3      3     64                    The Moisturizing Soft Cream    175   3.8   \n",
       "4      3     49  Your Skin But Better™ CC+™ Cream with SPF 50+     38   4.1   \n",
       "\n",
       "                                         Ingredients  Combination  Dry  \\\n",
       "0  Algae (Seaweed) Extract, Mineral Oil, Petrolat...            1    1   \n",
       "1  Galactomyces Ferment Filtrate (Pitera), Butyle...            1    1   \n",
       "2  Water, Dicaprylyl Carbonate, Glycerin, Ceteary...            1    1   \n",
       "3  Algae (Seaweed) Extract, Cyclopentasiloxane, P...            1    1   \n",
       "4  Water, Snail Secretion Filtrate, Phenyl Trimet...            1    1   \n",
       "\n",
       "   Normal  Oily  Sensitive  \n",
       "0       1     1          1  \n",
       "1       1     1          1  \n",
       "2       1     1          0  \n",
       "3       1     1          1  \n",
       "4       1     1          1  "
      ]
     },
     "execution_count": 6,
     "metadata": {},
     "output_type": "execute_result"
    }
   ],
   "source": [
    "df.head()"
   ]
  },
  {
   "cell_type": "code",
   "execution_count": 21,
   "id": "928b805e",
   "metadata": {},
   "outputs": [
    {
     "ename": "AttributeError",
     "evalue": "'numpy.ndarray' object has no attribute 'drop'",
     "output_type": "error",
     "traceback": [
      "\u001b[0;31m---------------------------------------------------------------------------\u001b[0m",
      "\u001b[0;31mAttributeError\u001b[0m                            Traceback (most recent call last)",
      "\u001b[0;32m/var/folders/mw/fc5wj4ns76x4xcwycqk0_bt00000gn/T/ipykernel_58207/2748961158.py\u001b[0m in \u001b[0;36m<module>\u001b[0;34m\u001b[0m\n\u001b[0;32m----> 1\u001b[0;31m \u001b[0mx\u001b[0m \u001b[0;34m=\u001b[0m \u001b[0mdf\u001b[0m\u001b[0;34m.\u001b[0m\u001b[0mdrop\u001b[0m\u001b[0;34m(\u001b[0m\u001b[0;34m[\u001b[0m\u001b[0;34m'Rank'\u001b[0m\u001b[0;34m]\u001b[0m\u001b[0;34m,\u001b[0m \u001b[0maxis\u001b[0m \u001b[0;34m=\u001b[0m \u001b[0;36m1\u001b[0m\u001b[0;34m)\u001b[0m\u001b[0;34m.\u001b[0m\u001b[0mvalues\u001b[0m\u001b[0;34m\u001b[0m\u001b[0;34m\u001b[0m\u001b[0m\n\u001b[0m\u001b[1;32m      2\u001b[0m \u001b[0my\u001b[0m \u001b[0;34m=\u001b[0m \u001b[0mdf\u001b[0m\u001b[0;34m[\u001b[0m\u001b[0;34m'Rank'\u001b[0m\u001b[0;34m]\u001b[0m\u001b[0;34m.\u001b[0m\u001b[0mvalues\u001b[0m\u001b[0;34m\u001b[0m\u001b[0;34m\u001b[0m\u001b[0m\n\u001b[1;32m      3\u001b[0m \u001b[0my\u001b[0m\u001b[0;34m.\u001b[0m\u001b[0mresize\u001b[0m\u001b[0;34m(\u001b[0m\u001b[0;36m1472\u001b[0m\u001b[0;34m,\u001b[0m\u001b[0;36m1\u001b[0m\u001b[0;34m)\u001b[0m\u001b[0;34m\u001b[0m\u001b[0;34m\u001b[0m\u001b[0m\n",
      "\u001b[0;31mAttributeError\u001b[0m: 'numpy.ndarray' object has no attribute 'drop'"
     ]
    }
   ],
   "source": [
    "x = df.drop(['Rank'], axis = 1).values\n",
    "y = df['Rank'].values\n",
    "y.resize(1472,1)"
   ]
  },
  {
   "cell_type": "code",
   "execution_count": 2,
   "id": "991bf67f",
   "metadata": {},
   "outputs": [],
   "source": [
    "from sklearn.model_selection import train_test_split"
   ]
  },
  {
   "cell_type": "code",
   "execution_count": 3,
   "id": "f0d543aa",
   "metadata": {},
   "outputs": [
    {
     "ename": "NameError",
     "evalue": "name 'x' is not defined",
     "output_type": "error",
     "traceback": [
      "\u001b[0;31m---------------------------------------------------------------------------\u001b[0m",
      "\u001b[0;31mNameError\u001b[0m                                 Traceback (most recent call last)",
      "\u001b[0;32m/var/folders/mw/fc5wj4ns76x4xcwycqk0_bt00000gn/T/ipykernel_59459/4270215748.py\u001b[0m in \u001b[0;36m<module>\u001b[0;34m\u001b[0m\n\u001b[0;32m----> 1\u001b[0;31m \u001b[0mx_train\u001b[0m\u001b[0;34m,\u001b[0m \u001b[0mx_test\u001b[0m\u001b[0;34m,\u001b[0m \u001b[0my_train\u001b[0m\u001b[0;34m,\u001b[0m \u001b[0my_test\u001b[0m \u001b[0;34m=\u001b[0m \u001b[0mtrain_test_split\u001b[0m\u001b[0;34m(\u001b[0m\u001b[0mx\u001b[0m\u001b[0;34m,\u001b[0m \u001b[0my\u001b[0m\u001b[0;34m,\u001b[0m \u001b[0mtest_size\u001b[0m\u001b[0;34m=\u001b[0m\u001b[0;36m0.33\u001b[0m\u001b[0;34m,\u001b[0m \u001b[0mrandom_state\u001b[0m\u001b[0;34m=\u001b[0m\u001b[0;36m42\u001b[0m\u001b[0;34m)\u001b[0m\u001b[0;34m\u001b[0m\u001b[0;34m\u001b[0m\u001b[0m\n\u001b[0m",
      "\u001b[0;31mNameError\u001b[0m: name 'x' is not defined"
     ]
    }
   ],
   "source": [
    "x_train, x_test, y_train, y_test = train_test_split(x, y, test_size=0.33, random_state=42)"
   ]
  },
  {
   "cell_type": "code",
   "execution_count": null,
   "id": "30be0044",
   "metadata": {},
   "outputs": [],
   "source": [
    "from sklearn.metrics import mean_squared_error, r2_score\n",
    "from math import sqrt"
   ]
  },
  {
   "cell_type": "markdown",
   "id": "8e764d97",
   "metadata": {},
   "source": [
    "### Neighbor Regression Model"
   ]
  },
  {
   "cell_type": "code",
   "execution_count": 1,
   "id": "dc904082",
   "metadata": {},
   "outputs": [
    {
     "ename": "NameError",
     "evalue": "name 'x_train' is not defined",
     "output_type": "error",
     "traceback": [
      "\u001b[0;31m---------------------------------------------------------------------------\u001b[0m",
      "\u001b[0;31mNameError\u001b[0m                                 Traceback (most recent call last)",
      "\u001b[0;32m/var/folders/mw/fc5wj4ns76x4xcwycqk0_bt00000gn/T/ipykernel_59459/1296041925.py\u001b[0m in \u001b[0;36m<module>\u001b[0;34m\u001b[0m\n\u001b[1;32m      1\u001b[0m \u001b[0;32mfrom\u001b[0m \u001b[0msklearn\u001b[0m\u001b[0;34m.\u001b[0m\u001b[0mneighbors\u001b[0m \u001b[0;32mimport\u001b[0m \u001b[0mKNeighborsRegressor\u001b[0m\u001b[0;34m\u001b[0m\u001b[0;34m\u001b[0m\u001b[0m\n\u001b[1;32m      2\u001b[0m \u001b[0mkn\u001b[0m \u001b[0;34m=\u001b[0m \u001b[0mKNeighborsRegressor\u001b[0m\u001b[0;34m(\u001b[0m\u001b[0;34m)\u001b[0m\u001b[0;34m\u001b[0m\u001b[0;34m\u001b[0m\u001b[0m\n\u001b[0;32m----> 3\u001b[0;31m \u001b[0mkn\u001b[0m\u001b[0;34m.\u001b[0m\u001b[0mfit\u001b[0m\u001b[0;34m(\u001b[0m\u001b[0mx_train\u001b[0m\u001b[0;34m,\u001b[0m\u001b[0my_train\u001b[0m\u001b[0;34m)\u001b[0m\u001b[0;34m\u001b[0m\u001b[0;34m\u001b[0m\u001b[0m\n\u001b[0m\u001b[1;32m      4\u001b[0m \u001b[0my_pred\u001b[0m \u001b[0;34m=\u001b[0m \u001b[0mkn\u001b[0m\u001b[0;34m.\u001b[0m\u001b[0mpredict\u001b[0m\u001b[0;34m(\u001b[0m\u001b[0mx_test\u001b[0m\u001b[0;34m)\u001b[0m\u001b[0;34m\u001b[0m\u001b[0;34m\u001b[0m\u001b[0m\n\u001b[1;32m      5\u001b[0m \u001b[0mer_kn\u001b[0m \u001b[0;34m=\u001b[0m \u001b[0mmean_squared_error\u001b[0m\u001b[0;34m(\u001b[0m\u001b[0my_test\u001b[0m\u001b[0;34m,\u001b[0m\u001b[0my_pred\u001b[0m\u001b[0;34m)\u001b[0m\u001b[0;34m\u001b[0m\u001b[0;34m\u001b[0m\u001b[0m\n",
      "\u001b[0;31mNameError\u001b[0m: name 'x_train' is not defined"
     ]
    }
   ],
   "source": [
    "from sklearn.neighbors import KNeighborsRegressor\n",
    "kn = KNeighborsRegressor()\n",
    "kn.fit(x_train,y_train)\n",
    "y_pred = kn.predict(x_test)\n",
    "er_kn = mean_squared_error(y_test,y_pred)\n",
    "r2_kn = r2_score(y_test,y_pred)\n",
    "ss_kn = 1-r2_kn\n",
    "rmse_kn = sqrt(er_kn)\n",
    "print('mean squared error: ',er_kn)\n",
    "print('r2 score: ', r2_kn)\n",
    "print('sum of square error: ', ss_kn)\n",
    "print('root mean square error: ', rmse_kn)\n",
    "#ac_kn = accuracy_score(y_test,y_pred)\n",
    "#print('accuracy score: ', ac_kn)\n",
    "#print('confusion matrix: ', confusion_matrix(y_test,y_pred))\n",
    "#fpr,tpr,threshold = roc_curve(y_test,y_pred)\n",
    "#rc_kn = auc(fpr,tpr)\n",
    "#print('ROC curve: ', rc_kn)"
   ]
  },
  {
   "cell_type": "code",
   "execution_count": null,
   "id": "bdffd7fa",
   "metadata": {
    "scrolled": true
   },
   "outputs": [],
   "source": [
    "from sklearn.svm import SVR\n",
    "sv = SVR(kernel='linear')\n",
    "sv.fit(x_train,y_train)\n",
    "y_pred = sv.predict(x_test)\n",
    "er_sv = mean_squared_error(y_test,y_pred)\n",
    "r2_sv = r2_score(y_test,y_pred)\n",
    "ss_sv = 1-r2_sv\n",
    "rmse_sv = sqrt(er_sv)\n",
    "print('mean squared error: ',er_sv)\n",
    "print('r2 score: ', r2_sv)\n",
    "print('sum of square error: ', ss_sv)\n",
    "print('root mean square error: ', rmse_sv)\n",
    "#ac_sv = accuracy_score(y_test,y_pred)\n",
    "#print('accuracy score: ', ac_sv)\n",
    "#print('confusion matrix: ', confusion_matrix(y_test,y_pred))\n",
    "#fpr,tpr,threshold = roc_curve(y_test,y_pred)\n",
    "#rc_sv = auc(fpr,tpr)\n",
    "#print('ROC curve: ', rc_sv)"
   ]
  },
  {
   "cell_type": "code",
   "execution_count": null,
   "id": "6df9f7cb",
   "metadata": {},
   "outputs": [],
   "source": [
    "from sklearn.svm import SVR\n",
    "sr = SVR(kernel='rbf')\n",
    "sr.fit(x_train,y_train)\n",
    "y_pred = sr.predict(x_test)\n",
    "er_sr = mean_squared_error(y_test,y_pred)\n",
    "r2_sr = r2_score(y_test,y_pred)\n",
    "ss_sr = 1-r2_sr\n",
    "rmse_sr = sqrt(er_sr)\n",
    "print('mean squared error: ',er_sr)\n",
    "print('r2 score: ', r2_sr)\n",
    "print('sum of square error: ', ss_sr)\n",
    "print('root mean square error: ', rmse_sr)\n",
    "#ac_sr = accuracy_score(y_test,y_pred)\n",
    "#print('accuracy score: ', ac_sr)\n",
    "#print('confusion matrix: ', confusion_matrix(y_test,y_pred))\n",
    "#fpr,tpr,threshold = roc_curve(y_test,y_pred)\n",
    "#rc_sr = auc(fpr,tpr)\n",
    "#print('ROC curve: ', rc_sr)"
   ]
  },
  {
   "cell_type": "code",
   "execution_count": null,
   "id": "3361c4a4",
   "metadata": {},
   "outputs": [],
   "source": [
    "from sklearn.svm import SVR\n",
    "sp = SVR(kernel='poly')\n",
    "sp.fit(x_train,y_train)\n",
    "y_pred = sp.predict(x_test)\n",
    "er_sp = mean_squared_error(y_test,y_pred)\n",
    "r2_sp = r2_score(y_test,y_pred)\n",
    "ss_sp = 1-r2_sp\n",
    "rmse_sp = sqrt(er_sp)\n",
    "print('mean squared error: ',er_sp)\n",
    "print('r2 score: ', r2_sp)\n",
    "print('sum of square error: ', ss_sp)\n",
    "print('root mean square error: ', rmse_sp)\n",
    "#ac_sp = accuracy_score(y_test,y_pred)\n",
    "#print('accuracy score: ', ac_sp)\n",
    "#print('confusion matrix: ', confusion_matrix(y_test,y_pred))\n",
    "#fpr,tpr,threshold = roc_curve(y_test,y_pred)\n",
    "#rc_sp = auc(fpr,tpr)\n",
    "#print('ROC curve: ', rc_sp)"
   ]
  },
  {
   "cell_type": "code",
   "execution_count": null,
   "id": "bcc0d10a",
   "metadata": {},
   "outputs": [],
   "source": [
    "from sklearn.svm import SVR\n",
    "ss = SVR(kernel='sigmoid')\n",
    "ss.fit(x_train,y_train)\n",
    "y_pred = ss.predict(x_test)\n",
    "er_ss = mean_squared_error(y_test,y_pred)\n",
    "r2_ss = r2_score(y_test,y_pred)\n",
    "ss_ss = 1-r2_ss\n",
    "rmse_ss = sqrt(er_ss)\n",
    "print('mean squared error: ',er_ss)\n",
    "print('r2 score: ', r2_ss)\n",
    "print('sum of square error: ', ss_ss)\n",
    "print('root mean square error: ', rmse_ss)\n",
    "#ac_ss = accuracy_score(y_test,y_pred)\n",
    "#print('accuracy score: ', ac_ss)\n",
    "#print('confusion matrix: ', confusion_matrix(y_test,y_pred))\n",
    "#fpr,tpr,threshold = roc_curve(y_test,y_pred)\n",
    "#rc_ss = auc(fpr,tpr)\n",
    "#print('ROC curve: ', rc_ss)"
   ]
  },
  {
   "cell_type": "code",
   "execution_count": null,
   "id": "1b792fed",
   "metadata": {},
   "outputs": [],
   "source": [
    "from sklearn.tree import DecisionTreeRegressor\n",
    "dt = DecisionTreeRegressor()\n",
    "dt.fit(x_train,y_train)\n",
    "y_pred = dt.predict(x_test)\n",
    "er_dt = mean_squared_error(y_test,y_pred)\n",
    "r2_dt = r2_score(y_test,y_pred)\n",
    "ss_dt = 1-r2_dt\n",
    "rmse_dt = sqrt(er_dt)\n",
    "print('mean squared error: ',er_dt)\n",
    "print('r2 score: ', r2_dt)\n",
    "print('sum of square error: ', ss_dt)\n",
    "print('root mean square error: ', rmse_dt)\n",
    "#ac_dt = accuracy_score(y_test,y_pred)\n",
    "#print('accuracy score: ', ac_dt)\n",
    "#print('confusion matrix: ', confusion_matrix(y_test,y_pred))\n",
    "#fpr,tpr,threshold = roc_curve(y_test,y_pred)\n",
    "#rc_dt = auc(fpr,tpr)\n",
    "#print('ROC curve: ', rc_dt)"
   ]
  },
  {
   "cell_type": "markdown",
   "id": "9d9d7489",
   "metadata": {},
   "source": [
    "### ExtraTree Regression Model"
   ]
  },
  {
   "cell_type": "code",
   "execution_count": null,
   "id": "d3fe1988",
   "metadata": {},
   "outputs": [],
   "source": [
    "from sklearn.tree import ExtraTreeRegressor\n",
    "ec = ExtraTreeRegressor()\n",
    "ec.fit(x_train,y_train)\n",
    "y_pred = ec.predict(x_test)\n",
    "er_ec = mean_squared_error(y_test,y_pred)\n",
    "r2_ec = r2_score(y_test,y_pred)\n",
    "ss_ec = 1-r2_ec\n",
    "rmse_ec = sqrt(er_ec)\n",
    "print('mean squared error: ',er_ec)\n",
    "print('r2 score: ', r2_ec)\n",
    "print('sum of square error: ', ss_ec)\n",
    "print('root mean square error: ', rmse_ec)\n",
    "#ac_ec = accuracy_score(y_test,y_pred)\n",
    "#print('accuracy score: ', ac_ec)\n",
    "#print('confusion matrix: ', confusion_matrix(y_test,y_pred))\n",
    "#fpr,tpr,threshold = roc_curve(y_test,y_pred)\n",
    "#rc_ec = auc(fpr,tpr)\n",
    "#print('ROC curve: ', rc_ec)"
   ]
  },
  {
   "cell_type": "code",
   "execution_count": null,
   "id": "16efdd08",
   "metadata": {},
   "outputs": [],
   "source": [
    "from sklearn.ensemble import RandomForestRegressor\n",
    "rf = RandomForestRegressor(n_estimators=1000)\n",
    "rf.fit(x_train,y_train)\n",
    "y_pred = rf.predict(x_test)\n",
    "er_rf = mean_squared_error(y_test,y_pred)\n",
    "r2_rf = r2_score(y_test,y_pred)\n",
    "ss_rf = 1-r2_rf\n",
    "rmse_rf = sqrt(er_rf)\n",
    "print('mean squared error: ',er_rf)\n",
    "print('r2 score: ', r2_rf)\n",
    "print('sum of square error: ', ss_rf)\n",
    "print('root mean square error: ', rmse_rf)\n",
    "#ac_rf = accuracy_score(y_test,y_pred)\n",
    "#print('accuracy score: ', ac_rf)\n",
    "#print('confusion matrix: ', confusion_matrix(y_test,y_pred))\n",
    "#fpr,tpr,threshold = roc_curve(y_test,y_pred)\n",
    "#rc_rf = auc(fpr,tpr)\n",
    "#print('ROC curve: ', rc_rf)"
   ]
  },
  {
   "cell_type": "code",
   "execution_count": null,
   "id": "91ad5647",
   "metadata": {},
   "outputs": [],
   "source": [
    "from sklearn.ensemble import GradientBoostingRegressor\n",
    "gbc = GradientBoostingRegressor(n_estimators=100)\n",
    "gbc.fit(x_train,y_train)\n",
    "y_pred = gbc.predict(x_test)\n",
    "er_gbc = mean_squared_error(y_test,y_pred)\n",
    "r2_gbc = r2_score(y_test,y_pred)\n",
    "ss_gbc = 1-r2_gbc\n",
    "rmse_gbc = sqrt(er_gbc)\n",
    "print('mean squared error: ',er_gbc)\n",
    "print('r2 score: ', r2_gbc)\n",
    "print('sum of square error: ', ss_gbc)\n",
    "print('root mean square error: ', rmse_gbc)\n",
    "#ac_gbc = accuracy_score(y_test,y_pred)\n",
    "#print('accuracy score: ', ac_gbc)\n",
    "#print('confusion matrix: ', confusion_matrix(y_test,y_pred))\n",
    "#fpr,tpr,threshold = roc_curve(y_test,y_pred)\n",
    "#rc_gbc = auc(fpr,tpr)\n",
    "#print('ROC curve: ', rc_gbc)"
   ]
  },
  {
   "cell_type": "code",
   "execution_count": null,
   "id": "86807c6e",
   "metadata": {},
   "outputs": [],
   "source": [
    "from sklearn.ensemble import AdaBoostRegressor\n",
    "abc = AdaBoostRegressor(n_estimators=100)\n",
    "abc.fit(x_train,y_train)\n",
    "y_pred = abc.predict(x_test)\n",
    "er_abc = mean_squared_error(y_test,y_pred)\n",
    "r2_abc = r2_score(y_test,y_pred)\n",
    "ss_abc = 1-r2_abc\n",
    "rmse_abc = sqrt(er_abc)\n",
    "print('mean squared error: ',er_abc)\n",
    "print('r2 score: ', r2_abc)\n",
    "print('sum of square error: ', ss_abc)\n",
    "print('root mean square error: ', rmse_abc)\n",
    "#ac_abc = accuracy_score(y_test,y_pred)\n",
    "#print('accuracy score: ', ac_abc)\n",
    "#print('confusion matrix: ', confusion_matrix(y_test,y_pred))\n",
    "#fpr,tpr,threshold = roc_curve(y_test,y_pred)\n",
    "#rc_abc = auc(fpr,tpr)\n",
    "#print('ROC curve: ', rc_abc)"
   ]
  },
  {
   "cell_type": "code",
   "execution_count": null,
   "id": "a15abf15",
   "metadata": {},
   "outputs": [],
   "source": [
    "from sklearn.ensemble import BaggingRegressor\n",
    "bc = BaggingRegressor(n_estimators=1000)\n",
    "bc.fit(x_train,y_train)\n",
    "y_pred = bc.predict(x_test)\n",
    "er_bc = mean_squared_error(y_test,y_pred)\n",
    "r2_bc = r2_score(y_test,y_pred)\n",
    "ss_bc = 1-r2_bc\n",
    "rmse_bc = sqrt(er_bc)\n",
    "print('mean squared error: ',er_bc)\n",
    "print('r2 score: ', r2_bc)\n",
    "print('sum of square error: ', ss_bc)\n",
    "print('root mean square error: ', rmse_bc)\n",
    "#ac_bc = accuracy_score(y_test,y_pred)\n",
    "#print('accuracy score: ', ac_bc)\n",
    "#print('confusion matrix: ', confusion_matrix(y_test,y_pred))\n",
    "#fpr,tpr,threshold = roc_curve(y_test,y_pred)\n",
    "#rc_bc = auc(fpr,tpr)\n",
    "#print('ROC curve: ', rc_bc)"
   ]
  },
  {
   "cell_type": "code",
   "execution_count": null,
   "id": "5a584db3",
   "metadata": {},
   "outputs": [],
   "source": [
    "from xgboost import XGBRegressor\n",
    "xg = XGBRegressor(n_estimators=1000)\n",
    "xg.fit(x_train,y_train)\n",
    "y_pred = xg.predict(x_test)\n",
    "er_xg = mean_squared_error(y_test,y_pred)\n",
    "r2_xg = r2_score(y_test,y_pred)\n",
    "ss_xg = 1-r2_xg\n",
    "rmse_xg = sqrt(er_xg)\n",
    "print('mean squared error: ',er_xg)\n",
    "print('r2 score: ', r2_xg)\n",
    "print('sum of square error: ', ss_xg)\n",
    "print('root mean square error: ', rmse_xg)\n",
    "#ac_xg = accuracy_score(y_test,y_pred)\n",
    "#print('accuracy score: ', ac_xg)\n",
    "#print('confusion matrix: ', confusion_matrix(y_test,y_pred))\n",
    "#fpr,tpr,threshold = roc_curve(y_test,y_pred)\n",
    "#rc_xg = auc(fpr,tpr)\n",
    "#print('ROC curve: ', rc_xg)"
   ]
  },
  {
   "cell_type": "code",
   "execution_count": null,
   "id": "455dd5b7",
   "metadata": {},
   "outputs": [],
   "source": [
    "from xgboost import XGBRFRegressor\n",
    "xgrf = XGBRFRegressor(n_estimators=1000)\n",
    "xgrf.fit(x_train,y_train)\n",
    "y_pred = xgrf.predict(x_test)\n",
    "er_xgrf = mean_squared_error(y_test,y_pred)\n",
    "r2_xgrf = r2_score(y_test,y_pred)\n",
    "ss_xgrf = 1-r2_xgrf\n",
    "rmse_xgrf = sqrt(er_xgrf)\n",
    "print('mean squared error: ',er_xgrf)\n",
    "print('r2 score: ', r2_xgrf)\n",
    "print('sum of square error: ', ss_xgrf)\n",
    "print('root mean square error: ', rmse_xgrf)\n",
    "#ac_xgrf = accuracy_score(y_test,y_pred)\n",
    "#print('accuracy score: ', ac_xgrf)\n",
    "#print('confusion matrix: ', confusion_matrix(y_test,y_pred))\n",
    "#fpr,tpr,threshold = roc_curve(y_test,y_pred)\n",
    "#rc_xgrf = auc(fpr,tpr)\n",
    "#print('ROC curve: ', rc_xgrf)"
   ]
  },
  {
   "cell_type": "code",
   "execution_count": null,
   "id": "3dda44be",
   "metadata": {},
   "outputs": [],
   "source": [
    "from sklearn.ensemble import VotingRegressor\n",
    "vr = VotingRegressor(estimators=[('rf',rf),('gb',gbc),('xgb',xg)])\n",
    "vr.fit(x_train,y_train)\n",
    "y_pred = vr.predict(x_test)\n",
    "er_vr = mean_squared_error(y_test,y_pred)\n",
    "r2_vr = r2_score(y_test,y_pred)\n",
    "ss_vr = 1-r2_vr\n",
    "rmse_vr = sqrt(er_vr)\n",
    "print('mean squared error: ',er_vr)\n",
    "print('r2 score: ', r2_vr)\n",
    "print('sum of square error: ', ss_vr)\n",
    "print('root mean square error: ', rmse_vr)\n",
    "#ac_vr = accuracy_score(y_test,y_pred)\n",
    "#print('accuracy score: ', ac_vr)\n",
    "#print('confusion matrix: ', confusion_matrix(y_test,y_pred))\n",
    "#fpr,tpr,threshold = roc_curve(y_test,y_pred)\n",
    "#rc_vr = auc(fpr,tpr)\n",
    "#print('ROC curve: ', rc_vr)"
   ]
  },
  {
   "cell_type": "code",
   "execution_count": null,
   "id": "76a572d8",
   "metadata": {},
   "outputs": [],
   "source": [
    "#ac = [ac_lr,ac_kn,ac_sv,ac_sr,ac_sp,ac_ss,ac_dt,ac_ec,ac_rf,ac_gbc,ac_abc,ac_bc,ac_xg,ac_xgrf,ac_vr]\n",
    "#rc = [rc_kn,rc_sv,rc_sr,rc_sp,rc_ss,rc_dt,rc_ec,rc_rf,rc_gbc,rc_abc,rc_bc,rc_xg,rc_xgrf,rc_vr]\n",
    "er = [er_kn,er_sv,er_sr,er_sp,er_ss,er_dt,er_ec,er_rf,er_gbc,er_abc,er_bc,er_xg,er_xgrf,er_vr]\n",
    "r2 = [r2_kn,r2_sv,r2_sr,r2_sp,r2_ss,r2_dt,r2_ec,r2_rf,r2_gbc,r2_abc,r2_bc,r2_xg,r2_xgrf,r2_vr]\n",
    "ss = [ss_kn,ss_sv,ss_sr,ss_sp,ss_ss,ss_dt,ss_ec,ss_rf,ss_gbc,ss_abc,ss_bc,ss_xg,ss_xgrf,ss_vr]\n",
    "rmse = [rmse_kn,rmse_sv,rmse_sr,rmse_sp,rmse_ss,rmse_dt,rmse_ec,rmse_rf,rmse_gbc,rmse_abc,rmse_bc,rmse_xg,rmse_xgrf,rmse_vr]\n",
    "name = ['KNN','SVR','RSVR','PSVR','SSVR','DT','ET','RF','GB','AB','BC','XGB','XGBRF','VR']"
   ]
  },
  {
   "cell_type": "code",
   "execution_count": null,
   "id": "acaa6906",
   "metadata": {},
   "outputs": [],
   "source": [
    "#plt.bar(name,ac)\n",
    "#plt.title(\"Best Algorithm\")\n",
    "#plt.xlabel(\"Algorithm\")\n",
    "#plt.ylabel(\"Accuracy Value\")\n",
    "#plt.show()"
   ]
  },
  {
   "cell_type": "code",
   "execution_count": null,
   "id": "4cd16bba",
   "metadata": {},
   "outputs": [],
   "source": [
    "plt.bar(name,r2)\n",
    "plt.title(\"Best Algorithm\")\n",
    "plt.xlabel(\"Algorithm\")\n",
    "plt.ylabel(\"R2 Score\")\n",
    "plt.show()"
   ]
  },
  {
   "cell_type": "code",
   "execution_count": null,
   "id": "6558ddea",
   "metadata": {
    "scrolled": true
   },
   "outputs": [],
   "source": [
    "plt.bar(name,ss)\n",
    "plt.title(\"Best Algorithm\")\n",
    "plt.xlabel(\"Algorithm\")\n",
    "plt.ylabel(\"Sum of Square\")\n",
    "plt.show()"
   ]
  },
  {
   "cell_type": "code",
   "execution_count": null,
   "id": "6e7f8892",
   "metadata": {},
   "outputs": [],
   "source": [
    "plt.bar(name,er)\n",
    "plt.title(\"Best Algorithm\")\n",
    "plt.xlabel(\"Algorithm\")\n",
    "plt.ylabel(\"Mean Squared Error\")\n",
    "plt.show()"
   ]
  },
  {
   "cell_type": "code",
   "execution_count": null,
   "id": "b9508372",
   "metadata": {},
   "outputs": [],
   "source": [
    "plt.bar(name,rmse)\n",
    "plt.title(\"Best Algorithm\")\n",
    "plt.xlabel(\"Algorithm\")\n",
    "plt.ylabel(\"Root Mean Squared Error\")\n",
    "plt.show()"
   ]
  },
  {
   "cell_type": "code",
   "execution_count": null,
   "id": "388a4f13",
   "metadata": {
    "scrolled": true
   },
   "outputs": [],
   "source": [
    "#print(pd.DataFrame(ac).mean())\n",
    "print(pd.DataFrame(er).mean())"
   ]
  },
  {
   "cell_type": "code",
   "execution_count": null,
   "id": "021e3746",
   "metadata": {},
   "outputs": [],
   "source": [
    "#print(pd.DataFrame(ac).mode())\n",
    "print(pd.DataFrame(er).mode())"
   ]
  },
  {
   "cell_type": "markdown",
   "id": "8de3aef6",
   "metadata": {},
   "source": [
    "temp = []\n",
    "a = []\n",
    "r = []\n",
    "for i in range(16):\n",
    "    if ac[i] > 0.87 and rc[i] > 0.6:\n",
    "        temp.append(name[i])\n",
    "        a.append(round(ac[i],2))\n",
    "        r.append(round(rc[i],2))"
   ]
  },
  {
   "cell_type": "markdown",
   "id": "cf8e3632",
   "metadata": {},
   "source": [
    "print(temp)\n",
    "print(a)\n",
    "print(r)"
   ]
  },
  {
   "cell_type": "code",
   "execution_count": null,
   "id": "856afc7c",
   "metadata": {},
   "outputs": [],
   "source": [
    "# pandas_profiling and autoviz.AutoViz_Class import AutoViz_Class\n",
    "# AUTO VIML"
   ]
  },
  {
   "cell_type": "code",
   "execution_count": null,
   "id": "46206789",
   "metadata": {},
   "outputs": [],
   "source": [
    "from sklearn.linear_model import Lasso, Ridge"
   ]
  },
  {
   "cell_type": "code",
   "execution_count": null,
   "id": "004d1e36",
   "metadata": {},
   "outputs": [],
   "source": [
    "ls = Lasso()\n",
    "ls.fit(x_train,y_train)\n",
    "y_pred = ls.predict(x_test)"
   ]
  },
  {
   "cell_type": "code",
   "execution_count": null,
   "id": "a82fe188",
   "metadata": {},
   "outputs": [],
   "source": [
    "rs = Ridge()\n",
    "rs.fit(x_train,y_train)\n",
    "y_pred = rs.predict(x_test)"
   ]
  }
 ],
 "metadata": {
  "kernelspec": {
   "display_name": "Python 3.9.13 ('base')",
   "language": "python",
   "name": "python3"
  },
  "language_info": {
   "codemirror_mode": {
    "name": "ipython",
    "version": 3
   },
   "file_extension": ".py",
   "mimetype": "text/x-python",
   "name": "python",
   "nbconvert_exporter": "python",
   "pygments_lexer": "ipython3",
   "version": "3.9.13"
  },
  "vscode": {
   "interpreter": {
    "hash": "0b5c61de2e429f9752d8dbc011c1d8d05e3d8719ce4f9a2a549c70706b4985bf"
   }
  }
 },
 "nbformat": 4,
 "nbformat_minor": 5
}
